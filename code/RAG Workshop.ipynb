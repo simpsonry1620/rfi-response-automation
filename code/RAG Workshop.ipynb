{
 "cells": [
  {
   "cell_type": "markdown",
   "metadata": {},
   "source": [
    "# Retrieval-Augmented Generation (RAG) with NVIDIA NIM Endpoints\n",
    "\n",
    "This notebook demonstrates how to implement a RAG workflow for RFI Responses\n"
   ]
  },
  {
   "cell_type": "markdown",
   "metadata": {},
   "source": [
    "## Pull NVIDIA SDKs\n",
    "Fetches the latest information on NVIDIA SDKs from our NVIDIA Developer website. This information is ultimately used to inform our language model"
   ]
  },
  {
   "cell_type": "code",
   "execution_count": 1,
   "metadata": {
    "scrolled": true
   },
   "outputs": [
    {
     "name": "stdout",
     "output_type": "stream",
     "text": [
      "[2025-02-04 21:18:48] Starting scraping process...\n",
      "[2025-02-04 21:18:50] Filtered content due to 'On-Demand Videos': On-Demand Videos...\n",
      "[2025-02-04 21:18:50] Filtered content due to 'Read More': Read More...\n",
      "[2025-02-04 21:18:50] Filtered content due to 'Read More': Read More...\n",
      "[2025-02-04 21:18:50] Filtered content due to 'Read More': Read More...\n",
      "[2025-02-04 21:18:50] Filtered content due to 'Read More': Read More...\n",
      "[2025-02-04 21:18:50] Filtered content due to 'Read More': Read More...\n",
      "[2025-02-04 21:18:50] Filtered content due to 'Read More': Read More...\n",
      "[2025-02-04 21:18:50] Filtered content due to 'Read More': Read More...\n",
      "[2025-02-04 21:18:50] Filtered content due to 'On-Demand Videos': On-Demand Videos...\n",
      "[2025-02-04 21:18:50] Processed 1/115: https://developer.nvidia.com/\n",
      "[2025-02-04 21:18:50] Processed 2/115: https://developer.nvidia.com/OSMO\n",
      "[2025-02-04 21:18:51] Filtered content due to 'Resources': Resources...\n",
      "[2025-02-04 21:18:51] Filtered content due to 'Resources': Resources...\n",
      "[2025-02-04 21:18:51] Processed 3/115: https://developer.nvidia.com/TAO\n",
      "[2025-02-04 21:18:51] Processed 4/115: https://developer.nvidia.com/aerial\n",
      "[2025-02-04 21:18:51] Filtered content due to 'NGC Catalog Resources': NGC Catalog Resources...\n",
      "[2025-02-04 21:18:51] Filtered content due to 'Developer Blogs': Developer Blogs...\n",
      "[2025-02-04 21:18:51] Filtered content due to 'Developer News': Developer News...\n",
      "[2025-02-04 21:18:51] Filtered content due to 'GTC Sessions': GTC Sessions...\n",
      "[2025-02-04 21:18:51] Filtered content due to 'Webinars': Webinars...\n",
      "[2025-02-04 21:18:51] Filtered content due to 'NGC Catalog Resources': NGC Catalog Resources...\n",
      "[2025-02-04 21:18:51] Filtered content due to 'NGC Catalog Resources': NGC Catalog Resources...\n",
      "[2025-02-04 21:18:51] Filtered content due to 'Developer Blogs': Developer Blogs...\n",
      "[2025-02-04 21:18:51] Filtered content due to 'Developer News': Developer News...\n",
      "[2025-02-04 21:18:51] Filtered content due to 'GTC Sessions': GTC Sessions...\n",
      "[2025-02-04 21:18:51] Filtered content due to 'Webinars': Webinars...\n",
      "[2025-02-04 21:18:51] Processed 5/115: https://developer.nvidia.com/ai-hpc-containers\n",
      "[2025-02-04 21:18:52] Filtered content due to 'Quick Links': Quick Links...\n",
      "[2025-02-04 21:18:52] Filtered content due to 'Quick Links': Quick Links...\n",
      "[2025-02-04 21:18:52] Processed 6/115: https://developer.nvidia.com/ai-models\n",
      "[2025-02-04 21:18:52] Processed 7/115: https://developer.nvidia.com/arm\n",
      "[2025-02-04 21:18:52] Processed 8/115: https://developer.nvidia.com/blog/\n",
      "[2025-02-04 21:18:53] Filtered content due to 'Quick Links': Quick Links...\n",
      "[2025-02-04 21:18:53] Filtered content due to 'Programs for you': Programs for You...\n",
      "[2025-02-04 21:18:53] Filtered content due to 'Developer Resources': Developer Resources...\n",
      "[2025-02-04 21:18:53] Filtered content due to 'Technical Training': Technical Training...\n",
      "[2025-02-04 21:18:53] Filtered content due to 'Quick Links': Quick Links...\n",
      "[2025-02-04 21:18:53] Filtered content due to 'Programs for you': Programs for You...\n",
      "[2025-02-04 21:18:53] Filtered content due to 'Developer Resources': Developer Resources...\n",
      "[2025-02-04 21:18:53] Filtered content due to 'Technical Training': Technical Training...\n",
      "[2025-02-04 21:18:53] Processed 9/115: https://developer.nvidia.com/clara\n",
      "[2025-02-04 21:18:55] Filtered content due to 'Privacy Policy': Privacy Policy...\n",
      "[2025-02-04 21:18:55] Processed 10/115: https://developer.nvidia.com/clara-genomics\n",
      "[2025-02-04 21:18:56] Filtered content due to 'Resources': Resources...\n",
      "[2025-02-04 21:18:56] Filtered content due to 'Resources': Resources...\n",
      "[2025-02-04 21:18:56] Processed 11/115: https://developer.nvidia.com/clara-guardian\n",
      "[2025-02-04 21:18:56] Filtered content due to 'Developer Blogs': Developer Blogs...\n",
      "[2025-02-04 21:18:56] Filtered content due to 'Developer Resources': Developer Resources...\n",
      "[2025-02-04 21:18:56] Filtered content due to 'Developer Blogs': Developer Blogs...\n",
      "[2025-02-04 21:18:56] Filtered content due to 'Developer Resources': Developer Resources...\n",
      "[2025-02-04 21:18:56] Processed 12/115: https://developer.nvidia.com/clara-holoscan-sdk\n",
      "[2025-02-04 21:18:57] Filtered content due to 'Privacy Policy': Privacy Policy...\n",
      "[2025-02-04 21:18:57] Processed 13/115: https://developer.nvidia.com/clara-parabricks\n",
      "[2025-02-04 21:18:57] Processed 14/115: https://developer.nvidia.com/computer-vision\n",
      "[2025-02-04 21:18:58] Filtered content due to 'Subscribe': Subscribe...\n",
      "[2025-02-04 21:18:58] Filtered content due to 'Privacy Policy': Privacy Policy...\n",
      "[2025-02-04 21:18:58] Processed 15/115: https://developer.nvidia.com/converged-accelerator-developer-kit\n",
      "[2025-02-04 21:18:58] Processed 16/115: https://developer.nvidia.com/cublas\n",
      "[2025-02-04 21:18:58] Filtered content due to 'Resources': Resources...\n",
      "[2025-02-04 21:18:58] Filtered content due to 'Resources': Resources...\n",
      "[2025-02-04 21:18:58] Processed 17/115: https://developer.nvidia.com/cuda-toolkit\n",
      "[2025-02-04 21:18:58] Processed 18/115: https://developer.nvidia.com/cudnn\n",
      "[2025-02-04 21:18:59] Processed 19/115: https://developer.nvidia.com/culitho\n",
      "[2025-02-04 21:18:59] Filtered content due to 'Resources': Resources...\n",
      "[2025-02-04 21:18:59] Filtered content due to 'Resources': Resources...\n",
      "[2025-02-04 21:18:59] Filtered content due to 'Privacy Policy': Privacy Policy...\n",
      "[2025-02-04 21:18:59] Processed 20/115: https://developer.nvidia.com/cuopt-logistics-optimization\n",
      "[2025-02-04 21:19:00] Filtered content due to 'Quick Links': Quick Links...\n",
      "[2025-02-04 21:19:00] Filtered content due to 'Resources': Resources...\n",
      "[2025-02-04 21:19:00] Filtered content due to 'Quick Links': Quick Links...\n",
      "[2025-02-04 21:19:00] Filtered content due to 'Resources': Resources...\n",
      "[2025-02-04 21:19:00] Processed 21/115: https://developer.nvidia.com/cuquantum-sdk\n",
      "[2025-02-04 21:19:00] Filtered content due to 'Resources': Resources...\n",
      "[2025-02-04 21:19:00] Filtered content due to 'Resources': Resources...\n",
      "[2025-02-04 21:19:00] Processed 22/115: https://developer.nvidia.com/cusparse\n",
      "[2025-02-04 21:19:00] Processed 23/115: https://developer.nvidia.com/dali\n",
      "[2025-02-04 21:19:01] Processed 24/115: https://developer.nvidia.com/deepstream-sdk\n",
      "[2025-02-04 21:19:01] Filtered content due to 'Developer Resources': Developer Resources...\n",
      "[2025-02-04 21:19:01] Filtered content due to 'Developer Resources': Developer Resources...\n",
      "[2025-02-04 21:19:01] Processed 25/115: https://developer.nvidia.com/developer-program\n",
      "[2025-02-04 21:19:01] Filtered content due to 'Resources': Resources...\n",
      "[2025-02-04 21:19:01] Filtered content due to 'Forums': Forums...\n",
      "[2025-02-04 21:19:01] Filtered content due to 'Resources': Resources...\n",
      "[2025-02-04 21:19:01] Filtered content due to 'Forums': Forums...\n",
      "[2025-02-04 21:19:01] Processed 26/115: https://developer.nvidia.com/display-and-output-solutions\n",
      "[2025-02-04 21:19:01] Processed 27/115: https://developer.nvidia.com/drive\n",
      "[2025-02-04 21:19:02] Processed 28/115: https://developer.nvidia.com/drive/drive-hyperion\n",
      "[2025-02-04 21:19:02] Processed 29/115: https://developer.nvidia.com/drive/drive-sim\n",
      "[2025-02-04 21:19:03] Processed 30/115: https://developer.nvidia.com/drive/driveos\n",
      "[2025-02-04 21:19:03] Filtered content due to 'Resources': Resources...\n",
      "[2025-02-04 21:19:03] Filtered content due to 'Resources': Resources...\n",
      "[2025-02-04 21:19:03] Processed 31/115: https://developer.nvidia.com/drive/driveworks\n",
      "[2025-02-04 21:19:03] Processed 32/115: https://developer.nvidia.com/drive/hyperion#section1\n",
      "[2025-02-04 21:19:04] Processed 33/115: https://developer.nvidia.com/embedded-computing\n",
      "[2025-02-04 21:19:04] Filtered content due to 'Webinars': Webinars...\n",
      "[2025-02-04 21:19:04] Filtered content due to 'Webinars': Webinars...\n",
      "[2025-02-04 21:19:04] Processed 34/115: https://developer.nvidia.com/embedded/jetpack\n",
      "[2025-02-04 21:19:04] Processed 35/115: https://developer.nvidia.com/embedded/jetson-modules\n",
      "[2025-02-04 21:19:04] Filtered content due to 'Resources': Resources...\n",
      "[2025-02-04 21:19:05] Filtered content due to 'Resources': Resources...\n",
      "[2025-02-04 21:19:05] Processed 36/115: https://developer.nvidia.com/game-engines/\n",
      "[2025-02-04 21:19:05] Filtered content due to 'Resources': Resources...\n",
      "[2025-02-04 21:19:05] Filtered content due to 'Resources': Resources...\n",
      "[2025-02-04 21:19:05] Processed 37/115: https://developer.nvidia.com/game-engines/unity-engine\n",
      "[2025-02-04 21:19:05] Processed 38/115: https://developer.nvidia.com/game-engines/unreal-engine\n",
      "[2025-02-04 21:19:05] Processed 39/115: https://developer.nvidia.com/generative-ai\n",
      "[2025-02-04 21:19:06] Filtered content due to 'Resources': Resources...\n",
      "[2025-02-04 21:19:06] Filtered content due to 'Get Started': Get Started...\n",
      "[2025-02-04 21:19:06] Filtered content due to 'Resources': Resources...\n",
      "[2025-02-04 21:19:06] Filtered content due to 'Get Started': Get Started...\n",
      "[2025-02-04 21:19:06] Processed 40/115: https://developer.nvidia.com/gpu-accelerated-libraries\n",
      "[2025-02-04 21:19:06] Processed 41/115: https://developer.nvidia.com/graphics-research-tools\n",
      "[2025-02-04 21:19:06] Filtered content due to 'Resources': Resources...\n",
      "[2025-02-04 21:19:06] Filtered content due to 'Webinars': Webinars...\n",
      "[2025-02-04 21:19:06] Filtered content due to 'Webinars': Webinars...\n",
      "[2025-02-04 21:19:06] Filtered content due to 'Webinars': Webinars...\n",
      "[2025-02-04 21:19:06] Filtered content due to 'Resources': Resources...\n",
      "[2025-02-04 21:19:06] Filtered content due to 'Webinars': Webinars...\n",
      "[2025-02-04 21:19:06] Filtered content due to 'Webinars': Webinars...\n",
      "[2025-02-04 21:19:06] Filtered content due to 'Webinars': Webinars...\n",
      "[2025-02-04 21:19:06] Processed 42/115: https://developer.nvidia.com/higher-education-and-research\n",
      "[2025-02-04 21:19:07] Processed 43/115: https://developer.nvidia.com/hpc\n",
      "[2025-02-04 21:19:07] Filtered content due to 'Get Started': Get Started...\n",
      "[2025-02-04 21:19:07] Filtered content due to 'Resources': Resources...\n",
      "[2025-02-04 21:19:07] Filtered content due to 'Get Started': Get Started...\n",
      "[2025-02-04 21:19:07] Filtered content due to 'Get Started': Get Started...\n",
      "[2025-02-04 21:19:07] Filtered content due to 'Resources': Resources...\n",
      "[2025-02-04 21:19:07] Filtered content due to 'Get Started': Get Started...\n",
      "[2025-02-04 21:19:07] Processed 44/115: https://developer.nvidia.com/hpc-sdk\n",
      "[2025-02-04 21:19:07] Filtered content due to 'Resources': Resources...\n",
      "[2025-02-04 21:19:07] Filtered content due to 'Technical Training': Technical Training...\n",
      "[2025-02-04 21:19:07] Filtered content due to 'Resources': Resources...\n",
      "[2025-02-04 21:19:07] Filtered content due to 'Technical Training': Technical Training...\n",
      "[2025-02-04 21:19:07] Processed 45/115: https://developer.nvidia.com/image-processing\n",
      "[2025-02-04 21:19:07] Filtered content due to 'Resources': Resources...\n",
      "[2025-02-04 21:19:07] Filtered content due to 'Resources': Resources...\n",
      "[2025-02-04 21:19:07] Processed 46/115: https://developer.nvidia.com/industries/aeco\n",
      "[2025-02-04 21:19:08] Filtered content due to 'Programs for you': Programs For You...\n",
      "[2025-02-04 21:19:08] Filtered content due to 'Developer Resources': Developer Resources...\n",
      "[2025-02-04 21:19:08] Filtered content due to 'Technical Training': Technical Training...\n",
      "[2025-02-04 21:19:08] Filtered content due to 'Programs for you': Programs For You...\n",
      "[2025-02-04 21:19:08] Filtered content due to 'Developer Resources': Developer Resources...\n",
      "[2025-02-04 21:19:08] Filtered content due to 'Technical Training': Technical Training...\n",
      "[2025-02-04 21:19:08] Processed 47/115: https://developer.nvidia.com/industries/consumer-internet\n",
      "[2025-02-04 21:19:08] Processed 48/115: https://developer.nvidia.com/industries/energy\n",
      "[2025-02-04 21:19:08] Filtered content due to 'Programs for you': Programs for You...\n",
      "[2025-02-04 21:19:08] Filtered content due to 'Developer Resources': Developer Resources...\n",
      "[2025-02-04 21:19:08] Filtered content due to 'Programs for you': Programs for You...\n",
      "[2025-02-04 21:19:08] Filtered content due to 'Developer Resources': Developer Resources...\n",
      "[2025-02-04 21:19:08] Processed 49/115: https://developer.nvidia.com/industries/financial-services\n",
      "[2025-02-04 21:19:08] Filtered content due to 'Resources': Resources...\n",
      "[2025-02-04 21:19:08] Filtered content due to 'Developer Resources': Developer Resources...\n",
      "[2025-02-04 21:19:08] Filtered content due to 'Technical Training': Technical Training...\n",
      "[2025-02-04 21:19:08] Filtered content due to 'Resources': Resources...\n",
      "[2025-02-04 21:19:08] Filtered content due to 'Developer Resources': Developer Resources...\n",
      "[2025-02-04 21:19:08] Filtered content due to 'Technical Training': Technical Training...\n",
      "[2025-02-04 21:19:08] Processed 50/115: https://developer.nvidia.com/industries/game-development\n",
      "[2025-02-04 21:19:09] Filtered content due to 'Sign Up': Sign Up...\n",
      "[2025-02-04 21:19:09] Processed 51/115: https://developer.nvidia.com/industries/overview\n",
      "[2025-02-04 21:19:09] Filtered content due to 'Programs for you': Programs For You...\n",
      "[2025-02-04 21:19:09] Filtered content due to 'Developer Resources': Developer Resources...\n",
      "[2025-02-04 21:19:09] Filtered content due to 'Programs for you': Programs For You...\n",
      "[2025-02-04 21:19:09] Filtered content due to 'Developer Resources': Developer Resources...\n",
      "[2025-02-04 21:19:09] Processed 52/115: https://developer.nvidia.com/industries/public-sector\n",
      "[2025-02-04 21:19:09] Filtered content due to 'Programs for you': Programs for You...\n",
      "[2025-02-04 21:19:09] Filtered content due to 'Developer Resources': Developer Resources...\n",
      "[2025-02-04 21:19:09] Filtered content due to 'Technical Training': Technical Training...\n",
      "[2025-02-04 21:19:09] Filtered content due to 'Programs for you': Programs for You...\n",
      "[2025-02-04 21:19:09] Filtered content due to 'Developer Resources': Developer Resources...\n",
      "[2025-02-04 21:19:09] Filtered content due to 'Technical Training': Technical Training...\n",
      "[2025-02-04 21:19:09] Processed 53/115: https://developer.nvidia.com/industries/telecommunications\n",
      "[2025-02-04 21:19:10] Processed 54/115: https://developer.nvidia.com/isaac\n",
      "[2025-02-04 21:19:10] Processed 55/115: https://developer.nvidia.com/isaac-sim\n",
      "[2025-02-04 21:19:11] Processed 56/115: https://developer.nvidia.com/isaac/manipulator\n",
      "[2025-02-04 21:19:11] Processed 57/115: https://developer.nvidia.com/isaac/perceptor\n",
      "[2025-02-04 21:19:11] Filtered content due to 'Get Started': Get Started...\n",
      "[2025-02-04 21:19:11] Filtered content due to 'Get Started': Get Started...\n",
      "[2025-02-04 21:19:11] Processed 58/115: https://developer.nvidia.com/isaac/ros\n",
      "[2025-02-04 21:19:12] Filtered content due to 'NGC Catalog Resources': NGC Catalog Resources...\n",
      "[2025-02-04 21:19:12] Filtered content due to 'Developer News': Developer News...\n",
      "[2025-02-04 21:19:12] Filtered content due to 'GTC Sessions': GTC Sessions...\n",
      "[2025-02-04 21:19:12] Filtered content due to 'Webinars': Webinars...\n",
      "[2025-02-04 21:19:12] Filtered content due to 'Download Now': Download now...\n",
      "[2025-02-04 21:19:12] Filtered content due to 'Download Now': Download now...\n",
      "[2025-02-04 21:19:12] Filtered content due to 'Download Now': Download now...\n",
      "[2025-02-04 21:19:12] Filtered content due to 'Download Now': Download now...\n",
      "[2025-02-04 21:19:12] Filtered content due to 'Download Now': Download now...\n",
      "[2025-02-04 21:19:12] Filtered content due to 'Download Now': Download now...\n",
      "[2025-02-04 21:19:12] Filtered content due to 'Download Now': Download now...\n",
      "[2025-02-04 21:19:12] Filtered content due to 'Download Now': Download now...\n",
      "[2025-02-04 21:19:12] Filtered content due to 'NGC Catalog Resources': NGC Catalog Resources...\n",
      "[2025-02-04 21:19:12] Filtered content due to 'Developer News': Developer News...\n",
      "[2025-02-04 21:19:12] Filtered content due to 'GTC Sessions': GTC Sessions...\n",
      "[2025-02-04 21:19:12] Filtered content due to 'Webinars': Webinars...\n",
      "[2025-02-04 21:19:12] Processed 59/115: https://developer.nvidia.com/jupyter-notebooks\n",
      "[2025-02-04 21:19:12] Filtered content due to 'Resources': Resources...\n",
      "[2025-02-04 21:19:12] Filtered content due to 'Resources': Resources...\n",
      "[2025-02-04 21:19:12] Processed 60/115: https://developer.nvidia.com/magnum-io\n",
      "[2025-02-04 21:19:13] Processed 61/115: https://developer.nvidia.com/maxine\n",
      "[2025-02-04 21:19:13] Processed 62/115: https://developer.nvidia.com/metropolis\n",
      "[2025-02-04 21:19:14] Processed 63/115: https://developer.nvidia.com/metropolis-for-factories\n",
      "[2025-02-04 21:19:14] Processed 64/115: https://developer.nvidia.com/metropolis-microservices\n",
      "[2025-02-04 21:19:14] Filtered content due to 'Download Now': Download Now...\n",
      "[2025-02-04 21:19:14] Filtered content due to 'Download Now': Download Now...\n",
      "[2025-02-04 21:19:14] Processed 65/115: https://developer.nvidia.com/modulus\n",
      "[2025-02-04 21:19:14] Processed 66/115: https://developer.nvidia.com/morpheus-cybersecurity\n",
      "[2025-02-04 21:19:15] Filtered content due to 'Resources': RESOURCES...\n",
      "[2025-02-04 21:19:15] Filtered content due to 'Resources': RESOURCES...\n",
      "[2025-02-04 21:19:15] Processed 67/115: https://developer.nvidia.com/nccl\n",
      "[2025-02-04 21:19:15] Processed 68/115: https://developer.nvidia.com/networking\n",
      "[2025-02-04 21:19:15] Processed 69/115: https://developer.nvidia.com/networking/doca\n",
      "[2025-02-04 21:19:15] Filtered content due to 'Resources': Resources...\n",
      "[2025-02-04 21:19:15] Filtered content due to 'Resources': Resources...\n",
      "[2025-02-04 21:19:15] Processed 70/115: https://developer.nvidia.com/networking/hpc-x\n",
      "[2025-02-04 21:19:16] Filtered content due to 'GTC Sessions': GTC Sessions...\n",
      "[2025-02-04 21:19:16] Filtered content due to 'Resources': Resources...\n",
      "[2025-02-04 21:19:16] Filtered content due to 'GTC Sessions': GTC Sessions...\n",
      "[2025-02-04 21:19:16] Filtered content due to 'Resources': Resources...\n",
      "[2025-02-04 21:19:16] Processed 71/115: https://developer.nvidia.com/networking/rivermax\n",
      "[2025-02-04 21:19:16] Processed 72/115: https://developer.nvidia.com/nvidia-cloudxr-sdk\n",
      "[2025-02-04 21:19:17] Processed 73/115: https://developer.nvidia.com/nvidia-index\n",
      "[2025-02-04 21:19:17] Filtered content due to 'Resources': Resources...\n",
      "[2025-02-04 21:19:17] Filtered content due to 'Resources': Resources...\n",
      "[2025-02-04 21:19:17] Processed 74/115: https://developer.nvidia.com/nvidia-merlin\n",
      "[2025-02-04 21:19:18] Processed 75/115: https://developer.nvidia.com/nvidia-nemo\n",
      "[2025-02-04 21:19:19] Filtered content due to 'Resources': Resources...\n",
      "[2025-02-04 21:19:19] Filtered content due to 'Resources': Resources...\n",
      "[2025-02-04 21:19:19] Processed 76/115: https://developer.nvidia.com/nvidia-omniverse-platform/ace\n",
      "[2025-02-04 21:19:19] Processed 77/115: https://developer.nvidia.com/nvidia-triton-inference-server\n",
      "[2025-02-04 21:19:20] Filtered content due to 'Resources': Resources...\n",
      "[2025-02-04 21:19:20] Filtered content due to 'Resources': Resources...\n",
      "[2025-02-04 21:19:20] Processed 78/115: https://developer.nvidia.com/nvidia-video-codec-sdk\n",
      "[2025-02-04 21:19:20] Filtered content due to 'Forums': Forums...\n",
      "[2025-02-04 21:19:20] Filtered content due to 'Forums': Forums...\n",
      "[2025-02-04 21:19:20] Processed 79/115: https://developer.nvidia.com/omniverse\n",
      "[2025-02-04 21:19:20] Filtered content due to 'Forums': Forums...\n",
      "[2025-02-04 21:19:20] Filtered content due to 'Forums': Forums...\n",
      "[2025-02-04 21:19:20] Filtered content due to 'Announcements': Announcements...\n",
      "[2025-02-04 21:19:20] Filtered content due to 'Get Started': Get Started...\n",
      "[2025-02-04 21:19:20] Filtered content due to 'Feedback': Feedback...\n",
      "[2025-02-04 21:19:20] Filtered content due to 'Forums': Forums...\n",
      "[2025-02-04 21:19:20] Filtered content due to 'Forums': Forums...\n",
      "[2025-02-04 21:19:20] Filtered content due to 'Announcements': Announcements...\n",
      "[2025-02-04 21:19:20] Filtered content due to 'Get Started': Get Started...\n",
      "[2025-02-04 21:19:20] Filtered content due to 'Feedback': Feedback...\n",
      "[2025-02-04 21:19:20] Processed 80/115: https://developer.nvidia.com/omniverse/community\n",
      "[2025-02-04 21:19:20] Processed 81/115: https://developer.nvidia.com/open-source\n",
      "[2025-02-04 21:19:21] Filtered content due to 'Read More': Read More...\n",
      "[2025-02-04 21:19:21] Processed 82/115: https://developer.nvidia.com/openacc\n",
      "[2025-02-04 21:19:21] Processed 83/115: https://developer.nvidia.com/opticalflow-sdk\n",
      "[2025-02-04 21:19:21] Filtered content due to 'Resources': Resources...\n",
      "[2025-02-04 21:19:21] Filtered content due to 'Resources': Resources...\n",
      "[2025-02-04 21:19:21] Processed 84/115: https://developer.nvidia.com/physx-sdk\n",
      "[2025-02-04 21:19:22] Processed 85/115: https://developer.nvidia.com/project-GR00T\n",
      "[2025-02-04 21:19:23] Filtered content due to 'Resources': Resources...\n",
      "[2025-02-04 21:19:23] Filtered content due to 'Resources': Resources...\n",
      "[2025-02-04 21:19:23] Processed 86/115: https://developer.nvidia.com/qoda\n",
      "[2025-02-04 21:19:23] Processed 87/115: https://developer.nvidia.com/rapids\n",
      "[2025-02-04 21:19:24] Processed 88/115: https://developer.nvidia.com/reflex\n",
      "[2025-02-04 21:19:24] Filtered content due to 'Resources': Resources...\n",
      "[2025-02-04 21:19:24] Filtered content due to 'Technical Training': Technical Training...\n",
      "[2025-02-04 21:19:24] Filtered content due to 'Resources': Resources...\n",
      "[2025-02-04 21:19:24] Filtered content due to 'Technical Training': Technical Training...\n",
      "[2025-02-04 21:19:24] Processed 89/115: https://developer.nvidia.com/rendering-performance\n",
      "[2025-02-04 21:19:24] Processed 90/115: https://developer.nvidia.com/rendering-performance/reflex\n",
      "[2025-02-04 21:19:25] Filtered content due to 'Resources': Resources...\n",
      "[2025-02-04 21:19:25] Filtered content due to 'Resources': Resources...\n",
      "[2025-02-04 21:19:25] Processed 91/115: https://developer.nvidia.com/rendering-technologies\n",
      "[2025-02-04 21:19:25] Filtered content due to 'Sign Up': Sign Up...\n",
      "[2025-02-04 21:19:25] Processed 92/115: https://developer.nvidia.com/riva\n",
      "[2025-02-04 21:19:25] Processed 93/115: https://developer.nvidia.com/rtx/dlss\n",
      "[2025-02-04 21:19:25] Processed 94/115: https://developer.nvidia.com/rtx/path-tracing\n",
      "[2025-02-04 21:19:26] Filtered content due to 'Resources': Resources...\n",
      "[2025-02-04 21:19:26] Filtered content due to 'Resources': Resources...\n",
      "[2025-02-04 21:19:26] Processed 95/115: https://developer.nvidia.com/rtx/ray-tracing/kickstart\n",
      "[2025-02-04 21:19:26] Processed 96/115: https://developer.nvidia.com/rtx/ray-tracing/micro-mesh\n",
      "[2025-02-04 21:19:26] Filtered content due to 'Resources': Resources...\n",
      "[2025-02-04 21:19:26] Filtered content due to 'Resources': Resources...\n",
      "[2025-02-04 21:19:26] Processed 97/115: https://developer.nvidia.com/rtx/ray-tracing/optix\n",
      "[2025-02-04 21:19:26] Filtered content due to 'Resources': Resources...\n",
      "[2025-02-04 21:19:26] Filtered content due to 'Resources': Resources...\n",
      "[2025-02-04 21:19:26] Processed 98/115: https://developer.nvidia.com/rtx/ray-tracing/rt-denoisers\n",
      "[2025-02-04 21:19:27] Filtered content due to 'Resources': Resources...\n",
      "[2025-02-04 21:19:27] Filtered content due to 'Resources': Resources...\n",
      "[2025-02-04 21:19:27] Processed 99/115: https://developer.nvidia.com/rtx/ray-tracing/rtxdi\n",
      "[2025-02-04 21:19:27] Filtered content due to 'Resources': Resources...\n",
      "[2025-02-04 21:19:27] Filtered content due to 'Resources': Resources...\n",
      "[2025-02-04 21:19:27] Processed 100/115: https://developer.nvidia.com/rtx/ray-tracing/rtxgi\n",
      "[2025-02-04 21:19:27] Filtered content due to 'Resources': Resources...\n",
      "[2025-02-04 21:19:27] Filtered content due to 'Resources': Resources...\n",
      "[2025-02-04 21:19:27] Processed 101/115: https://developer.nvidia.com/rtx/ray-tracing/rtxmu\n",
      "[2025-02-04 21:19:28] Processed 102/115: https://developer.nvidia.com/rtx/raytracing\n",
      "[2025-02-04 21:19:28] Filtered content due to 'Resources': RESOURCES...\n",
      "[2025-02-04 21:19:28] Filtered content due to 'Resources': RESOURCES...\n",
      "[2025-02-04 21:19:28] Processed 103/115: https://developer.nvidia.com/rtx/streamline\n",
      "[2025-02-04 21:19:28] Filtered content due to 'Resources': Resources...\n",
      "[2025-02-04 21:19:28] Filtered content due to 'Resources': Resources...\n",
      "[2025-02-04 21:19:28] Processed 104/115: https://developer.nvidia.com/sionna\n",
      "[2025-02-04 21:19:28] Filtered content due to 'Resources': Resources...\n",
      "[2025-02-04 21:19:28] Filtered content due to 'Resources': Resources...\n",
      "[2025-02-04 21:19:28] Processed 105/115: https://developer.nvidia.com/tao-toolkit\n",
      "[2025-02-04 21:19:29] Processed 106/115: https://developer.nvidia.com/tensorrt\n",
      "[2025-02-04 21:19:29] Filtered content due to 'Get Started': Get Started...\n",
      "[2025-02-04 21:19:29] Filtered content due to 'View All': View All...\n",
      "[2025-02-04 21:19:29] Filtered content due to 'View All': View All...\n",
      "[2025-02-04 21:19:29] Filtered content due to 'Get Started': Get Started...\n",
      "[2025-02-04 21:19:29] Processed 107/115: https://developer.nvidia.com/tools-overview\n",
      "[2025-02-04 21:19:29] Processed 108/115: https://developer.nvidia.com/topics/ai/\n",
      "[2025-02-04 21:19:30] Processed 109/115: https://developer.nvidia.com/topics/ai/ai-inference/\n",
      "[2025-02-04 21:19:30] Processed 110/115: https://developer.nvidia.com/topics/ai/conversational-ai/\n",
      "[2025-02-04 21:19:30] Processed 111/115: https://developer.nvidia.com/topics/ai/cybersecurity-ai/\n",
      "[2025-02-04 21:19:30] Processed 112/115: https://developer.nvidia.com/topics/ai/data-science\n",
      "[2025-02-04 21:19:31] Processed 113/115: https://developer.nvidia.com/usd\n",
      "[2025-02-04 21:19:31] Filtered content due to 'Resources': Resources...\n",
      "[2025-02-04 21:19:31] Filtered content due to 'Forums': Forums...\n",
      "[2025-02-04 21:19:31] Filtered content due to 'Resources': Resources...\n",
      "[2025-02-04 21:19:31] Filtered content due to 'Forums': Forums...\n",
      "[2025-02-04 21:19:31] Processed 114/115: https://developer.nvidia.com/video-and-audio-solutions\n",
      "[2025-02-04 21:19:33] Filtered content due to 'Resources': Resources...\n",
      "[2025-02-04 21:19:33] Filtered content due to 'Resources': Resources...\n",
      "[2025-02-04 21:19:33] Processed 115/115: https://developer.nvidia.com/vrworks\n",
      "[2025-02-04 21:19:33] Processing completed successfully\n"
     ]
    }
   ],
   "source": [
    "%run -i scrapeSDKs.py #Takes about a minute"
   ]
  },
  {
   "cell_type": "markdown",
   "metadata": {},
   "source": [
    "## Import Packages\n",
    "This code cell imports all of the necessary packages to run the rest of the notebook."
   ]
  },
  {
   "cell_type": "code",
   "execution_count": 1,
   "metadata": {},
   "outputs": [],
   "source": [
    "import os\n",
    "from langchain_nvidia_ai_endpoints import ChatNVIDIA\n",
    "from langchain.text_splitter import RecursiveCharacterTextSplitter\n",
    "from langchain.vectorstores import FAISS\n",
    "from IPython.display import display, Markdown\n",
    "import ipywidgets as widgets\n",
    "import numpy as np\n",
    "from transformers import AutoModel, AutoTokenizer, AutoModelForSequenceClassification\n",
    "from tqdm import tqdm\n",
    "\n",
    "#Stops warning messages from appearing to keep the notebook clean\n",
    "import warnings\n",
    "warnings.filterwarnings(\"ignore\")\n",
    "\n",
    "# Stops warnings and info from the transformers library\n",
    "from transformers.utils import logging\n",
    "logging.set_verbosity_error()  "
   ]
  },
  {
   "cell_type": "code",
   "execution_count": 11,
   "metadata": {},
   "outputs": [
    {
     "name": "stdout",
     "output_type": "stream",
     "text": [
      "Creating Directory: ../data/partner-docs\n"
     ]
    }
   ],
   "source": [
    "#Relevant directories\n",
    "nvDIR = \"../data/nvidia-text-archive\"\n",
    "partnerDIR = \"../data/partner-docs\"\n",
    "rfiDIR = \"../data/rfi-docs\"\n",
    "\n",
    "#Create the folders if they do not already exist\n",
    "for dir in [nvDIR, partnerDIR, rfiDIR]:\n",
    "    if not os.path.exists(dir):\n",
    "        print(f'Creating Directory: {dir}')\n",
    "        os.makedirs(dir)"
   ]
  },
  {
   "cell_type": "code",
   "execution_count": 12,
   "metadata": {},
   "outputs": [],
   "source": [
    "partner_website = \"https://www.wwt.com/\""
   ]
  },
  {
   "cell_type": "code",
   "execution_count": 13,
   "metadata": {
    "scrolled": true
   },
   "outputs": [
    {
     "name": "stderr",
     "output_type": "stream",
     "text": [
      "2025-02-05 18:06:44,646 - INFO - Fetched: https://www.wwt.com/ (1/1)\n",
      "2025-02-05 18:06:45,236 - INFO - Fetched: https://www.wwt.com/blog/a-year-in-review-world-wide-technology-sustainability-initiatives-2024 (2/37)\n",
      "2025-02-05 18:06:45,265 - ERROR - Unexpected error processing https://www.wwt.com/blog/a-year-in-review-world-wide-technology-sustainability-initiatives-2024: [Errno 2] No such file or directory: '../data/partner-docs/www.wwt.com/blog/a-year-in-review-world-wide-technology-sustainability-initiatives-2024.txt'\n",
      "2025-02-05 18:06:45,686 - INFO - Fetched: https://www.wwt.com/article/enterprise-storage-evolution-from-block-to-ai-driven-solutions (3/37)\n",
      "2025-02-05 18:06:45,718 - ERROR - Unexpected error processing https://www.wwt.com/article/enterprise-storage-evolution-from-block-to-ai-driven-solutions: [Errno 2] No such file or directory: '../data/partner-docs/www.wwt.com/article/enterprise-storage-evolution-from-block-to-ai-driven-solution.txt'\n",
      "2025-02-05 18:06:46,137 - INFO - Fetched: https://www.wwt.com/article/partner-pov-unlocking-ai-potential-the-essential-role-of-hybrid-multicloud-strategies (4/37)\n",
      "2025-02-05 18:06:46,164 - ERROR - Unexpected error processing https://www.wwt.com/article/partner-pov-unlocking-ai-potential-the-essential-role-of-hybrid-multicloud-strategies: [Errno 2] No such file or directory: '../data/partner-docs/www.wwt.com/article/partner-pov-unlocking-ai-potential-the-essential-role-of-hybrid-multicloud-strategie.txt'\n",
      "2025-02-05 18:06:46,486 - INFO - Fetched: https://www.wwt.com/news/most-trustworthy-companies-in-america-2024 (5/37)\n",
      "2025-02-05 18:06:46,510 - ERROR - Unexpected error processing https://www.wwt.com/news/most-trustworthy-companies-in-america-2024: [Errno 2] No such file or directory: '../data/partner-docs/www.wwt.com/news/most-trustworthy-companies-in-america-2024.txt'\n",
      "2025-02-05 18:06:46,826 - INFO - Fetched: https://www.wwt.com/news/the-2025-campus-forward-award-winners (6/37)\n",
      "2025-02-05 18:06:46,856 - ERROR - Unexpected error processing https://www.wwt.com/news/the-2025-campus-forward-award-winners: [Errno 2] No such file or directory: '../data/partner-docs/www.wwt.com/news/the-2025-campus-forward-award-winner.txt'\n",
      "2025-02-05 18:06:47,161 - INFO - Fetched: https://www.wwt.com/news/americas-next-chapter (7/37)\n",
      "2025-02-05 18:06:47,184 - ERROR - Unexpected error processing https://www.wwt.com/news/americas-next-chapter: [Errno 2] No such file or directory: '../data/partner-docs/www.wwt.com/news/americas-next-chapter.txt'\n",
      "2025-02-05 18:06:47,496 - INFO - Fetched: https://www.wwt.com/news/advancing-innovation-leadership-in-technology (8/37)\n",
      "2025-02-05 18:06:47,521 - ERROR - Unexpected error processing https://www.wwt.com/news/advancing-innovation-leadership-in-technology: [Errno 2] No such file or directory: '../data/partner-docs/www.wwt.com/news/advancing-innovation-leadership-in-technology.txt'\n",
      "2025-02-05 18:06:47,764 - INFO - Fetched: https://www.wwt.com/lab/arista-automation-lab (9/37)\n",
      "2025-02-05 18:06:47,793 - ERROR - Unexpected error processing https://www.wwt.com/lab/arista-automation-lab: [Errno 2] No such file or directory: '../data/partner-docs/www.wwt.com/lab/arista-automation-lab.txt'\n",
      "2025-02-05 18:06:48,120 - INFO - Fetched: https://www.wwt.com/article/digital-disasters-how-does-cyber-resilience-differ-from-conventional-disaster-recovery (10/37)\n",
      "2025-02-05 18:06:48,159 - ERROR - Unexpected error processing https://www.wwt.com/article/digital-disasters-how-does-cyber-resilience-differ-from-conventional-disaster-recovery: [Errno 2] No such file or directory: '../data/partner-docs/www.wwt.com/article/digital-disasters-how-does-cyber-resilience-differ-from-conventional-disaster-recovery.txt'\n",
      "2025-02-05 18:06:48,479 - INFO - Fetched: https://www.wwt.com/article/partner-pov-or-understanding-and-leveraging-the-role-of-platformization-in-ai-first-cybersecurity (11/37)\n",
      "2025-02-05 18:06:48,506 - ERROR - Unexpected error processing https://www.wwt.com/article/partner-pov-or-understanding-and-leveraging-the-role-of-platformization-in-ai-first-cybersecurity: [Errno 2] No such file or directory: '../data/partner-docs/www.wwt.com/article/partner-pov-or-understanding-and-leveraging-the-role-of-platformization-in-ai-first-cybersecurity.txt'\n",
      "2025-02-05 18:06:48,811 - INFO - Fetched: https://www.wwt.com/article/partner-pov-ad-under-attack-are-you-recovery-ready (12/37)\n",
      "2025-02-05 18:06:48,846 - ERROR - Unexpected error processing https://www.wwt.com/article/partner-pov-ad-under-attack-are-you-recovery-ready: [Errno 2] No such file or directory: '../data/partner-docs/www.wwt.com/article/partner-pov-ad-under-attack-are-you-recovery-ready.txt'\n",
      "2025-02-05 18:06:49,116 - INFO - Fetched: https://www.wwt.com/lab/exploring-veeam-kasten-for-kubernetes (13/37)\n",
      "2025-02-05 18:06:49,144 - ERROR - Unexpected error processing https://www.wwt.com/lab/exploring-veeam-kasten-for-kubernetes: [Errno 2] No such file or directory: '../data/partner-docs/www.wwt.com/lab/exploring-veeam-kasten-for-kubernete.txt'\n",
      "2025-02-05 18:06:49,579 - INFO - Fetched: https://www.wwt.com/case-study/a-platform-and-ecosystem-to-make-the-right-technology-decisions-faster (14/37)\n",
      "2025-02-05 18:06:49,606 - ERROR - Unexpected error processing https://www.wwt.com/case-study/a-platform-and-ecosystem-to-make-the-right-technology-decisions-faster: [Errno 2] No such file or directory: '../data/partner-docs/www.wwt.com/case-study/a-platform-and-ecosystem-to-make-the-right-technology-decisions-faster.txt'\n",
      "2025-02-05 18:06:49,923 - INFO - Fetched: https://www.wwt.com/article/how-to-clone-objects-in-dotnet-core (15/37)\n",
      "2025-02-05 18:06:49,954 - ERROR - Unexpected error processing https://www.wwt.com/article/how-to-clone-objects-in-dotnet-core: [Errno 2] No such file or directory: '../data/partner-docs/www.wwt.com/article/how-to-clone-objects-in-dotnet-core.txt'\n",
      "2025-02-05 18:06:50,270 - INFO - Fetched: https://www.wwt.com/case-study/evolving-supply-chain-operations-with-automation (16/37)\n",
      "2025-02-05 18:06:50,298 - ERROR - Unexpected error processing https://www.wwt.com/case-study/evolving-supply-chain-operations-with-automation: [Errno 2] No such file or directory: '../data/partner-docs/www.wwt.com/case-study/evolving-supply-chain-operations-with-automation.txt'\n",
      "2025-02-05 18:06:50,744 - INFO - Fetched: https://www.wwt.com/article/intel-optane-dc-persistent-memory-re-imagines-our-data-centric-future (17/37)\n",
      "2025-02-05 18:06:50,771 - ERROR - Unexpected error processing https://www.wwt.com/article/intel-optane-dc-persistent-memory-re-imagines-our-data-centric-future: [Errno 2] No such file or directory: '../data/partner-docs/www.wwt.com/article/intel-optane-dc-persistent-memory-re-imagines-our-data-centric-future.txt'\n",
      "2025-02-05 18:06:51,013 - INFO - Fetched: https://www.wwt.com/lab/ai-prompt-injection-lab (18/37)\n",
      "2025-02-05 18:06:51,041 - ERROR - Unexpected error processing https://www.wwt.com/lab/ai-prompt-injection-lab: [Errno 2] No such file or directory: '../data/partner-docs/www.wwt.com/lab/ai-prompt-injection-lab.txt'\n",
      "2025-02-05 18:06:51,305 - INFO - Fetched: https://www.wwt.com/lab/introduction-into-openshift-ai-with-intel-and-dell-infrastructure (19/37)\n",
      "2025-02-05 18:06:51,334 - ERROR - Unexpected error processing https://www.wwt.com/lab/introduction-into-openshift-ai-with-intel-and-dell-infrastructure: [Errno 2] No such file or directory: '../data/partner-docs/www.wwt.com/lab/introduction-into-openshift-ai-with-intel-and-dell-infrastructure.txt'\n",
      "2025-02-05 18:06:51,583 - INFO - Fetched: https://www.wwt.com/lab/cyber-range-initiation (20/37)\n",
      "2025-02-05 18:06:51,615 - ERROR - Unexpected error processing https://www.wwt.com/lab/cyber-range-initiation: [Errno 2] No such file or directory: '../data/partner-docs/www.wwt.com/lab/cyber-range-initiation.txt'\n",
      "2025-02-05 18:06:51,856 - INFO - Fetched: https://www.wwt.com/lab/fortinet-ngfw-foundations-lab (21/37)\n",
      "2025-02-05 18:06:51,884 - ERROR - Unexpected error processing https://www.wwt.com/lab/fortinet-ngfw-foundations-lab: [Errno 2] No such file or directory: '../data/partner-docs/www.wwt.com/lab/fortinet-ngfw-foundations-lab.txt'\n",
      "2025-02-05 18:06:52,164 - INFO - Fetched: https://www.wwt.com/lab/aci-virtual-simulator-lab (22/37)\n",
      "2025-02-05 18:06:52,192 - ERROR - Unexpected error processing https://www.wwt.com/lab/aci-virtual-simulator-lab: [Errno 2] No such file or directory: '../data/partner-docs/www.wwt.com/lab/aci-virtual-simulator-lab.txt'\n",
      "2025-02-05 18:06:52,448 - INFO - Fetched: https://www.wwt.com/lab/aruba-wireless-lab (23/37)\n",
      "2025-02-05 18:06:52,478 - ERROR - Unexpected error processing https://www.wwt.com/lab/aruba-wireless-lab: [Errno 2] No such file or directory: '../data/partner-docs/www.wwt.com/lab/aruba-wireless-lab.txt'\n",
      "2025-02-05 18:06:52,746 - INFO - Fetched: https://www.wwt.com/lab/nvidia-blueprint-pdf-ingestion (24/37)\n",
      "2025-02-05 18:06:52,777 - ERROR - Unexpected error processing https://www.wwt.com/lab/nvidia-blueprint-pdf-ingestion: [Errno 2] No such file or directory: '../data/partner-docs/www.wwt.com/lab/nvidia-blueprint-pdf-ingestion.txt'\n",
      "2025-02-05 18:06:53,047 - INFO - Fetched: https://www.wwt.com/lab/palo-alto-ngfw-foundations-version-11-lab (25/37)\n",
      "2025-02-05 18:06:53,075 - ERROR - Unexpected error processing https://www.wwt.com/lab/palo-alto-ngfw-foundations-version-11-lab: [Errno 2] No such file or directory: '../data/partner-docs/www.wwt.com/lab/palo-alto-ngfw-foundations-version-11-lab.txt'\n",
      "2025-02-05 18:06:54,135 - INFO - Fetched: https://www.wwt.com/partner/redhat (26/37)\n",
      "2025-02-05 18:06:54,181 - ERROR - Unexpected error processing https://www.wwt.com/partner/redhat: [Errno 2] No such file or directory: '../data/partner-docs/www.wwt.com/partner/redha.txt'\n",
      "2025-02-05 18:06:54,542 - INFO - Fetched: https://www.wwt.com/article/building-automation-organization (27/37)\n",
      "2025-02-05 18:06:54,571 - ERROR - Unexpected error processing https://www.wwt.com/article/building-automation-organization: [Errno 2] No such file or directory: '../data/partner-docs/www.wwt.com/article/building-automation-organization.txt'\n",
      "2025-02-05 18:06:54,952 - INFO - Fetched: https://www.wwt.com/article/adopt-ai-with-confidence-on-integrated-platform-from-red-hat-and-intel (28/37)\n",
      "2025-02-05 18:06:54,982 - ERROR - Unexpected error processing https://www.wwt.com/article/adopt-ai-with-confidence-on-integrated-platform-from-red-hat-and-intel: [Errno 2] No such file or directory: '../data/partner-docs/www.wwt.com/article/adopt-ai-with-confidence-on-integrated-platform-from-red-hat-and-intel.txt'\n",
      "2025-02-05 18:06:55,362 - INFO - Fetched: https://www.wwt.com/case-study/reimagining-a-national-media-companys-digital-future-in-the-age-of-streaming (29/37)\n",
      "2025-02-05 18:06:55,391 - ERROR - Unexpected error processing https://www.wwt.com/case-study/reimagining-a-national-media-companys-digital-future-in-the-age-of-streaming: [Errno 2] No such file or directory: '../data/partner-docs/www.wwt.com/case-study/reimagining-a-national-media-companys-digital-future-in-the-age-of-streaming.txt'\n",
      "2025-02-05 18:06:55,701 - INFO - Fetched: https://www.wwt.com/wwt-research/ai-in-customer-experience-key-updates-and-insights-for-industry-leaders (30/37)\n",
      "2025-02-05 18:06:55,733 - ERROR - Unexpected error processing https://www.wwt.com/wwt-research/ai-in-customer-experience-key-updates-and-insights-for-industry-leaders: [Errno 2] No such file or directory: '../data/partner-docs/www.wwt.com/wwt-research/ai-in-customer-experience-key-updates-and-insights-for-industry-leader.txt'\n",
      "2025-02-05 18:06:56,089 - INFO - Fetched: https://www.wwt.com/case-study/democratizing-data-to-reach-new-levels-of-productivity-with-freeport-mcmoran (31/37)\n",
      "2025-02-05 18:06:56,121 - ERROR - Unexpected error processing https://www.wwt.com/case-study/democratizing-data-to-reach-new-levels-of-productivity-with-freeport-mcmoran: [Errno 2] No such file or directory: '../data/partner-docs/www.wwt.com/case-study/democratizing-data-to-reach-new-levels-of-productivity-with-freeport-mcmoran.txt'\n",
      "2025-02-05 18:06:56,456 - INFO - Fetched: https://www.wwt.com/case-study/building-a-modern-elastic-it-infrastructure-from-scratch-for-elanco-animal-health-to-streamline-and-optimize-manda (32/37)\n",
      "2025-02-05 18:06:56,484 - ERROR - Unexpected error processing https://www.wwt.com/case-study/building-a-modern-elastic-it-infrastructure-from-scratch-for-elanco-animal-health-to-streamline-and-optimize-manda: [Errno 2] No such file or directory: '../data/partner-docs/www.wwt.com/case-study/building-a-modern-elastic-it-infrastructure-from-scratch-for-elanco-animal-health-to-streamline-and-optimize-manda.txt'\n",
      "2025-02-05 18:06:56,850 - INFO - Fetched: https://www.wwt.com/article/three-steps-for-letting-technology-lead-the-business-through-uncertain-economic-times (33/37)\n",
      "2025-02-05 18:06:56,876 - ERROR - Unexpected error processing https://www.wwt.com/article/three-steps-for-letting-technology-lead-the-business-through-uncertain-economic-times: [Errno 2] No such file or directory: '../data/partner-docs/www.wwt.com/article/three-steps-for-letting-technology-lead-the-business-through-uncertain-economic-time.txt'\n",
      "2025-02-05 18:06:57,197 - INFO - Fetched: https://www.wwt.com/case-study/creating-the-perfect-pizza-kitchen-for-little-caesars (34/37)\n",
      "2025-02-05 18:06:57,226 - ERROR - Unexpected error processing https://www.wwt.com/case-study/creating-the-perfect-pizza-kitchen-for-little-caesars: [Errno 2] No such file or directory: '../data/partner-docs/www.wwt.com/case-study/creating-the-perfect-pizza-kitchen-for-little-caesar.txt'\n",
      "2025-02-05 18:06:57,540 - INFO - Fetched: https://www.wwt.com/case-study/airline-validates-integrated-aiops-monitoring-solution-in-atc (35/37)\n",
      "2025-02-05 18:06:57,571 - ERROR - Unexpected error processing https://www.wwt.com/case-study/airline-validates-integrated-aiops-monitoring-solution-in-atc: [Errno 2] No such file or directory: '../data/partner-docs/www.wwt.com/case-study/airline-validates-integrated-aiops-monitoring-solution-in-atc.txt'\n",
      "2025-02-05 18:06:57,824 - INFO - Fetched: https://www.wwt.com/briefing/computer-vision-briefing (36/37)\n",
      "2025-02-05 18:06:57,852 - ERROR - Unexpected error processing https://www.wwt.com/briefing/computer-vision-briefing: [Errno 2] No such file or directory: '../data/partner-docs/www.wwt.com/briefing/computer-vision-briefing.txt'\n",
      "2025-02-05 18:06:58,165 - INFO - Fetched: https://www.wwt.com/article/top-three-trends-in-2024-for-oil-and-gas-companies (37/37)\n",
      "2025-02-05 18:06:58,193 - ERROR - Unexpected error processing https://www.wwt.com/article/top-three-trends-in-2024-for-oil-and-gas-companies: [Errno 2] No such file or directory: '../data/partner-docs/www.wwt.com/article/top-three-trends-in-2024-for-oil-and-gas-companie.txt'\n"
     ]
    }
   ],
   "source": [
    "%run -i scrapePartner.py $partner_website $partnerDIR"
   ]
  },
  {
   "cell_type": "markdown",
   "metadata": {},
   "source": [
    "## Initialize API Key\n",
    "This code cell pulls the NVIDIA_API_Key that was stored as a *Secret* within AI Workbench"
   ]
  },
  {
   "cell_type": "code",
   "execution_count": 3,
   "metadata": {},
   "outputs": [
    {
     "name": "stdout",
     "output_type": "stream",
     "text": [
      "Valid NVIDIA_API_KEY already in environment. Delete to reset\n"
     ]
    }
   ],
   "source": [
    "nvAPI_Name = \"NVIDIA_API_KEY\"\n",
    "\n",
    "if os.environ.get(nvAPI_Name, \"\").startswith(\"nvapi-\"):\n",
    "    print(f\"Valid {nvAPI_Name} already in environment. Delete to reset\")\n",
    "else:\n",
    "    nvapi_key = os.environ.get(nvAPI_Name)\n",
    "    assert nvapi_key.startswith(\"nvapi-\"), f\"{nvapi_key[:5]}... is not a valid key\\nHere are your listed environment variables: {print(os.environ)}\"\n",
    "    os.environ[nvAPI_Name] = nvapi_key"
   ]
  },
  {
   "cell_type": "markdown",
   "metadata": {},
   "source": [
    "## Check for GPU Availability\n",
    "\n",
    "If you do not see a GPU available and your host machine has one, **make sure you allocated 1 or more GPUs** in the bottom section called *\"Hardware\"* of the *\"Environment\"* tab within the AI Workbench UI. If you need to make this correction, you will need to rebuild your Environment again."
   ]
  },
  {
   "cell_type": "code",
   "execution_count": 4,
   "metadata": {},
   "outputs": [
    {
     "name": "stdout",
     "output_type": "stream",
     "text": [
      "name\n",
      "NVIDIA RTX 3500 Ada Generation Laptop GPU\n"
     ]
    }
   ],
   "source": [
    "!nvidia-smi --query-gpu=gpu_name --format=csv"
   ]
  },
  {
   "cell_type": "markdown",
   "metadata": {},
   "source": [
    "## Import Helper Functions\n",
    "This cell imports functions from the [helperFuncs.py](./helperFuncs.py) file "
   ]
  },
  {
   "cell_type": "code",
   "execution_count": 5,
   "metadata": {},
   "outputs": [],
   "source": [
    "from helperFuncs import load_documents, addTags, save_uploaded_files, create_callback, rerank_results, rag_query, M2BERTEmbeddings, bokeh_plot, visualize_embeddings"
   ]
  },
  {
   "cell_type": "markdown",
   "metadata": {},
   "source": [
    "## Document Upload and Processing\n",
    "\n",
    "Here is where we will create the necessary directories and allow users to upload documents into the appropriate folder with the *File Upload* buttons"
   ]
  },
  {
   "cell_type": "code",
   "execution_count": 7,
   "metadata": {
    "jupyter": {
     "source_hidden": true
    }
   },
   "outputs": [
    {
     "data": {
      "application/vnd.jupyter.widget-view+json": {
       "model_id": "bea619ce7b2c42cc8dafe17072c734ec",
       "version_major": 2,
       "version_minor": 0
      },
      "text/plain": [
       "FileUpload(value=(), accept='.txt, .pdf, .doc, .docx', description='Partner File Upload', layout=Layout(width=…"
      ]
     },
     "metadata": {},
     "output_type": "display_data"
    }
   ],
   "source": [
    "# Upload functionality for partner documents\n",
    "file_upload = widgets.FileUpload(\n",
    "    accept='.txt, .pdf, .doc, .docx',\n",
    "    multiple=True,\n",
    "    description='Partner File Upload',\n",
    "    layout=widgets.Layout(width='500px')\n",
    ")\n",
    "\n",
    "callback = create_callback(partnerDIR)\n",
    "file_upload.observe(callback, names='value')\n",
    "display(file_upload)"
   ]
  },
  {
   "cell_type": "code",
   "execution_count": 8,
   "metadata": {},
   "outputs": [
    {
     "data": {
      "application/vnd.jupyter.widget-view+json": {
       "model_id": "f4e95592aea945c7bd3d5408e43d9a32",
       "version_major": 2,
       "version_minor": 0
      },
      "text/plain": [
       "FileUpload(value=(), description='RFI File Upload', layout=Layout(width='500px'), multiple=True)"
      ]
     },
     "metadata": {},
     "output_type": "display_data"
    }
   ],
   "source": [
    "# Upload functionality for RFI\n",
    "file_upload = widgets.FileUpload(\n",
    "    allow='.txt, .pdf, .doc, .docx',\n",
    "    multiple=True,\n",
    "    description='RFI File Upload',\n",
    "    layout=widgets.Layout(width='500px')\n",
    ")\n",
    "\n",
    "callback = create_callback(rfiDIR)\n",
    "file_upload.observe(callback, names='value')\n",
    "display(file_upload)"
   ]
  },
  {
   "cell_type": "markdown",
   "metadata": {},
   "source": [
    "## Chunking & Embedding\n",
    "Chunking is a significant decision to make in a RAG solution, here are some points to help understand why it is:\n",
    "\n",
    "**Benefits**\n",
    "- Improves retrieval precision by breaking down large texts into focused, contextually relevant segments\n",
    "- Optimizes computational efficiency and response times by reducing per-segment processing load\n",
    "- Maintains semantic integrity and reduces hallucinations through better context management\n",
    "- Enables better scalability and dataset maintenance through granular indexing\n",
    "- ptimizes token usage and associated costs within model context window limits\n",
    "  \n",
    "**Challenges**\n",
    "- Small chunks may lack sufficient context for coherent responses\n",
    "- Excessive fragmentation can increase computational overhead and API costs\n",
    "- Large number of small chunks can slow down search performance\n",
    "- Risk of breaking semantic relationships and natural language flow\n",
    "- May fragment logically connected information in specialized content (code, technical documentation)\n",
    "\n",
    "In this example, we use a simple recursive chunking strategy for simplicity-sake, but be aware there are more complex strategies that can take advantage of a given use case like for coding, powerpoints, etc."
   ]
  },
  {
   "cell_type": "code",
   "execution_count": 9,
   "metadata": {},
   "outputs": [],
   "source": [
    "os.environ['CHUNK_SIZE'] = '800'\n",
    "chunk_size = int(os.environ['CHUNK_SIZE']) #If chunk size is too large, it will cause errors downstream depending on the models being leveraged as they have maximum input lengths\n",
    "chunk_overlap = 100 #More overlap typically gives better context between chunks, but creates more chunks to deal with"
   ]
  },
  {
   "cell_type": "code",
   "execution_count": 10,
   "metadata": {
    "scrolled": true
   },
   "outputs": [],
   "source": [
    "documents = load_documents(nvDIR, []) #Load in NVIDIA documents\n",
    "documents = load_documents(partnerDIR, documents) #Append partner documents\n",
    "documents = load_documents(rfiDIR, documents) #Append RFI\n",
    "text_splitter = RecursiveCharacterTextSplitter(\n",
    "    chunk_size=chunk_size,\n",
    "    chunk_overlap=chunk_overlap\n",
    ")\n",
    "\n",
    "chunked_documents = text_splitter.split_documents(documents)\n",
    "addTags(chunked_documents)"
   ]
  },
  {
   "cell_type": "code",
   "execution_count": 11,
   "metadata": {},
   "outputs": [
    {
     "name": "stdout",
     "output_type": "stream",
     "text": [
      "Using device: cuda\n",
      "-- Bidirectional: True\n",
      "-- Using Long Conv Residual: True\n",
      "-- Hyena w: 10\n",
      "-- Hyena w mod: 1\n",
      "-- Hyena filter order: 128\n",
      "-- Hyena filter dropout: 0.2\n",
      "-- Hyena filter wd: 0.1\n",
      "-- Hyena filter emb dim: 5\n",
      "-- Hyena filter lr: 0.001\n",
      "-- Hyena filter lr pos emb: 1e-05\n",
      "CPU times: user 28.6 s, sys: 163 ms, total: 28.7 s\n",
      "Wall time: 28.7 s\n"
     ]
    }
   ],
   "source": [
    "embeddings = M2BERTEmbeddings(max_seq_length=chunk_size)\n",
    "\n",
    "%time vectorstore = FAISS.from_documents(chunked_documents, embeddings) #this takes 40-50 seconds on an ADA 3500 GPU"
   ]
  },
  {
   "cell_type": "code",
   "execution_count": 12,
   "metadata": {},
   "outputs": [
    {
     "data": {
      "text/html": [
       "    <style>\n",
       "        .bk-notebook-logo {\n",
       "            display: block;\n",
       "            width: 20px;\n",
       "            height: 20px;\n",
       "            background-image: url(data:image/png;base64,iVBORw0KGgoAAAANSUhEUgAAABQAAAAUCAYAAACNiR0NAAAABHNCSVQICAgIfAhkiAAAAAlwSFlzAAALEgAACxIB0t1+/AAAABx0RVh0U29mdHdhcmUAQWRvYmUgRmlyZXdvcmtzIENTNui8sowAAAOkSURBVDiNjZRtaJVlGMd/1/08zzln5zjP1LWcU9N0NkN8m2CYjpgQYQXqSs0I84OLIC0hkEKoPtiH3gmKoiJDU7QpLgoLjLIQCpEsNJ1vqUOdO7ppbuec5+V+rj4ctwzd8IIbbi6u+8f1539dt3A78eXC7QizUF7gyV1fD1Yqg4JWz84yffhm0qkFqBogB9rM8tZdtwVsPUhWhGcFJngGeWrPzHm5oaMmkfEg1usvLFyc8jLRqDOMru7AyC8saQr7GG7f5fvDeH7Ej8CM66nIF+8yngt6HWaKh7k49Soy9nXurCi1o3qUbS3zWfrYeQDTB/Qj6kX6Ybhw4B+bOYoLKCC9H3Nu/leUTZ1JdRWkkn2ldcCamzrcf47KKXdAJllSlxAOkRgyHsGC/zRday5Qld9DyoM4/q/rUoy/CXh3jzOu3bHUVZeU+DEn8FInkPBFlu3+nW3Nw0mk6vCDiWg8CeJaxEwuHS3+z5RgY+YBR6V1Z1nxSOfoaPa4LASWxxdNp+VWTk7+4vzaou8v8PN+xo+KY2xsw6une2frhw05CTYOmQvsEhjhWjn0bmXPjpE1+kplmmkP3suftwTubK9Vq22qKmrBhpY4jvd5afdRA3wGjFAgcnTK2s4hY0/GPNIb0nErGMCRxWOOX64Z8RAC4oCXdklmEvcL8o0BfkNK4lUg9HTl+oPlQxdNo3Mg4Nv175e/1LDGzZen30MEjRUtmXSfiTVu1kK8W4txyV6BMKlbgk3lMwYCiusNy9fVfvvwMxv8Ynl6vxoByANLTWplvuj/nF9m2+PDtt1eiHPBr1oIfhCChQMBw6Aw0UulqTKZdfVvfG7VcfIqLG9bcldL/+pdWTLxLUy8Qq38heUIjh4XlzZxzQm19lLFlr8vdQ97rjZVOLf8nclzckbcD4wxXMidpX30sFd37Fv/GtwwhzhxGVAprjbg0gCAEeIgwCZyTV2Z1REEW8O4py0wsjeloKoMr6iCY6dP92H6Vw/oTyICIthibxjm/DfN9lVz8IqtqKYLUXfoKVMVQVVJOElGjrnnUt9T9wbgp8AyYKaGlqingHZU/uG2NTZSVqwHQTWkx9hxjkpWDaCg6Ckj5qebgBVbT3V3NNXMSiWSDdGV3hrtzla7J+duwPOToIg42ChPQOQjspnSlp1V+Gjdged7+8UN5CRAV7a5EdFNwCjEaBR27b3W890TE7g24NAP/mMDXRWrGoFPQI9ls/MWO2dWFAar/xcOIImbbpA3zgAAAABJRU5ErkJggg==);\n",
       "        }\n",
       "    </style>\n",
       "    <div>\n",
       "        <a href=\"https://bokeh.org\" target=\"_blank\" class=\"bk-notebook-logo\"></a>\n",
       "        <span id=\"c7e36dc0-7824-4a96-8b04-d8081805f023\">Loading BokehJS ...</span>\n",
       "    </div>\n"
      ]
     },
     "metadata": {},
     "output_type": "display_data"
    },
    {
     "data": {
      "application/javascript": [
       "'use strict';\n",
       "(function(root) {\n",
       "  function now() {\n",
       "    return new Date();\n",
       "  }\n",
       "\n",
       "  const force = true;\n",
       "\n",
       "  if (typeof root._bokeh_onload_callbacks === \"undefined\" || force === true) {\n",
       "    root._bokeh_onload_callbacks = [];\n",
       "    root._bokeh_is_loading = undefined;\n",
       "  }\n",
       "\n",
       "const JS_MIME_TYPE = 'application/javascript';\n",
       "  const HTML_MIME_TYPE = 'text/html';\n",
       "  const EXEC_MIME_TYPE = 'application/vnd.bokehjs_exec.v0+json';\n",
       "  const CLASS_NAME = 'output_bokeh rendered_html';\n",
       "\n",
       "  /**\n",
       "   * Render data to the DOM node\n",
       "   */\n",
       "  function render(props, node) {\n",
       "    const script = document.createElement(\"script\");\n",
       "    node.appendChild(script);\n",
       "  }\n",
       "\n",
       "  /**\n",
       "   * Handle when an output is cleared or removed\n",
       "   */\n",
       "  function handleClearOutput(event, handle) {\n",
       "    function drop(id) {\n",
       "      const view = Bokeh.index.get_by_id(id)\n",
       "      if (view != null) {\n",
       "        view.model.document.clear()\n",
       "        Bokeh.index.delete(view)\n",
       "      }\n",
       "    }\n",
       "\n",
       "    const cell = handle.cell;\n",
       "\n",
       "    const id = cell.output_area._bokeh_element_id;\n",
       "    const server_id = cell.output_area._bokeh_server_id;\n",
       "\n",
       "    // Clean up Bokeh references\n",
       "    if (id != null) {\n",
       "      drop(id)\n",
       "    }\n",
       "\n",
       "    if (server_id !== undefined) {\n",
       "      // Clean up Bokeh references\n",
       "      const cmd_clean = \"from bokeh.io.state import curstate; print(curstate().uuid_to_server['\" + server_id + \"'].get_sessions()[0].document.roots[0]._id)\";\n",
       "      cell.notebook.kernel.execute(cmd_clean, {\n",
       "        iopub: {\n",
       "          output: function(msg) {\n",
       "            const id = msg.content.text.trim()\n",
       "            drop(id)\n",
       "          }\n",
       "        }\n",
       "      });\n",
       "      // Destroy server and session\n",
       "      const cmd_destroy = \"import bokeh.io.notebook as ion; ion.destroy_server('\" + server_id + \"')\";\n",
       "      cell.notebook.kernel.execute(cmd_destroy);\n",
       "    }\n",
       "  }\n",
       "\n",
       "  /**\n",
       "   * Handle when a new output is added\n",
       "   */\n",
       "  function handleAddOutput(event, handle) {\n",
       "    const output_area = handle.output_area;\n",
       "    const output = handle.output;\n",
       "\n",
       "    // limit handleAddOutput to display_data with EXEC_MIME_TYPE content only\n",
       "    if ((output.output_type != \"display_data\") || (!Object.prototype.hasOwnProperty.call(output.data, EXEC_MIME_TYPE))) {\n",
       "      return\n",
       "    }\n",
       "\n",
       "    const toinsert = output_area.element.find(\".\" + CLASS_NAME.split(' ')[0]);\n",
       "\n",
       "    if (output.metadata[EXEC_MIME_TYPE][\"id\"] !== undefined) {\n",
       "      toinsert[toinsert.length - 1].firstChild.textContent = output.data[JS_MIME_TYPE];\n",
       "      // store reference to embed id on output_area\n",
       "      output_area._bokeh_element_id = output.metadata[EXEC_MIME_TYPE][\"id\"];\n",
       "    }\n",
       "    if (output.metadata[EXEC_MIME_TYPE][\"server_id\"] !== undefined) {\n",
       "      const bk_div = document.createElement(\"div\");\n",
       "      bk_div.innerHTML = output.data[HTML_MIME_TYPE];\n",
       "      const script_attrs = bk_div.children[0].attributes;\n",
       "      for (let i = 0; i < script_attrs.length; i++) {\n",
       "        toinsert[toinsert.length - 1].firstChild.setAttribute(script_attrs[i].name, script_attrs[i].value);\n",
       "        toinsert[toinsert.length - 1].firstChild.textContent = bk_div.children[0].textContent\n",
       "      }\n",
       "      // store reference to server id on output_area\n",
       "      output_area._bokeh_server_id = output.metadata[EXEC_MIME_TYPE][\"server_id\"];\n",
       "    }\n",
       "  }\n",
       "\n",
       "  function register_renderer(events, OutputArea) {\n",
       "\n",
       "    function append_mime(data, metadata, element) {\n",
       "      // create a DOM node to render to\n",
       "      const toinsert = this.create_output_subarea(\n",
       "        metadata,\n",
       "        CLASS_NAME,\n",
       "        EXEC_MIME_TYPE\n",
       "      );\n",
       "      this.keyboard_manager.register_events(toinsert);\n",
       "      // Render to node\n",
       "      const props = {data: data, metadata: metadata[EXEC_MIME_TYPE]};\n",
       "      render(props, toinsert[toinsert.length - 1]);\n",
       "      element.append(toinsert);\n",
       "      return toinsert\n",
       "    }\n",
       "\n",
       "    /* Handle when an output is cleared or removed */\n",
       "    events.on('clear_output.CodeCell', handleClearOutput);\n",
       "    events.on('delete.Cell', handleClearOutput);\n",
       "\n",
       "    /* Handle when a new output is added */\n",
       "    events.on('output_added.OutputArea', handleAddOutput);\n",
       "\n",
       "    /**\n",
       "     * Register the mime type and append_mime function with output_area\n",
       "     */\n",
       "    OutputArea.prototype.register_mime_type(EXEC_MIME_TYPE, append_mime, {\n",
       "      /* Is output safe? */\n",
       "      safe: true,\n",
       "      /* Index of renderer in `output_area.display_order` */\n",
       "      index: 0\n",
       "    });\n",
       "  }\n",
       "\n",
       "  // register the mime type if in Jupyter Notebook environment and previously unregistered\n",
       "  if (root.Jupyter !== undefined) {\n",
       "    const events = require('base/js/events');\n",
       "    const OutputArea = require('notebook/js/outputarea').OutputArea;\n",
       "\n",
       "    if (OutputArea.prototype.mime_types().indexOf(EXEC_MIME_TYPE) == -1) {\n",
       "      register_renderer(events, OutputArea);\n",
       "    }\n",
       "  }\n",
       "  if (typeof (root._bokeh_timeout) === \"undefined\" || force === true) {\n",
       "    root._bokeh_timeout = Date.now() + 5000;\n",
       "    root._bokeh_failed_load = false;\n",
       "  }\n",
       "\n",
       "  const NB_LOAD_WARNING = {'data': {'text/html':\n",
       "     \"<div style='background-color: #fdd'>\\n\"+\n",
       "     \"<p>\\n\"+\n",
       "     \"BokehJS does not appear to have successfully loaded. If loading BokehJS from CDN, this \\n\"+\n",
       "     \"may be due to a slow or bad network connection. Possible fixes:\\n\"+\n",
       "     \"</p>\\n\"+\n",
       "     \"<ul>\\n\"+\n",
       "     \"<li>re-rerun `output_notebook()` to attempt to load from CDN again, or</li>\\n\"+\n",
       "     \"<li>use INLINE resources instead, as so:</li>\\n\"+\n",
       "     \"</ul>\\n\"+\n",
       "     \"<code>\\n\"+\n",
       "     \"from bokeh.resources import INLINE\\n\"+\n",
       "     \"output_notebook(resources=INLINE)\\n\"+\n",
       "     \"</code>\\n\"+\n",
       "     \"</div>\"}};\n",
       "\n",
       "  function display_loaded(error = null) {\n",
       "    const el = document.getElementById(\"c7e36dc0-7824-4a96-8b04-d8081805f023\");\n",
       "    if (el != null) {\n",
       "      const html = (() => {\n",
       "        if (typeof root.Bokeh === \"undefined\") {\n",
       "          if (error == null) {\n",
       "            return \"BokehJS is loading ...\";\n",
       "          } else {\n",
       "            return \"BokehJS failed to load.\";\n",
       "          }\n",
       "        } else {\n",
       "          const prefix = `BokehJS ${root.Bokeh.version}`;\n",
       "          if (error == null) {\n",
       "            return `${prefix} successfully loaded.`;\n",
       "          } else {\n",
       "            return `${prefix} <b>encountered errors</b> while loading and may not function as expected.`;\n",
       "          }\n",
       "        }\n",
       "      })();\n",
       "      el.innerHTML = html;\n",
       "\n",
       "      if (error != null) {\n",
       "        const wrapper = document.createElement(\"div\");\n",
       "        wrapper.style.overflow = \"auto\";\n",
       "        wrapper.style.height = \"5em\";\n",
       "        wrapper.style.resize = \"vertical\";\n",
       "        const content = document.createElement(\"div\");\n",
       "        content.style.fontFamily = \"monospace\";\n",
       "        content.style.whiteSpace = \"pre-wrap\";\n",
       "        content.style.backgroundColor = \"rgb(255, 221, 221)\";\n",
       "        content.textContent = error.stack ?? error.toString();\n",
       "        wrapper.append(content);\n",
       "        el.append(wrapper);\n",
       "      }\n",
       "    } else if (Date.now() < root._bokeh_timeout) {\n",
       "      setTimeout(() => display_loaded(error), 100);\n",
       "    }\n",
       "  }\n",
       "\n",
       "  function run_callbacks() {\n",
       "    try {\n",
       "      root._bokeh_onload_callbacks.forEach(function(callback) {\n",
       "        if (callback != null)\n",
       "          callback();\n",
       "      });\n",
       "    } finally {\n",
       "      delete root._bokeh_onload_callbacks\n",
       "    }\n",
       "    console.debug(\"Bokeh: all callbacks have finished\");\n",
       "  }\n",
       "\n",
       "  function load_libs(css_urls, js_urls, callback) {\n",
       "    if (css_urls == null) css_urls = [];\n",
       "    if (js_urls == null) js_urls = [];\n",
       "\n",
       "    root._bokeh_onload_callbacks.push(callback);\n",
       "    if (root._bokeh_is_loading > 0) {\n",
       "      console.debug(\"Bokeh: BokehJS is being loaded, scheduling callback at\", now());\n",
       "      return null;\n",
       "    }\n",
       "    if (js_urls == null || js_urls.length === 0) {\n",
       "      run_callbacks();\n",
       "      return null;\n",
       "    }\n",
       "    console.debug(\"Bokeh: BokehJS not loaded, scheduling load and callback at\", now());\n",
       "    root._bokeh_is_loading = css_urls.length + js_urls.length;\n",
       "\n",
       "    function on_load() {\n",
       "      root._bokeh_is_loading--;\n",
       "      if (root._bokeh_is_loading === 0) {\n",
       "        console.debug(\"Bokeh: all BokehJS libraries/stylesheets loaded\");\n",
       "        run_callbacks()\n",
       "      }\n",
       "    }\n",
       "\n",
       "    function on_error(url) {\n",
       "      console.error(\"failed to load \" + url);\n",
       "    }\n",
       "\n",
       "    for (let i = 0; i < css_urls.length; i++) {\n",
       "      const url = css_urls[i];\n",
       "      const element = document.createElement(\"link\");\n",
       "      element.onload = on_load;\n",
       "      element.onerror = on_error.bind(null, url);\n",
       "      element.rel = \"stylesheet\";\n",
       "      element.type = \"text/css\";\n",
       "      element.href = url;\n",
       "      console.debug(\"Bokeh: injecting link tag for BokehJS stylesheet: \", url);\n",
       "      document.body.appendChild(element);\n",
       "    }\n",
       "\n",
       "    for (let i = 0; i < js_urls.length; i++) {\n",
       "      const url = js_urls[i];\n",
       "      const element = document.createElement('script');\n",
       "      element.onload = on_load;\n",
       "      element.onerror = on_error.bind(null, url);\n",
       "      element.async = false;\n",
       "      element.src = url;\n",
       "      console.debug(\"Bokeh: injecting script tag for BokehJS library: \", url);\n",
       "      document.head.appendChild(element);\n",
       "    }\n",
       "  };\n",
       "\n",
       "  function inject_raw_css(css) {\n",
       "    const element = document.createElement(\"style\");\n",
       "    element.appendChild(document.createTextNode(css));\n",
       "    document.body.appendChild(element);\n",
       "  }\n",
       "\n",
       "  const js_urls = [\"https://cdn.bokeh.org/bokeh/release/bokeh-3.6.2.min.js\", \"https://cdn.bokeh.org/bokeh/release/bokeh-gl-3.6.2.min.js\", \"https://cdn.bokeh.org/bokeh/release/bokeh-widgets-3.6.2.min.js\", \"https://cdn.bokeh.org/bokeh/release/bokeh-tables-3.6.2.min.js\", \"https://cdn.bokeh.org/bokeh/release/bokeh-mathjax-3.6.2.min.js\"];\n",
       "  const css_urls = [];\n",
       "\n",
       "  const inline_js = [    function(Bokeh) {\n",
       "      Bokeh.set_log_level(\"info\");\n",
       "    },\n",
       "function(Bokeh) {\n",
       "    }\n",
       "  ];\n",
       "\n",
       "  function run_inline_js() {\n",
       "    if (root.Bokeh !== undefined || force === true) {\n",
       "      try {\n",
       "            for (let i = 0; i < inline_js.length; i++) {\n",
       "      inline_js[i].call(root, root.Bokeh);\n",
       "    }\n",
       "\n",
       "      } catch (error) {display_loaded(error);throw error;\n",
       "      }if (force === true) {\n",
       "        display_loaded();\n",
       "      }} else if (Date.now() < root._bokeh_timeout) {\n",
       "      setTimeout(run_inline_js, 100);\n",
       "    } else if (!root._bokeh_failed_load) {\n",
       "      console.log(\"Bokeh: BokehJS failed to load within specified timeout.\");\n",
       "      root._bokeh_failed_load = true;\n",
       "    } else if (force !== true) {\n",
       "      const cell = $(document.getElementById(\"c7e36dc0-7824-4a96-8b04-d8081805f023\")).parents('.cell').data().cell;\n",
       "      cell.output_area.append_execute_result(NB_LOAD_WARNING)\n",
       "    }\n",
       "  }\n",
       "\n",
       "  if (root._bokeh_is_loading === 0) {\n",
       "    console.debug(\"Bokeh: BokehJS loaded, going straight to plotting\");\n",
       "    run_inline_js();\n",
       "  } else {\n",
       "    load_libs(css_urls, js_urls, function() {\n",
       "      console.debug(\"Bokeh: BokehJS plotting callback run at\", now());\n",
       "      run_inline_js();\n",
       "    });\n",
       "  }\n",
       "}(window));"
      ],
      "application/vnd.bokehjs_load.v0+json": "'use strict';\n(function(root) {\n  function now() {\n    return new Date();\n  }\n\n  const force = true;\n\n  if (typeof root._bokeh_onload_callbacks === \"undefined\" || force === true) {\n    root._bokeh_onload_callbacks = [];\n    root._bokeh_is_loading = undefined;\n  }\n\n\n  if (typeof (root._bokeh_timeout) === \"undefined\" || force === true) {\n    root._bokeh_timeout = Date.now() + 5000;\n    root._bokeh_failed_load = false;\n  }\n\n  const NB_LOAD_WARNING = {'data': {'text/html':\n     \"<div style='background-color: #fdd'>\\n\"+\n     \"<p>\\n\"+\n     \"BokehJS does not appear to have successfully loaded. If loading BokehJS from CDN, this \\n\"+\n     \"may be due to a slow or bad network connection. Possible fixes:\\n\"+\n     \"</p>\\n\"+\n     \"<ul>\\n\"+\n     \"<li>re-rerun `output_notebook()` to attempt to load from CDN again, or</li>\\n\"+\n     \"<li>use INLINE resources instead, as so:</li>\\n\"+\n     \"</ul>\\n\"+\n     \"<code>\\n\"+\n     \"from bokeh.resources import INLINE\\n\"+\n     \"output_notebook(resources=INLINE)\\n\"+\n     \"</code>\\n\"+\n     \"</div>\"}};\n\n  function display_loaded(error = null) {\n    const el = document.getElementById(\"c7e36dc0-7824-4a96-8b04-d8081805f023\");\n    if (el != null) {\n      const html = (() => {\n        if (typeof root.Bokeh === \"undefined\") {\n          if (error == null) {\n            return \"BokehJS is loading ...\";\n          } else {\n            return \"BokehJS failed to load.\";\n          }\n        } else {\n          const prefix = `BokehJS ${root.Bokeh.version}`;\n          if (error == null) {\n            return `${prefix} successfully loaded.`;\n          } else {\n            return `${prefix} <b>encountered errors</b> while loading and may not function as expected.`;\n          }\n        }\n      })();\n      el.innerHTML = html;\n\n      if (error != null) {\n        const wrapper = document.createElement(\"div\");\n        wrapper.style.overflow = \"auto\";\n        wrapper.style.height = \"5em\";\n        wrapper.style.resize = \"vertical\";\n        const content = document.createElement(\"div\");\n        content.style.fontFamily = \"monospace\";\n        content.style.whiteSpace = \"pre-wrap\";\n        content.style.backgroundColor = \"rgb(255, 221, 221)\";\n        content.textContent = error.stack ?? error.toString();\n        wrapper.append(content);\n        el.append(wrapper);\n      }\n    } else if (Date.now() < root._bokeh_timeout) {\n      setTimeout(() => display_loaded(error), 100);\n    }\n  }\n\n  function run_callbacks() {\n    try {\n      root._bokeh_onload_callbacks.forEach(function(callback) {\n        if (callback != null)\n          callback();\n      });\n    } finally {\n      delete root._bokeh_onload_callbacks\n    }\n    console.debug(\"Bokeh: all callbacks have finished\");\n  }\n\n  function load_libs(css_urls, js_urls, callback) {\n    if (css_urls == null) css_urls = [];\n    if (js_urls == null) js_urls = [];\n\n    root._bokeh_onload_callbacks.push(callback);\n    if (root._bokeh_is_loading > 0) {\n      console.debug(\"Bokeh: BokehJS is being loaded, scheduling callback at\", now());\n      return null;\n    }\n    if (js_urls == null || js_urls.length === 0) {\n      run_callbacks();\n      return null;\n    }\n    console.debug(\"Bokeh: BokehJS not loaded, scheduling load and callback at\", now());\n    root._bokeh_is_loading = css_urls.length + js_urls.length;\n\n    function on_load() {\n      root._bokeh_is_loading--;\n      if (root._bokeh_is_loading === 0) {\n        console.debug(\"Bokeh: all BokehJS libraries/stylesheets loaded\");\n        run_callbacks()\n      }\n    }\n\n    function on_error(url) {\n      console.error(\"failed to load \" + url);\n    }\n\n    for (let i = 0; i < css_urls.length; i++) {\n      const url = css_urls[i];\n      const element = document.createElement(\"link\");\n      element.onload = on_load;\n      element.onerror = on_error.bind(null, url);\n      element.rel = \"stylesheet\";\n      element.type = \"text/css\";\n      element.href = url;\n      console.debug(\"Bokeh: injecting link tag for BokehJS stylesheet: \", url);\n      document.body.appendChild(element);\n    }\n\n    for (let i = 0; i < js_urls.length; i++) {\n      const url = js_urls[i];\n      const element = document.createElement('script');\n      element.onload = on_load;\n      element.onerror = on_error.bind(null, url);\n      element.async = false;\n      element.src = url;\n      console.debug(\"Bokeh: injecting script tag for BokehJS library: \", url);\n      document.head.appendChild(element);\n    }\n  };\n\n  function inject_raw_css(css) {\n    const element = document.createElement(\"style\");\n    element.appendChild(document.createTextNode(css));\n    document.body.appendChild(element);\n  }\n\n  const js_urls = [\"https://cdn.bokeh.org/bokeh/release/bokeh-3.6.2.min.js\", \"https://cdn.bokeh.org/bokeh/release/bokeh-gl-3.6.2.min.js\", \"https://cdn.bokeh.org/bokeh/release/bokeh-widgets-3.6.2.min.js\", \"https://cdn.bokeh.org/bokeh/release/bokeh-tables-3.6.2.min.js\", \"https://cdn.bokeh.org/bokeh/release/bokeh-mathjax-3.6.2.min.js\"];\n  const css_urls = [];\n\n  const inline_js = [    function(Bokeh) {\n      Bokeh.set_log_level(\"info\");\n    },\nfunction(Bokeh) {\n    }\n  ];\n\n  function run_inline_js() {\n    if (root.Bokeh !== undefined || force === true) {\n      try {\n            for (let i = 0; i < inline_js.length; i++) {\n      inline_js[i].call(root, root.Bokeh);\n    }\n\n      } catch (error) {display_loaded(error);throw error;\n      }if (force === true) {\n        display_loaded();\n      }} else if (Date.now() < root._bokeh_timeout) {\n      setTimeout(run_inline_js, 100);\n    } else if (!root._bokeh_failed_load) {\n      console.log(\"Bokeh: BokehJS failed to load within specified timeout.\");\n      root._bokeh_failed_load = true;\n    } else if (force !== true) {\n      const cell = $(document.getElementById(\"c7e36dc0-7824-4a96-8b04-d8081805f023\")).parents('.cell').data().cell;\n      cell.output_area.append_execute_result(NB_LOAD_WARNING)\n    }\n  }\n\n  if (root._bokeh_is_loading === 0) {\n    console.debug(\"Bokeh: BokehJS loaded, going straight to plotting\");\n    run_inline_js();\n  } else {\n    load_libs(css_urls, js_urls, function() {\n      console.debug(\"Bokeh: BokehJS plotting callback run at\", now());\n      run_inline_js();\n    });\n  }\n}(window));"
     },
     "metadata": {},
     "output_type": "display_data"
    },
    {
     "data": {
      "text/html": [
       "\n",
       "  <div id=\"d745183e-cbaf-483a-996e-89e0f6d978e2\" data-root-id=\"p1004\" style=\"display: contents;\"></div>\n"
      ]
     },
     "metadata": {},
     "output_type": "display_data"
    },
    {
     "data": {
      "application/javascript": [
       "(function(root) {\n",
       "  function embed_document(root) {\n",
       "  const docs_json = {\"2c8a9b97-3a75-4e52-9f01-c1ab2857bfec\":{\"version\":\"3.6.2\",\"title\":\"Bokeh Application\",\"roots\":[{\"type\":\"object\",\"name\":\"Figure\",\"id\":\"p1004\",\"attributes\":{\"width\":800,\"x_range\":{\"type\":\"object\",\"name\":\"DataRange1d\",\"id\":\"p1005\"},\"y_range\":{\"type\":\"object\",\"name\":\"DataRange1d\",\"id\":\"p1006\"},\"x_scale\":{\"type\":\"object\",\"name\":\"LinearScale\",\"id\":\"p1014\"},\"y_scale\":{\"type\":\"object\",\"name\":\"LinearScale\",\"id\":\"p1015\"},\"title\":{\"type\":\"object\",\"name\":\"Title\",\"id\":\"p1007\",\"attributes\":{\"text\":\"t-SNE Visualization of Embeddings\"}},\"renderers\":[{\"type\":\"object\",\"name\":\"GlyphRenderer\",\"id\":\"p1036\",\"attributes\":{\"data_source\":{\"type\":\"object\",\"name\":\"ColumnDataSource\",\"id\":\"p1001\",\"attributes\":{\"selected\":{\"type\":\"object\",\"name\":\"Selection\",\"id\":\"p1002\",\"attributes\":{\"indices\":[],\"line_indices\":[]}},\"selection_policy\":{\"type\":\"object\",\"name\":\"UnionRenderers\",\"id\":\"p1003\"},\"data\":{\"type\":\"map\",\"entries\":[[\"x\",{\"type\":\"ndarray\",\"array\":{\"type\":\"bytes\",\"data\":\"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\"},\"shape\":[1420],\"dtype\":\"float32\",\"order\":\"little\"}],[\"y\",{\"type\":\"ndarray\",\"array\":{\"type\":\"bytes\",\"data\":\"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\"},\"shape\":[1420],\"dtype\":\"float32\",\"order\":\"little\"}],[\"filename\",[\"riva\",\"riva\",\"riva\",\"riva\",\"riva\",\"riva\",\"riva\",\"clara\",\"clara\",\"clara\",\"clara\",\"clara\",\"clara\",\"clara\",\"clara\",\"clara\",\"clara\",\"clara\",\"clara\",\"project-GR00T\",\"project-GR00T\",\"project-GR00T\",\"project-GR00T\",\"project-GR00T\",\"project-GR00T\",\"project-GR00T\",\"project-GR00T\",\"project-GR00T\",\"opticalflow-sdk\",\"opticalflow-sdk\",\"opticalflow-sdk\",\"opticalflow-sdk\",\"opticalflow-sdk\",\"opticalflow-sdk\",\"video-and-audio-solutions\",\"video-and-audio-solutions\",\"video-and-audio-solutions\",\"video-and-audio-solutions\",\"video-and-audio-solutions\",\"video-and-audio-solutions\",\"video-and-audio-solutions\",\"video-and-audio-solutions\",\"video-and-audio-solutions\",\"metropolis\",\"metropolis\",\"metropolis\",\"metropolis\",\"metropolis\",\"metropolis\",\"metropolis\",\"metropolis\",\"metropolis\",\"metropolis\",\"metropolis\",\"metropolis\",\"metropolis\",\"usd\",\"usd\",\"usd\",\"usd\",\"usd\",\"usd\",\"usd\",\"usd\",\"usd\",\"usd\",\"usd\",\"jetpack\",\"jetpack\",\"jetpack\",\"jetpack\",\"jetpack\",\"jetpack\",\"jetpack\",\"jetpack\",\"jetpack\",\"jetpack\",\"jetpack\",\"jetpack\",\"jetpack\",\"jetpack\",\"jetpack\",\"jetpack\",\"jetpack\",\"jetpack\",\"jetpack\",\"jetpack\",\"jetpack\",\"jetpack\",\"jetpack\",\"jetpack\",\"jetpack\",\"jetpack\",\"jetpack\",\"jetpack\",\"jetpack\",\"jetpack\",\"jetpack\",\"jetpack\",\"jetpack\",\"jetpack\",\"jetpack\",\"jetpack\",\"modulus\",\"modulus\",\"modulus\",\"modulus\",\"modulus\",\"modulus\",\"modulus\",\"modulus\",\"modulus\",\"modulus\",\"modulus\",\"modulus\",\"driveos\",\"driveos\",\"driveos\",\"driveos\",\"driveos\",\"clara-parabricks\",\"clara-parabricks\",\"clara-parabricks\",\"clara-parabricks\",\"clara-parabricks\",\"clara-parabricks\",\"clara-parabricks\",\"clara-parabricks\",\"clara-parabricks\",\"clara-parabricks\",\"clara-parabricks\",\"clara-parabricks\",\"clara-parabricks\",\"clara-parabricks\",\"clara-parabricks\",\"clara-parabricks\",\"\",\"\",\"\",\"\",\"\",\"\",\"\",\"\",\"\",\"cuopt-logistics-optimization\",\"cuopt-logistics-optimization\",\"cuopt-logistics-optimization\",\"cuopt-logistics-optimization\",\"cuopt-logistics-optimization\",\"cuopt-logistics-optimization\",\"cuopt-logistics-optimization\",\"cuopt-logistics-optimization\",\"cuopt-logistics-optimization\",\"cuopt-logistics-optimization\",\"cuopt-logistics-optimization\",\"cuopt-logistics-optimization\",\"cuopt-logistics-optimization\",\"cuopt-logistics-optimization\",\"cuopt-logistics-optimization\",\"cuopt-logistics-optimization\",\"nvidia-video-codec-sdk\",\"nvidia-video-codec-sdk\",\"nvidia-video-codec-sdk\",\"nvidia-video-codec-sdk\",\"nvidia-video-codec-sdk\",\"nvidia-video-codec-sdk\",\"nvidia-video-codec-sdk\",\"nvidia-video-codec-sdk\",\"nvidia-video-codec-sdk\",\"nvidia-video-codec-sdk\",\"nvidia-video-codec-sdk\",\"nvidia-video-codec-sdk\",\"nvidia-video-codec-sdk\",\"nvidia-video-codec-sdk\",\"nvidia-video-codec-sdk\",\"nvidia-video-codec-sdk\",\"nvidia-video-codec-sdk\",\"nvidia-video-codec-sdk\",\"email-signup\",\"TAO\",\"TAO\",\"TAO\",\"TAO\",\"TAO\",\"TAO\",\"TAO\",\"TAO\",\"TAO\",\"TAO\",\"TAO\",\"TAO\",\"TAO\",\"TAO\",\"TAO\",\"TAO\",\"TAO\",\"TAO\",\"TAO\",\"unreal-engine\",\"unreal-engine\",\"unreal-engine\",\"unreal-engine\",\"unreal-engine\",\"unreal-engine\",\"unreal-engine\",\"unreal-engine\",\"vrworks\",\"vrworks\",\"vrworks\",\"vrworks\",\"vrworks\",\"vrworks\",\"vrworks\",\"vrworks\",\"vrworks\",\"vrworks\",\"metropolis-microservices\",\"metropolis-microservices\",\"metropolis-microservices\",\"metropolis-microservices\",\"metropolis-microservices\",\"metropolis-microservices\",\"metropolis-microservices\",\"metropolis-microservices\",\"metropolis-microservices\",\"metropolis-microservices\",\"metropolis-microservices\",\"metropolis-microservices\",\"converged-accelerator-developer-kit\",\"converged-accelerator-developer-kit\",\"converged-accelerator-developer-kit\",\"converged-accelerator-developer-kit\",\"converged-accelerator-developer-kit\",\"converged-accelerator-developer-kit\",\"converged-accelerator-developer-kit\",\"converged-accelerator-developer-kit\",\"converged-accelerator-developer-kit\",\"converged-accelerator-developer-kit\",\"converged-accelerator-developer-kit\",\"open-source\",\"physx-sdk\",\"physx-sdk\",\"physx-sdk\",\"physx-sdk\",\"physx-sdk\",\"physx-sdk\",\"physx-sdk\",\"physx-sdk\",\"rtxgi\",\"rtxgi\",\"rtxgi\",\"rtxgi\",\"rtxgi\",\"rtxgi\",\"rtxgi\",\"rtxgi\",\"rtxgi\",\"rtxgi\",\"networking\",\"networking\",\"networking\",\"networking\",\"networking\",\"networking\",\"ros\",\"ros\",\"ros\",\"ros\",\"ros\",\"ros\",\"ros\",\"ros\",\"ros\",\"ros\",\"ros\",\"ros\",\"drive-hyperion\",\"drive-hyperion\",\"drive-hyperion\",\"drive-hyperion\",\"drive-hyperion\",\"drive-hyperion\",\"drive-hyperion\",\"optix\",\"optix\",\"optix\",\"optix\",\"optix\",\"optix\",\"optix\",\"optix\",\"optix\",\"optix\",\"optix\",\"optix\",\"optix\",\"optix\",\"optix\",\"optix\",\"optix\",\"optix\",\"optix\",\"optix\",\"optix\",\"optix\",\"optix\",\"energy\",\"energy\",\"energy\",\"energy\",\"energy\",\"energy\",\"energy\",\"energy\",\"energy\",\"energy\",\"energy\",\"energy\",\"energy\",\"reflex\",\"reflex\",\"reflex\",\"reflex\",\"reflex\",\"reflex\",\"reflex\",\"tao-toolkit\",\"tao-toolkit\",\"tao-toolkit\",\"tao-toolkit\",\"tao-toolkit\",\"tao-toolkit\",\"tao-toolkit\",\"tao-toolkit\",\"tao-toolkit\",\"tao-toolkit\",\"tao-toolkit\",\"tao-toolkit\",\"tao-toolkit\",\"tao-toolkit\",\"tao-toolkit\",\"tao-toolkit\",\"tao-toolkit\",\"tao-toolkit\",\"tao-toolkit\",\"rendering-performance\",\"rendering-performance\",\"rendering-performance\",\"rendering-performance\",\"rendering-performance\",\"rendering-performance\",\"higher-education-and-research\",\"higher-education-and-research\",\"higher-education-and-research\",\"higher-education-and-research\",\"higher-education-and-research\",\"higher-education-and-research\",\"higher-education-and-research\",\"higher-education-and-research\",\"higher-education-and-research\",\"higher-education-and-research\",\"higher-education-and-research\",\"higher-education-and-research\",\"higher-education-and-research\",\"higher-education-and-research\",\"aeco\",\"aeco\",\"aeco\",\"aeco\",\"aeco\",\"aeco\",\"aeco\",\"aeco\",\"aeco\",\"aeco\",\"aeco\",\"aeco\",\"aeco\",\"aeco\",\"aeco\",\"aeco\",\"aeco\",\"aeco\",\"aeco\",\"aeco\",\"aeco\",\"gpu-accelerated-libraries\",\"gpu-accelerated-libraries\",\"gpu-accelerated-libraries\",\"gpu-accelerated-libraries\",\"gpu-accelerated-libraries\",\"gpu-accelerated-libraries\",\"gpu-accelerated-libraries\",\"gpu-accelerated-libraries\",\"gpu-accelerated-libraries\",\"gpu-accelerated-libraries\",\"gpu-accelerated-libraries\",\"maxine\",\"maxine\",\"maxine\",\"maxine\",\"maxine\",\"maxine\",\"maxine\",\"maxine\",\"maxine\",\"maxine\",\"maxine\",\"hpc\",\"hpc\",\"hpc\",\"hpc\",\"hpc\",\"hpc\",\"hpc\",\"hpc\",\"hpc\",\"hpc\",\"hpc\",\"hpc\",\"overview\",\"tools-overview\",\"tools-overview\",\"tools-overview\",\"tools-overview\",\"tools-overview\",\"tools-overview\",\"tools-overview\",\"tools-overview\",\"tools-overview\",\"tools-overview\",\"tools-overview\",\"tools-overview\",\"tools-overview\",\"consumer-internet\",\"consumer-internet\",\"consumer-internet\",\"consumer-internet\",\"consumer-internet\",\"consumer-internet\",\"consumer-internet\",\"consumer-internet\",\"consumer-internet\",\"consumer-internet\",\"consumer-internet\",\"consumer-internet\",\"consumer-internet\",\"consumer-internet\",\"consumer-internet\",\"rt-denoisers\",\"rt-denoisers\",\"rt-denoisers\",\"rt-denoisers\",\"rt-denoisers\",\"rt-denoisers\",\"rt-denoisers\",\"rt-denoisers\",\"rt-denoisers\",\"rt-denoisers\",\"rt-denoisers\",\"rt-denoisers\",\"rt-denoisers\",\"rt-denoisers\",\"unity-engine\",\"unity-engine\",\"unity-engine\",\"unity-engine\",\"unity-engine\",\"unity-engine\",\"unity-engine\",\"unity-engine\",\"OSMO\",\"OSMO\",\"OSMO\",\"OSMO\",\"jupyter-notebooks\",\"jupyter-notebooks\",\"jupyter-notebooks\",\"jupyter-notebooks\",\"jupyter-notebooks\",\"jupyter-notebooks\",\"jupyter-notebooks\",\"jupyter-notebooks\",\"jupyter-notebooks\",\"hpc-x\",\"hpc-x\",\"hpc-x\",\"hpc-x\",\"hpc-x\",\"hpc-x\",\"hpc-x\",\"hpc-x\",\"hpc-x\",\"image-processing\",\"image-processing\",\"image-processing\",\"image-processing\",\"image-processing\",\"morpheus-cybersecurity\",\"morpheus-cybersecurity\",\"morpheus-cybersecurity\",\"morpheus-cybersecurity\",\"morpheus-cybersecurity\",\"morpheus-cybersecurity\",\"morpheus-cybersecurity\",\"morpheus-cybersecurity\",\"morpheus-cybersecurity\",\"morpheus-cybersecurity\",\"morpheus-cybersecurity\",\"morpheus-cybersecurity\",\"rendering-technologies\",\"rendering-technologies\",\"rendering-technologies\",\"rendering-technologies\",\"rendering-technologies\",\"rendering-technologies\",\"rendering-technologies\",\"rendering-technologies\",\"rendering-technologies\",\"rendering-technologies\",\"rendering-technologies\",\"community\",\"community\",\"community\",\"community\",\"community\",\"community\",\"community\",\"community\",\"cusparse\",\"cusparse\",\"cusparse\",\"cusparse\",\"perceptor\",\"perceptor\",\"perceptor\",\"perceptor\",\"perceptor\",\"perceptor\",\"perceptor\",\"perceptor\",\"perceptor\",\"perceptor\",\"perceptor\",\"jetson-modules\",\"jetson-modules\",\"jetson-modules\",\"jetson-modules\",\"jetson-modules\",\"jetson-modules\",\"jetson-modules\",\"jetson-modules\",\"jetson-modules\",\"ace\",\"ace\",\"ace\",\"ace\",\"ace\",\"ace\",\"ace\",\"ace\",\"ai-models\",\"ai-models\",\"ai-models\",\"ai-models\",\"ai-models\",\"ai-models\",\"ai-models\",\"ai-models\",\"ai-models\",\"ai-models\",\"ai-models\",\"ai-models\",\"ai-models\",\"ai-models\",\"ai-models\",\"ai-models\",\"ai-models\",\"ai-models\",\"ai-models\",\"ai-models\",\"ai-models\",\"cuda-toolkit\",\"cuda-toolkit\",\"cuda-toolkit\",\"cuda-toolkit\",\"cuda-toolkit\",\"cuda-toolkit\",\"cuda-toolkit\",\"cuda-toolkit\",\"cuda-toolkit\",\"nvidia-index\",\"nvidia-index\",\"nvidia-index\",\"nvidia-index\",\"nvidia-index\",\"omniverse\",\"omniverse\",\"omniverse\",\"omniverse\",\"omniverse\",\"omniverse\",\"omniverse\",\"omniverse\",\"omniverse\",\"micro-mesh\",\"micro-mesh\",\"micro-mesh\",\"micro-mesh\",\"micro-mesh\",\"micro-mesh\",\"micro-mesh\",\"micro-mesh\",\"rtxdi\",\"rtxdi\",\"rtxdi\",\"rtxdi\",\"rtxdi\",\"rtxdi\",\"rtxdi\",\"rtxdi\",\"rtxdi\",\"rtxdi\",\"rtxdi\",\"arm\",\"arm\",\"arm\",\"arm\",\"arm\",\"arm\",\"arm\",\"arm\",\"arm\",\"arm\",\"arm\",\"path-tracing\",\"path-tracing\",\"path-tracing\",\"path-tracing\",\"path-tracing\",\"drive-sim\",\"clara-guardian\",\"clara-guardian\",\"clara-guardian\",\"clara-guardian\",\"clara-guardian\",\"clara-guardian\",\"clara-guardian\",\"clara-guardian\",\"clara-guardian\",\"clara-guardian\",\"clara-guardian\",\"game-development\",\"game-development\",\"game-development\",\"game-development\",\"game-development\",\"game-development\",\"game-development\",\"game-development\",\"game-development\",\"manipulator\",\"manipulator\",\"manipulator\",\"manipulator\",\"manipulator\",\"manipulator\",\"manipulator\",\"manipulator\",\"manipulator\",\"manipulator\",\"manipulator\",\"public-sector\",\"public-sector\",\"public-sector\",\"public-sector\",\"public-sector\",\"public-sector\",\"public-sector\",\"public-sector\",\"public-sector\",\"public-sector\",\"public-sector\",\"public-sector\",\"public-sector\",\"public-sector\",\"public-sector\",\"public-sector\",\"public-sector\",\"public-sector\",\"public-sector\",\"deepstream-sdk\",\"deepstream-sdk\",\"deepstream-sdk\",\"deepstream-sdk\",\"deepstream-sdk\",\"deepstream-sdk\",\"deepstream-sdk\",\"deepstream-sdk\",\"deepstream-sdk\",\"deepstream-sdk\",\"deepstream-sdk\",\"deepstream-sdk\",\"deepstream-sdk\",\"deepstream-sdk\",\"deepstream-sdk\",\"deepstream-sdk\",\"deepstream-sdk\",\"deepstream-sdk\",\"deepstream-sdk\",\"deepstream-sdk\",\"deepstream-sdk\",\"graphics-research-tools\",\"graphics-research-tools\",\"graphics-research-tools\",\"dlss\",\"dlss\",\"dlss\",\"dlss\",\"dlss\",\"dlss\",\"dlss\",\"dlss\",\"drive\",\"drive\",\"drive\",\"drive\",\"kickstart\",\"kickstart\",\"kickstart\",\"kickstart\",\"kickstart\",\"doca\",\"doca\",\"doca\",\"doca\",\"doca\",\"doca\",\"doca\",\"doca\",\"doca\",\"\",\"\",\"\",\"\",\"hyperion#section1\",\"hyperion#section1\",\"hyperion#section1\",\"hyperion#section1\",\"hyperion#section1\",\"hyperion#section1\",\"hyperion#section1\",\"cuquantum-sdk\",\"cuquantum-sdk\",\"cuquantum-sdk\",\"cuquantum-sdk\",\"cuquantum-sdk\",\"cuquantum-sdk\",\"cuquantum-sdk\",\"cuquantum-sdk\",\"cuquantum-sdk\",\"cuquantum-sdk\",\"cuquantum-sdk\",\"cuquantum-sdk\",\"cuquantum-sdk\",\"cuquantum-sdk\",\"cuquantum-sdk\",\"cuquantum-sdk\",\"cuquantum-sdk\",\"aerial\",\"aerial\",\"aerial\",\"aerial\",\"aerial\",\"aerial\",\"aerial\",\"aerial\",\"aerial\",\"aerial\",\"aerial\",\"aerial\",\"aerial\",\"aerial\",\"aerial\",\"nvidia-triton-inference-server\",\"nvidia-triton-inference-server\",\"nvidia-triton-inference-server\",\"nvidia-triton-inference-server\",\"nvidia-triton-inference-server\",\"nvidia-triton-inference-server\",\"nvidia-triton-inference-server\",\"driveworks\",\"driveworks\",\"driveworks\",\"driveworks\",\"driveworks\",\"driveworks\",\"driveworks\",\"driveworks\",\"driveworks\",\"driveworks\",\"financial-services\",\"financial-services\",\"financial-services\",\"financial-services\",\"financial-services\",\"financial-services\",\"financial-services\",\"financial-services\",\"financial-services\",\"financial-services\",\"nvidia-cloudxr-sdk\",\"nvidia-cloudxr-sdk\",\"nvidia-cloudxr-sdk\",\"nvidia-cloudxr-sdk\",\"nvidia-cloudxr-sdk\",\"nvidia-cloudxr-sdk\",\"nvidia-cloudxr-sdk\",\"nvidia-cloudxr-sdk\",\"nvidia-nemo\",\"nvidia-nemo\",\"nvidia-nemo\",\"nvidia-nemo\",\"nvidia-nemo\",\"nvidia-nemo\",\"nvidia-nemo\",\"nvidia-nemo\",\"nvidia-nemo\",\"nvidia-nemo\",\"nvidia-nemo\",\"nvidia-nemo\",\"nvidia-nemo\",\"nvidia-nemo\",\"nvidia-nemo\",\"streamline\",\"streamline\",\"streamline\",\"streamline\",\"streamline\",\"streamline\",\"streamline\",\"tensorrt\",\"tensorrt\",\"tensorrt\",\"tensorrt\",\"tensorrt\",\"tensorrt\",\"tensorrt\",\"tensorrt\",\"tensorrt\",\"tensorrt\",\"tensorrt\",\"tensorrt\",\"raytracing\",\"raytracing\",\"raytracing\",\"raytracing\",\"raytracing\",\"clara-holoscan-sdk\",\"clara-holoscan-sdk\",\"clara-holoscan-sdk\",\"clara-holoscan-sdk\",\"clara-holoscan-sdk\",\"clara-holoscan-sdk\",\"clara-holoscan-sdk\",\"clara-holoscan-sdk\",\"clara-holoscan-sdk\",\"clara-holoscan-sdk\",\"clara-holoscan-sdk\",\"clara-holoscan-sdk\",\"clara-holoscan-sdk\",\"clara-holoscan-sdk\",\"clara-holoscan-sdk\",\"clara-holoscan-sdk\",\"clara-holoscan-sdk\",\"cublas\",\"cublas\",\"cublas\",\"cublas\",\"cublas\",\"cublas\",\"rapids\",\"rapids\",\"rapids\",\"rapids\",\"rapids\",\"rapids\",\"rapids\",\"rapids\",\"rapids\",\"rapids\",\"rapids\",\"dali\",\"dali\",\"dali\",\"dali\",\"dali\",\"dali\",\"dali\",\"dali\",\"sionna\",\"sionna\",\"sionna\",\"sionna\",\"sionna\",\"magnum-io\",\"magnum-io\",\"magnum-io\",\"magnum-io\",\"magnum-io\",\"magnum-io\",\"magnum-io\",\"magnum-io\",\"magnum-io\",\"culitho\",\"culitho\",\"culitho\",\"culitho\",\"culitho\",\"culitho\",\"culitho\",\"culitho\",\"culitho\",\"DeveloperHome\",\"DeveloperHome\",\"DeveloperHome\",\"DeveloperHome\",\"DeveloperHome\",\"telecommunications\",\"telecommunications\",\"telecommunications\",\"telecommunications\",\"telecommunications\",\"telecommunications\",\"telecommunications\",\"telecommunications\",\"cudnn\",\"cudnn\",\"cudnn\",\"cudnn\",\"cudnn\",\"cudnn\",\"cudnn\",\"cudnn\",\"cudnn\",\"ai-hpc-containers\",\"ai-hpc-containers\",\"ai-hpc-containers\",\"ai-hpc-containers\",\"ai-hpc-containers\",\"ai-hpc-containers\",\"ai-hpc-containers\",\"ai-hpc-containers\",\"ai-hpc-containers\",\"ai-hpc-containers\",\"ai-hpc-containers\",\"reflex\",\"reflex\",\"reflex\",\"reflex\",\"reflex\",\"reflex\",\"reflex\",\"generative-ai\",\"generative-ai\",\"generative-ai\",\"generative-ai\",\"generative-ai\",\"generative-ai\",\"generative-ai\",\"generative-ai\",\"generative-ai\",\"generative-ai\",\"generative-ai\",\"generative-ai\",\"generative-ai\",\"generative-ai\",\"generative-ai\",\"metropolis-for-factories\",\"metropolis-for-factories\",\"metropolis-for-factories\",\"metropolis-for-factories\",\"embedded-computing\",\"display-and-output-solutions\",\"display-and-output-solutions\",\"display-and-output-solutions\",\"display-and-output-solutions\",\"display-and-output-solutions\",\"display-and-output-solutions\",\"display-and-output-solutions\",\"display-and-output-solutions\",\"computer-vision\",\"computer-vision\",\"computer-vision\",\"computer-vision\",\"computer-vision\",\"computer-vision\",\"computer-vision\",\"computer-vision\",\"computer-vision\",\"computer-vision\",\"computer-vision\",\"computer-vision\",\"computer-vision\",\"computer-vision\",\"nccl\",\"nccl\",\"nccl\",\"nccl\",\"nccl\",\"\",\"\",\"\",\"\",\"\",\"\",\"developer-program\",\"developer-program\",\"developer-program\",\"developer-program\",\"developer-program\",\"rtxmu\",\"rtxmu\",\"rtxmu\",\"rtxmu\",\"rtxmu\",\"rtxmu\",\"isaac\",\"isaac\",\"isaac\",\"isaac\",\"isaac\",\"isaac\",\"isaac\",\"isaac-sim\",\"isaac-sim\",\"isaac-sim\",\"isaac-sim\",\"isaac-sim\",\"isaac-sim\",\"isaac-sim\",\"isaac-sim\",\"isaac-sim\",\"isaac-sim\",\"isaac-sim\",\"isaac-sim\",\"data-science\",\"data-science\",\"data-science\",\"data-science\",\"data-science\",\"data-science\",\"openacc\",\"openacc\",\"openacc\",\"nvidia-merlin\",\"nvidia-merlin\",\"nvidia-merlin\",\"nvidia-merlin\",\"nvidia-merlin\",\"nvidia-merlin\",\"nvidia-merlin\",\"nvidia-merlin\",\"nvidia-merlin\",\"nvidia-merlin\",\"rivermax\",\"rivermax\",\"rivermax\",\"rivermax\",\"rivermax\",\"rivermax\",\"rivermax\",\"rivermax\",\"rivermax\",\"rivermax\",\"rivermax\",\"rivermax\",\"rivermax\",\"rivermax\",\"rivermax\",\"rivermax\",\"rivermax\",\"rivermax\",\"rivermax\",\"rivermax\",\"\",\"\",\"\",\"\",\"\",\"\",\"\",\"\",\"\",\"\",\"\",\"\",\"\",\"\",\"\",\"\",\"\",\"\",\"\",\"\",\"\",\"\",\"\",\"\",\"\",\"\",\"\",\"\",\"\",\"\",\"\",\"\",\"\",\"\",\"\",\"\",\"\",\"\",\"hpc-sdk\",\"hpc-sdk\",\"hpc-sdk\",\"hpc-sdk\",\"hpc-sdk\",\"hpc-sdk\",\"hpc-sdk\",\"hpc-sdk\",\"hpc-sdk\",\"hpc-sdk\",\"hpc-sdk\",\"hpc-sdk\",\"hpc-sdk\",\"hpc-sdk\",\"hpc-sdk\",\"clara-genomics\",\"clara-genomics\",\"clara-genomics\",\"clara-genomics\",\"clara-genomics\",\"clara-genomics\",\"clara-genomics\",\"clara-genomics\",\"clara-genomics\",\"clara-genomics\",\"clara-genomics\",\"clara-genomics\",\"clara-genomics\",\"clara-genomics\",\"clara-genomics\",\"clara-genomics\",\"qoda\",\"qoda\",\"qoda\",\"qoda\",\"qoda\",\"qoda\",\"qoda\",\"Part 3_ Inside Atom Ai \\u2013 How Generation Processes Enrich AI Conversations - WWT\",\"Part 3_ Inside Atom Ai \\u2013 How Generation Processes Enrich AI Conversations - WWT\",\"Part 3_ Inside Atom Ai \\u2013 How Generation Processes Enrich AI Conversations - WWT\",\"Part 3_ Inside Atom Ai \\u2013 How Generation Processes Enrich AI Conversations - WWT\",\"Part 3_ Inside Atom Ai \\u2013 How Generation Processes Enrich AI Conversations - WWT\",\"Part 3_ Inside Atom Ai \\u2013 How Generation Processes Enrich AI Conversations - WWT\",\"Part 3_ Inside Atom Ai \\u2013 How Generation Processes Enrich AI Conversations - WWT\",\"Part 3_ Inside Atom Ai \\u2013 How Generation Processes Enrich AI Conversations - WWT\",\"Part 3_ Inside Atom Ai \\u2013 How Generation Processes Enrich AI Conversations - WWT\",\"Part 3_ Inside Atom Ai \\u2013 How Generation Processes Enrich AI Conversations - WWT\",\"Part 3_ Inside Atom Ai \\u2013 How Generation Processes Enrich AI Conversations - WWT\",\"Part 3_ Inside Atom Ai \\u2013 How Generation Processes Enrich AI Conversations - WWT\",\"Part 3_ Inside Atom Ai \\u2013 How Generation Processes Enrich AI Conversations - WWT\",\"Part 3_ Inside Atom Ai \\u2013 How Generation Processes Enrich AI Conversations - WWT\",\"Part 3_ Inside Atom Ai \\u2013 How Generation Processes Enrich AI Conversations - WWT\",\"Part 3_ Inside Atom Ai \\u2013 How Generation Processes Enrich AI Conversations - WWT\",\"Part 3_ Inside Atom Ai \\u2013 How Generation Processes Enrich AI Conversations - WWT\",\"Part 3_ Inside Atom Ai \\u2013 How Generation Processes Enrich AI Conversations - WWT\",\"Part 3_ Inside Atom Ai \\u2013 How Generation Processes Enrich AI Conversations - WWT\",\"Part 3_ Inside Atom Ai \\u2013 How Generation Processes Enrich AI Conversations - WWT\",\"Part 3_ Inside Atom Ai \\u2013 How Generation Processes Enrich AI Conversations - WWT\",\"Part 3_ Inside Atom Ai \\u2013 How Generation Processes Enrich AI Conversations - WWT\",\"Part 3_ Inside Atom Ai \\u2013 How Generation Processes Enrich AI Conversations - WWT\",\"Part 3_ Inside Atom Ai \\u2013 How Generation Processes Enrich AI Conversations - WWT\",\"Part 3_ Inside Atom Ai \\u2013 How Generation Processes Enrich AI Conversations - WWT\",\"Part 3_ Inside Atom Ai \\u2013 How Generation Processes Enrich AI Conversations - WWT\",\"Part 3_ Inside Atom Ai \\u2013 How Generation Processes Enrich AI Conversations - WWT\",\"Part 3_ Inside Atom Ai \\u2013 How Generation Processes Enrich AI Conversations - WWT\",\"Part 3_ Inside Atom Ai \\u2013 How Generation Processes Enrich AI Conversations - WWT\",\"Part 3_ Inside Atom Ai \\u2013 How Generation Processes Enrich AI Conversations - WWT\",\"Part 3_ Inside Atom Ai \\u2013 How Generation Processes Enrich AI Conversations - WWT\",\"Part 1_ Meet RFP Assistant \\u2014 the AI Improving Proposal Response Speed and Efficiency - WWT\",\"Part 1_ Meet RFP Assistant \\u2014 the AI Improving Proposal Response Speed and Efficiency - WWT\",\"Part 1_ Meet RFP Assistant \\u2014 the AI Improving Proposal Response Speed and Efficiency - WWT\",\"Part 1_ Meet RFP Assistant \\u2014 the AI Improving Proposal Response Speed and Efficiency - WWT\",\"Part 1_ Meet RFP Assistant \\u2014 the AI Improving Proposal Response Speed and Efficiency - WWT\",\"Part 1_ Meet RFP Assistant \\u2014 the AI Improving Proposal Response Speed and Efficiency - WWT\",\"Part 1_ Meet RFP Assistant \\u2014 the AI Improving Proposal Response Speed and Efficiency - WWT\",\"Part 1_ Meet RFP Assistant \\u2014 the AI Improving Proposal Response Speed and Efficiency - WWT\",\"Part 1_ Meet RFP Assistant \\u2014 the AI Improving Proposal Response Speed and Efficiency - WWT\",\"Part 1_ Meet RFP Assistant \\u2014 the AI Improving Proposal Response Speed and Efficiency - WWT\",\"Part 1_ Meet RFP Assistant \\u2014 the AI Improving Proposal Response Speed and Efficiency - WWT\",\"Part 1_ Meet RFP Assistant \\u2014 the AI Improving Proposal Response Speed and Efficiency - WWT\",\"Part 1_ Meet RFP Assistant \\u2014 the AI Improving Proposal Response Speed and Efficiency - WWT\",\"Part 1_ Meet RFP Assistant \\u2014 the AI Improving Proposal Response Speed and Efficiency - WWT\",\"Part 1_ Meet RFP Assistant \\u2014 the AI Improving Proposal Response Speed and Efficiency - WWT\",\"Part 1_ Meet RFP Assistant \\u2014 the AI Improving Proposal Response Speed and Efficiency - WWT\",\"Part 1_ Meet RFP Assistant \\u2014 the AI Improving Proposal Response Speed and Efficiency - WWT\",\"Part 1_ Meet RFP Assistant \\u2014 the AI Improving Proposal Response Speed and Efficiency - WWT\",\"Part 1_ Meet RFP Assistant \\u2014 the AI Improving Proposal Response Speed and Efficiency - WWT\",\"Part 1_ Meet RFP Assistant \\u2014 the AI Improving Proposal Response Speed and Efficiency - WWT\",\"Part 1_ Meet RFP Assistant \\u2014 the AI Improving Proposal Response Speed and Efficiency - WWT\",\"Part 1_ Meet RFP Assistant \\u2014 the AI Improving Proposal Response Speed and Efficiency - WWT\",\"Part 1_ Meet RFP Assistant \\u2014 the AI Improving Proposal Response Speed and Efficiency - WWT\",\"Part 1_ Meet RFP Assistant \\u2014 the AI Improving Proposal Response Speed and Efficiency - WWT\",\"Part 1_ Meet RFP Assistant \\u2014 the AI Improving Proposal Response Speed and Efficiency - WWT\",\"Part 1_ Meet RFP Assistant \\u2014 the AI Improving Proposal Response Speed and Efficiency - WWT\",\"Part 1_ Meet RFP Assistant \\u2014 the AI Improving Proposal Response Speed and Efficiency - WWT\",\"Part 1_ Meet RFP Assistant \\u2014 the AI Improving Proposal Response Speed and Efficiency - WWT\",\"Part 1_ Meet RFP Assistant \\u2014 the AI Improving Proposal Response Speed and Efficiency - WWT\",\"Part 1_ Meet RFP Assistant \\u2014 the AI Improving Proposal Response Speed and Efficiency - WWT\",\"Part 1_ Meet RFP Assistant \\u2014 the AI Improving Proposal Response Speed and Efficiency - WWT\",\"Part 1_ Meet RFP Assistant \\u2014 the AI Improving Proposal Response Speed and Efficiency - WWT\",\"Part 1_ Meet RFP Assistant \\u2014 the AI Improving Proposal Response Speed and Efficiency - WWT\",\"Part 1_ Meet RFP Assistant \\u2014 the AI Improving Proposal Response Speed and Efficiency - WWT\",\"Part 1_ Meet RFP Assistant \\u2014 the AI Improving Proposal Response Speed and Efficiency - WWT\",\"Part 1_ Meet RFP Assistant \\u2014 the AI Improving Proposal Response Speed and Efficiency - WWT\",\"Part 1_ Meet RFP Assistant \\u2014 the AI Improving Proposal Response Speed and Efficiency - WWT\",\"Part 1_ Meet RFP Assistant \\u2014 the AI Improving Proposal Response Speed and Efficiency - WWT\",\"Part 1_ Meet RFP Assistant \\u2014 the AI Improving Proposal Response Speed and Efficiency - WWT\",\"Part 1_ Meet RFP Assistant \\u2014 the AI Improving Proposal Response Speed and Efficiency - WWT\",\"Part 1_ Meet RFP Assistant \\u2014 the AI Improving Proposal Response Speed and Efficiency - WWT\",\"Part 1_ Meet RFP Assistant \\u2014 the AI Improving Proposal Response Speed and Efficiency - WWT\",\"Part 1_ Meet RFP Assistant \\u2014 the AI Improving Proposal Response Speed and Efficiency - WWT\",\"Part 1_ Meet RFP Assistant \\u2014 the AI Improving Proposal Response Speed and Efficiency - WWT\",\"Part 1_ Meet RFP Assistant \\u2014 the AI Improving Proposal Response Speed and Efficiency - WWT\",\"Part 1_ Meet RFP Assistant \\u2014 the AI Improving Proposal Response Speed and Efficiency - WWT\",\"Part 1_ Meet RFP Assistant \\u2014 the AI Improving Proposal Response Speed and Efficiency - WWT\",\"Part 1_ Meet RFP Assistant \\u2014 the AI Improving Proposal Response Speed and Efficiency - WWT\",\"Part 1_ Meet RFP Assistant \\u2014 the AI Improving Proposal Response Speed and Efficiency - WWT\",\"Part 1_ Meet Atom Ai \\u2013 the GPT Powering Innovation at WWT - WWT\",\"Part 1_ Meet Atom Ai \\u2013 the GPT Powering Innovation at WWT - WWT\",\"Part 1_ Meet Atom Ai \\u2013 the GPT Powering Innovation at WWT - WWT\",\"Part 1_ Meet Atom Ai \\u2013 the GPT Powering Innovation at WWT - WWT\",\"Part 1_ Meet Atom Ai \\u2013 the GPT Powering Innovation at WWT - WWT\",\"Part 1_ Meet Atom Ai \\u2013 the GPT Powering Innovation at WWT - WWT\",\"Part 1_ Meet Atom Ai \\u2013 the GPT Powering Innovation at WWT - WWT\",\"Part 1_ Meet Atom Ai \\u2013 the GPT Powering Innovation at WWT - WWT\",\"Part 1_ Meet Atom Ai \\u2013 the GPT Powering Innovation at WWT - WWT\",\"Part 1_ Meet Atom Ai \\u2013 the GPT Powering Innovation at WWT - WWT\",\"Part 1_ Meet Atom Ai \\u2013 the GPT Powering Innovation at WWT - WWT\",\"Part 1_ Meet Atom Ai \\u2013 the GPT Powering Innovation at WWT - WWT\",\"Part 1_ Meet Atom Ai \\u2013 the GPT Powering Innovation at WWT - WWT\",\"Part 1_ Meet Atom Ai \\u2013 the GPT Powering Innovation at WWT - WWT\",\"Part 1_ Meet Atom Ai \\u2013 the GPT Powering Innovation at WWT - WWT\",\"Part 1_ Meet Atom Ai \\u2013 the GPT Powering Innovation at WWT - WWT\",\"Part 1_ Meet Atom Ai \\u2013 the GPT Powering Innovation at WWT - WWT\",\"Part 1_ Meet Atom Ai \\u2013 the GPT Powering Innovation at WWT - WWT\",\"Part 1_ Meet Atom Ai \\u2013 the GPT Powering Innovation at WWT - WWT\",\"Part 2_ Inside Atom Ai \\u2013 How Retrieval Mechanisms Shape AI Responses - WWT\",\"Part 2_ Inside Atom Ai \\u2013 How Retrieval Mechanisms Shape AI Responses - WWT\",\"Part 2_ Inside Atom Ai \\u2013 How Retrieval Mechanisms Shape AI Responses - WWT\",\"Part 2_ Inside Atom Ai \\u2013 How Retrieval Mechanisms Shape AI Responses - WWT\",\"Part 2_ Inside Atom Ai \\u2013 How Retrieval Mechanisms Shape AI Responses - WWT\",\"Part 2_ Inside Atom Ai \\u2013 How Retrieval Mechanisms Shape AI Responses - WWT\",\"Part 2_ Inside Atom Ai \\u2013 How Retrieval Mechanisms Shape AI Responses - WWT\",\"Part 2_ Inside Atom Ai \\u2013 How Retrieval Mechanisms Shape AI Responses - WWT\",\"Part 2_ Inside Atom Ai \\u2013 How Retrieval Mechanisms Shape AI Responses - WWT\",\"Part 2_ Inside Atom Ai \\u2013 How Retrieval Mechanisms Shape AI Responses - WWT\",\"Part 2_ Inside Atom Ai \\u2013 How Retrieval Mechanisms Shape AI Responses - WWT\",\"Part 2_ Inside Atom Ai \\u2013 How Retrieval Mechanisms Shape AI Responses - WWT\",\"Part 2_ Inside Atom Ai \\u2013 How Retrieval Mechanisms Shape AI Responses - WWT\",\"Part 2_ Inside Atom Ai \\u2013 How Retrieval Mechanisms Shape AI Responses - WWT\",\"Part 2_ Inside Atom Ai \\u2013 How Retrieval Mechanisms Shape AI Responses - WWT\",\"Part 2_ Inside Atom Ai \\u2013 How Retrieval Mechanisms Shape AI Responses - WWT\",\"Part 2_ Inside Atom Ai \\u2013 How Retrieval Mechanisms Shape AI Responses - WWT\",\"Part 2_ Inside Atom Ai \\u2013 How Retrieval Mechanisms Shape AI Responses - WWT\",\"Part 2_ Inside Atom Ai \\u2013 How Retrieval Mechanisms Shape AI Responses - WWT\",\"Part 2_ Inside Atom Ai \\u2013 How Retrieval Mechanisms Shape AI Responses - WWT\",\"Part 2_ Inside Atom Ai \\u2013 How Retrieval Mechanisms Shape AI Responses - WWT\",\"Part 2_ Inside Atom Ai \\u2013 How Retrieval Mechanisms Shape AI Responses - WWT\",\"Part 2_ Inside Atom Ai \\u2013 How Retrieval Mechanisms Shape AI Responses - WWT\",\"Part 2_ Inside Atom Ai \\u2013 How Retrieval Mechanisms Shape AI Responses - WWT\",\"Part 2_ Inside Atom Ai \\u2013 How Retrieval Mechanisms Shape AI Responses - WWT\",\"Part 2_ Inside Atom Ai \\u2013 How Retrieval Mechanisms Shape AI Responses - WWT\",\"Part 2_ Inside Atom Ai \\u2013 How Retrieval Mechanisms Shape AI Responses - WWT\",\"Part 2_ Inside Atom Ai \\u2013 How Retrieval Mechanisms Shape AI Responses - WWT\",\"Part 2_ Inside Atom Ai \\u2013 How Retrieval Mechanisms Shape AI Responses - WWT\",\"Part 2_ Inside Atom Ai \\u2013 How Retrieval Mechanisms Shape AI Responses - WWT\",\"Part 2_ Inside Atom Ai \\u2013 How Retrieval Mechanisms Shape AI Responses - WWT\",\"Part 2_ Inside Atom Ai \\u2013 How Retrieval Mechanisms Shape AI Responses - WWT\",\"Part 2_ Inside Atom Ai \\u2013 How Retrieval Mechanisms Shape AI Responses - WWT\",\"Part 2_ Inside RFP Assistant \\u2014 Summarizer and Qualification Workflow - WWT\",\"Part 2_ Inside RFP Assistant \\u2014 Summarizer and Qualification Workflow - WWT\",\"Part 2_ Inside RFP Assistant \\u2014 Summarizer and Qualification Workflow - WWT\",\"Part 2_ Inside RFP Assistant \\u2014 Summarizer and Qualification Workflow - WWT\",\"Part 2_ Inside RFP Assistant \\u2014 Summarizer and Qualification Workflow - WWT\",\"Part 2_ Inside RFP Assistant \\u2014 Summarizer and Qualification Workflow - WWT\",\"Part 2_ Inside RFP Assistant \\u2014 Summarizer and Qualification Workflow - WWT\",\"Part 2_ Inside RFP Assistant \\u2014 Summarizer and Qualification Workflow - WWT\",\"Part 2_ Inside RFP Assistant \\u2014 Summarizer and Qualification Workflow - WWT\",\"Part 2_ Inside RFP Assistant \\u2014 Summarizer and Qualification Workflow - WWT\",\"Part 2_ Inside RFP Assistant \\u2014 Summarizer and Qualification Workflow - WWT\",\"Part 2_ Inside RFP Assistant \\u2014 Summarizer and Qualification Workflow - WWT\",\"Part 2_ Inside RFP Assistant \\u2014 Summarizer and Qualification Workflow - WWT\",\"Part 2_ Inside RFP Assistant \\u2014 Summarizer and Qualification Workflow - WWT\",\"Part 2_ Inside RFP Assistant \\u2014 Summarizer and Qualification Workflow - WWT\",\"Part 2_ Inside RFP Assistant \\u2014 Summarizer and Qualification Workflow - WWT\",\"Part 2_ Inside RFP Assistant \\u2014 Summarizer and Qualification Workflow - WWT\",\"Part 2_ Inside RFP Assistant \\u2014 Summarizer and Qualification Workflow - WWT\",\"Part 2_ Inside RFP Assistant \\u2014 Summarizer and Qualification Workflow - WWT\",\"Part 2_ Inside RFP Assistant \\u2014 Summarizer and Qualification Workflow - WWT\",\"Part 2_ Inside RFP Assistant \\u2014 Summarizer and Qualification Workflow - WWT\",\"Part 2_ Inside RFP Assistant \\u2014 Summarizer and Qualification Workflow - WWT\",\"Part 2_ Inside RFP Assistant \\u2014 Summarizer and Qualification Workflow - WWT\",\"Part 2_ Inside RFP Assistant \\u2014 Summarizer and Qualification Workflow - WWT\",\"Part 2_ Inside RFP Assistant \\u2014 Summarizer and Qualification Workflow - WWT\",\"Part 2_ Inside RFP Assistant \\u2014 Summarizer and Qualification Workflow - WWT\",\"Part 2_ Inside RFP Assistant \\u2014 Summarizer and Qualification Workflow - WWT\",\"Part 2_ Inside RFP Assistant \\u2014 Summarizer and Qualification Workflow - WWT\",\"Part 2_ Inside RFP Assistant \\u2014 Summarizer and Qualification Workflow - WWT\",\"Part 2_ Inside RFP Assistant \\u2014 Summarizer and Qualification Workflow - WWT\",\"Part 3_ Inside RFP Assistant \\u2014 Generating a Full RFP Response - WWT\",\"Part 3_ Inside RFP Assistant \\u2014 Generating a Full RFP Response - WWT\",\"Part 3_ Inside RFP Assistant \\u2014 Generating a Full RFP Response - WWT\",\"Part 3_ Inside RFP Assistant \\u2014 Generating a Full RFP Response - WWT\",\"Part 3_ Inside RFP Assistant \\u2014 Generating a Full RFP Response - WWT\",\"Part 3_ Inside RFP Assistant \\u2014 Generating a Full RFP Response - WWT\",\"Part 3_ Inside RFP Assistant \\u2014 Generating a Full RFP Response - WWT\",\"Part 3_ Inside RFP Assistant \\u2014 Generating a Full RFP Response - WWT\",\"Part 3_ Inside RFP Assistant \\u2014 Generating a Full RFP Response - WWT\",\"Part 3_ Inside RFP Assistant \\u2014 Generating a Full RFP Response - WWT\",\"Part 3_ Inside RFP Assistant \\u2014 Generating a Full RFP Response - WWT\",\"Part 3_ Inside RFP Assistant \\u2014 Generating a Full RFP Response - WWT\",\"Part 3_ Inside RFP Assistant \\u2014 Generating a Full RFP Response - WWT\",\"Part 3_ Inside RFP Assistant \\u2014 Generating a Full RFP Response - WWT\",\"Part 3_ Inside RFP Assistant \\u2014 Generating a Full RFP Response - WWT\",\"Part 3_ Inside RFP Assistant \\u2014 Generating a Full RFP Response - WWT\",\"Part 3_ Inside RFP Assistant \\u2014 Generating a Full RFP Response - WWT\",\"Part 3_ Inside RFP Assistant \\u2014 Generating a Full RFP Response - WWT\",\"Part 3_ Inside RFP Assistant \\u2014 Generating a Full RFP Response - WWT\",\"Part 3_ Inside RFP Assistant \\u2014 Generating a Full RFP Response - WWT\",\"Part 3_ Inside RFP Assistant \\u2014 Generating a Full RFP Response - WWT\",\"Part 3_ Inside RFP Assistant \\u2014 Generating a Full RFP Response - WWT\",\"How Atom Ai and RFP Assistant have Evolved and What it Means for the Future - WWT\",\"How Atom Ai and RFP Assistant have Evolved and What it Means for the Future - WWT\",\"How Atom Ai and RFP Assistant have Evolved and What it Means for the Future - WWT\",\"How Atom Ai and RFP Assistant have Evolved and What it Means for the Future - WWT\",\"How Atom Ai and RFP Assistant have Evolved and What it Means for the Future - WWT\",\"How Atom Ai and RFP Assistant have Evolved and What it Means for the Future - WWT\",\"How Atom Ai and RFP Assistant have Evolved and What it Means for the Future - WWT\",\"How Atom Ai and RFP Assistant have Evolved and What it Means for the Future - WWT\",\"How Atom Ai and RFP Assistant have Evolved and What it Means for the Future - WWT\",\"How Atom Ai and RFP Assistant have Evolved and What it Means for the Future - WWT\",\"How Atom Ai and RFP Assistant have Evolved and What it Means for the Future - WWT\",\"How Atom Ai and RFP Assistant have Evolved and What it Means for the Future - WWT\",\"How Atom Ai and RFP Assistant have Evolved and What it Means for the Future - WWT\",\"How Atom Ai and RFP Assistant have Evolved and What it Means for the Future - WWT\",\"How Atom Ai and RFP Assistant have Evolved and What it Means for the Future - WWT\",\"How Atom Ai and RFP Assistant have Evolved and What it Means for the Future - WWT\",\"How Atom Ai and RFP Assistant have Evolved and What it Means for the Future - WWT\",\"Part 4_ Inside Atom Ai \\u2013 Orchestrating and Deploying RAG at Scale for Robust AI Performance - WWT\",\"Part 4_ Inside Atom Ai \\u2013 Orchestrating and Deploying RAG at Scale for Robust AI Performance - WWT\",\"Part 4_ Inside Atom Ai \\u2013 Orchestrating and Deploying RAG at Scale for Robust AI Performance - WWT\",\"Part 4_ Inside Atom Ai \\u2013 Orchestrating and Deploying RAG at Scale for Robust AI Performance - WWT\",\"Part 4_ Inside Atom Ai \\u2013 Orchestrating and Deploying RAG at Scale for Robust AI Performance - WWT\",\"Part 4_ Inside Atom Ai \\u2013 Orchestrating and Deploying RAG at Scale for Robust AI Performance - WWT\",\"Part 4_ Inside Atom Ai \\u2013 Orchestrating and Deploying RAG at Scale for Robust AI Performance - WWT\",\"Part 4_ Inside Atom Ai \\u2013 Orchestrating and Deploying RAG at Scale for Robust AI Performance - WWT\",\"Part 4_ Inside Atom Ai \\u2013 Orchestrating and Deploying RAG at Scale for Robust AI Performance - WWT\",\"Part 4_ Inside Atom Ai \\u2013 Orchestrating and Deploying RAG at Scale for Robust AI Performance - WWT\",\"Part 4_ Inside Atom Ai \\u2013 Orchestrating and Deploying RAG at Scale for Robust AI Performance - WWT\",\"Part 4_ Inside Atom Ai \\u2013 Orchestrating and Deploying RAG at Scale for Robust AI Performance - WWT\",\"Part 4_ Inside Atom Ai \\u2013 Orchestrating and Deploying RAG at Scale for Robust AI Performance - WWT\",\"Part 4_ Inside Atom Ai \\u2013 Orchestrating and Deploying RAG at Scale for Robust AI Performance - WWT\",\"Part 4_ Inside Atom Ai \\u2013 Orchestrating and Deploying RAG at Scale for Robust AI Performance - WWT\",\"Part 4_ Inside Atom Ai \\u2013 Orchestrating and Deploying RAG at Scale for Robust AI Performance - WWT\",\"Part 4_ Inside Atom Ai \\u2013 Orchestrating and Deploying RAG at Scale for Robust AI Performance - WWT\",\"Part 4_ Inside Atom Ai \\u2013 Orchestrating and Deploying RAG at Scale for Robust AI Performance - WWT\",\"Part 4_ Inside Atom Ai \\u2013 Orchestrating and Deploying RAG at Scale for Robust AI Performance - WWT\",\"Part 4_ Inside Atom Ai \\u2013 Orchestrating and Deploying RAG at Scale for Robust AI Performance - WWT\",\"Part 4_ Inside Atom Ai \\u2013 Orchestrating and Deploying RAG at Scale for Robust AI Performance - WWT\",\"Part 4_ Inside Atom Ai \\u2013 Orchestrating and Deploying RAG at Scale for Robust AI Performance - WWT\",\"Part 4_ Inside Atom Ai \\u2013 Orchestrating and Deploying RAG at Scale for Robust AI Performance - WWT\",\"Part 4_ Inside Atom Ai \\u2013 Orchestrating and Deploying RAG at Scale for Robust AI Performance - WWT\",\"Part 4_ Inside Atom Ai \\u2013 Orchestrating and Deploying RAG at Scale for Robust AI Performance - WWT\",\"Part 4_ Inside Atom Ai \\u2013 Orchestrating and Deploying RAG at Scale for Robust AI Performance - WWT\",\"Part 4_ Inside Atom Ai \\u2013 Orchestrating and Deploying RAG at Scale for Robust AI Performance - WWT\",\"Part 4_ Inside Atom Ai \\u2013 Orchestrating and Deploying RAG at Scale for Robust AI Performance - WWT\",\"Part 4_ Inside Atom Ai \\u2013 Orchestrating and Deploying RAG at Scale for Robust AI Performance - WWT\",\"Part 4_ Inside Atom Ai \\u2013 Orchestrating and Deploying RAG at Scale for Robust AI Performance - WWT\",\"Part 4_ Inside Atom Ai \\u2013 Orchestrating and Deploying RAG at Scale for Robust AI Performance - WWT\",\"Part 4_ Inside Atom Ai \\u2013 Orchestrating and Deploying RAG at Scale for Robust AI Performance - WWT\",\"Part 4_ Inside Atom Ai \\u2013 Orchestrating and Deploying RAG at Scale for Robust AI Performance - WWT\",\"Part 4_ Inside Atom Ai \\u2013 Orchestrating and Deploying RAG at Scale for Robust AI Performance - WWT\",\"Requirement+Writing+AI-RFI+v4+Final-07192023\",\"Requirement+Writing+AI-RFI+v4+Final-07192023\",\"Requirement+Writing+AI-RFI+v4+Final-07192023\",\"Requirement+Writing+AI-RFI+v4+Final-07192023\",\"Requirement+Writing+AI-RFI+v4+Final-07192023\",\"Requirement+Writing+AI-RFI+v4+Final-07192023\",\"Requirement+Writing+AI-RFI+v4+Final-07192023\",\"Requirement+Writing+AI-RFI+v4+Final-07192023\",\"Requirement+Writing+AI-RFI+v4+Final-07192023\",\"Requirement+Writing+AI-RFI+v4+Final-07192023\",\"Requirement+Writing+AI-RFI+v4+Final-07192023\",\"Requirement+Writing+AI-RFI+v4+Final-07192023\",\"Requirement+Writing+AI-RFI+v4+Final-07192023\",\"Requirement+Writing+AI-RFI+v4+Final-07192023\",\"Requirement+Writing+AI-RFI+v4+Final-07192023\",\"Requirement+Writing+AI-RFI+v4+Final-07192023\",\"Requirement+Writing+AI-RFI+v4+Final-07192023\",\"Requirement+Writing+AI-RFI+v4+Final-07192023\",\"Requirement+Writing+AI-RFI+v4+Final-07192023\",\"Requirement+Writing+AI-RFI+v4+Final-07192023\",\"Requirement+Writing+AI-RFI+v4+Final-07192023\",\"Requirement+Writing+AI-RFI+v4+Final-07192023\",\"Requirement+Writing+AI-RFI+v4+Final-07192023\"]],[\"label\",[\"NVIDIA\",\"NVIDIA\",\"NVIDIA\",\"NVIDIA\",\"NVIDIA\",\"NVIDIA\",\"NVIDIA\",\"NVIDIA\",\"NVIDIA\",\"NVIDIA\",\"NVIDIA\",\"NVIDIA\",\"NVIDIA\",\"NVIDIA\",\"NVIDIA\",\"NVIDIA\",\"NVIDIA\",\"NVIDIA\",\"NVIDIA\",\"NVIDIA\",\"NVIDIA\",\"NVIDIA\",\"NVIDIA\",\"NVIDIA\",\"NVIDIA\",\"NVIDIA\",\"NVIDIA\",\"NVIDIA\",\"NVIDIA\",\"NVIDIA\",\"NVIDIA\",\"NVIDIA\",\"NVIDIA\",\"NVIDIA\",\"NVIDIA\",\"NVIDIA\",\"NVIDIA\",\"NVIDIA\",\"NVIDIA\",\"NVIDIA\",\"NVIDIA\",\"NVIDIA\",\"NVIDIA\",\"NVIDIA\",\"NVIDIA\",\"NVIDIA\",\"NVIDIA\",\"NVIDIA\",\"NVIDIA\",\"NVIDIA\",\"NVIDIA\",\"NVIDIA\",\"NVIDIA\",\"NVIDIA\",\"NVIDIA\",\"NVIDIA\",\"NVIDIA\",\"NVIDIA\",\"NVIDIA\",\"NVIDIA\",\"NVIDIA\",\"NVIDIA\",\"NVIDIA\",\"NVIDIA\",\"NVIDIA\",\"NVIDIA\",\"NVIDIA\",\"NVIDIA\",\"NVIDIA\",\"NVIDIA\",\"NVIDIA\",\"NVIDIA\",\"NVIDIA\",\"NVIDIA\",\"NVIDIA\",\"NVIDIA\",\"NVIDIA\",\"NVIDIA\",\"NVIDIA\",\"NVIDIA\",\"NVIDIA\",\"NVIDIA\",\"NVIDIA\",\"NVIDIA\",\"NVIDIA\",\"NVIDIA\",\"NVIDIA\",\"NVIDIA\",\"NVIDIA\",\"NVIDIA\",\"NVIDIA\",\"NVIDIA\",\"NVIDIA\",\"NVIDIA\",\"NVIDIA\",\"NVIDIA\",\"NVIDIA\",\"NVIDIA\",\"NVIDIA\",\"NVIDIA\",\"NVIDIA\",\"NVIDIA\",\"NVIDIA\",\"NVIDIA\",\"NVIDIA\",\"NVIDIA\",\"NVIDIA\",\"NVIDIA\",\"NVIDIA\",\"NVIDIA\",\"NVIDIA\",\"NVIDIA\",\"NVIDIA\",\"NVIDIA\",\"NVIDIA\",\"NVIDIA\",\"NVIDIA\",\"NVIDIA\",\"NVIDIA\",\"NVIDIA\",\"NVIDIA\",\"NVIDIA\",\"NVIDIA\",\"NVIDIA\",\"NVIDIA\",\"NVIDIA\",\"NVIDIA\",\"NVIDIA\",\"NVIDIA\",\"NVIDIA\",\"NVIDIA\",\"NVIDIA\",\"NVIDIA\",\"NVIDIA\",\"NVIDIA\",\"NVIDIA\",\"NVIDIA\",\"NVIDIA\",\"NVIDIA\",\"NVIDIA\",\"NVIDIA\",\"NVIDIA\",\"NVIDIA\",\"NVIDIA\",\"NVIDIA\",\"NVIDIA\",\"NVIDIA\",\"NVIDIA\",\"NVIDIA\",\"NVIDIA\",\"NVIDIA\",\"NVIDIA\",\"NVIDIA\",\"NVIDIA\",\"NVIDIA\",\"NVIDIA\",\"NVIDIA\",\"NVIDIA\",\"NVIDIA\",\"NVIDIA\",\"NVIDIA\",\"NVIDIA\",\"NVIDIA\",\"NVIDIA\",\"NVIDIA\",\"NVIDIA\",\"NVIDIA\",\"NVIDIA\",\"NVIDIA\",\"NVIDIA\",\"NVIDIA\",\"NVIDIA\",\"NVIDIA\",\"NVIDIA\",\"NVIDIA\",\"NVIDIA\",\"NVIDIA\",\"NVIDIA\",\"NVIDIA\",\"NVIDIA\",\"NVIDIA\",\"NVIDIA\",\"NVIDIA\",\"NVIDIA\",\"NVIDIA\",\"NVIDIA\",\"NVIDIA\",\"NVIDIA\",\"NVIDIA\",\"NVIDIA\",\"NVIDIA\",\"NVIDIA\",\"NVIDIA\",\"NVIDIA\",\"NVIDIA\",\"NVIDIA\",\"NVIDIA\",\"NVIDIA\",\"NVIDIA\",\"NVIDIA\",\"NVIDIA\",\"NVIDIA\",\"NVIDIA\",\"NVIDIA\",\"NVIDIA\",\"NVIDIA\",\"NVIDIA\",\"NVIDIA\",\"NVIDIA\",\"NVIDIA\",\"NVIDIA\",\"NVIDIA\",\"NVIDIA\",\"NVIDIA\",\"NVIDIA\",\"NVIDIA\",\"NVIDIA\",\"NVIDIA\",\"NVIDIA\",\"NVIDIA\",\"NVIDIA\",\"NVIDIA\",\"NVIDIA\",\"NVIDIA\",\"NVIDIA\",\"NVIDIA\",\"NVIDIA\",\"NVIDIA\",\"NVIDIA\",\"NVIDIA\",\"NVIDIA\",\"NVIDIA\",\"NVIDIA\",\"NVIDIA\",\"NVIDIA\",\"NVIDIA\",\"NVIDIA\",\"NVIDIA\",\"NVIDIA\",\"NVIDIA\",\"NVIDIA\",\"NVIDIA\",\"NVIDIA\",\"NVIDIA\",\"NVIDIA\",\"NVIDIA\",\"NVIDIA\",\"NVIDIA\",\"NVIDIA\",\"NVIDIA\",\"NVIDIA\",\"NVIDIA\",\"NVIDIA\",\"NVIDIA\",\"NVIDIA\",\"NVIDIA\",\"NVIDIA\",\"NVIDIA\",\"NVIDIA\",\"NVIDIA\",\"NVIDIA\",\"NVIDIA\",\"NVIDIA\",\"NVIDIA\",\"NVIDIA\",\"NVIDIA\",\"NVIDIA\",\"NVIDIA\",\"NVIDIA\",\"NVIDIA\",\"NVIDIA\",\"NVIDIA\",\"NVIDIA\",\"NVIDIA\",\"NVIDIA\",\"NVIDIA\",\"NVIDIA\",\"NVIDIA\",\"NVIDIA\",\"NVIDIA\",\"NVIDIA\",\"NVIDIA\",\"NVIDIA\",\"NVIDIA\",\"NVIDIA\",\"NVIDIA\",\"NVIDIA\",\"NVIDIA\",\"NVIDIA\",\"NVIDIA\",\"NVIDIA\",\"NVIDIA\",\"NVIDIA\",\"NVIDIA\",\"NVIDIA\",\"NVIDIA\",\"NVIDIA\",\"NVIDIA\",\"NVIDIA\",\"NVIDIA\",\"NVIDIA\",\"NVIDIA\",\"NVIDIA\",\"NVIDIA\",\"NVIDIA\",\"NVIDIA\",\"NVIDIA\",\"NVIDIA\",\"NVIDIA\",\"NVIDIA\",\"NVIDIA\",\"NVIDIA\",\"NVIDIA\",\"NVIDIA\",\"NVIDIA\",\"NVIDIA\",\"NVIDIA\",\"NVIDIA\",\"NVIDIA\",\"NVIDIA\",\"NVIDIA\",\"NVIDIA\",\"NVIDIA\",\"NVIDIA\",\"NVIDIA\",\"NVIDIA\",\"NVIDIA\",\"NVIDIA\",\"NVIDIA\",\"NVIDIA\",\"NVIDIA\",\"NVIDIA\",\"NVIDIA\",\"NVIDIA\",\"NVIDIA\",\"NVIDIA\",\"NVIDIA\",\"NVIDIA\",\"NVIDIA\",\"NVIDIA\",\"NVIDIA\",\"NVIDIA\",\"NVIDIA\",\"NVIDIA\",\"NVIDIA\",\"NVIDIA\",\"NVIDIA\",\"NVIDIA\",\"NVIDIA\",\"NVIDIA\",\"NVIDIA\",\"NVIDIA\",\"NVIDIA\",\"NVIDIA\",\"NVIDIA\",\"NVIDIA\",\"NVIDIA\",\"NVIDIA\",\"NVIDIA\",\"NVIDIA\",\"NVIDIA\",\"NVIDIA\",\"NVIDIA\",\"NVIDIA\",\"NVIDIA\",\"NVIDIA\",\"NVIDIA\",\"NVIDIA\",\"NVIDIA\",\"NVIDIA\",\"NVIDIA\",\"NVIDIA\",\"NVIDIA\",\"NVIDIA\",\"NVIDIA\",\"NVIDIA\",\"NVIDIA\",\"NVIDIA\",\"NVIDIA\",\"NVIDIA\",\"NVIDIA\",\"NVIDIA\",\"NVIDIA\",\"NVIDIA\",\"NVIDIA\",\"NVIDIA\",\"NVIDIA\",\"NVIDIA\",\"NVIDIA\",\"NVIDIA\",\"NVIDIA\",\"NVIDIA\",\"NVIDIA\",\"NVIDIA\",\"NVIDIA\",\"NVIDIA\",\"NVIDIA\",\"NVIDIA\",\"NVIDIA\",\"NVIDIA\",\"NVIDIA\",\"NVIDIA\",\"NVIDIA\",\"NVIDIA\",\"NVIDIA\",\"NVIDIA\",\"NVIDIA\",\"NVIDIA\",\"NVIDIA\",\"NVIDIA\",\"NVIDIA\",\"NVIDIA\",\"NVIDIA\",\"NVIDIA\",\"NVIDIA\",\"NVIDIA\",\"NVIDIA\",\"NVIDIA\",\"NVIDIA\",\"NVIDIA\",\"NVIDIA\",\"NVIDIA\",\"NVIDIA\",\"NVIDIA\",\"NVIDIA\",\"NVIDIA\",\"NVIDIA\",\"NVIDIA\",\"NVIDIA\",\"NVIDIA\",\"NVIDIA\",\"NVIDIA\",\"NVIDIA\",\"NVIDIA\",\"NVIDIA\",\"NVIDIA\",\"NVIDIA\",\"NVIDIA\",\"NVIDIA\",\"NVIDIA\",\"NVIDIA\",\"NVIDIA\",\"NVIDIA\",\"NVIDIA\",\"NVIDIA\",\"NVIDIA\",\"NVIDIA\",\"NVIDIA\",\"NVIDIA\",\"NVIDIA\",\"NVIDIA\",\"NVIDIA\",\"NVIDIA\",\"NVIDIA\",\"NVIDIA\",\"NVIDIA\",\"NVIDIA\",\"NVIDIA\",\"NVIDIA\",\"NVIDIA\",\"NVIDIA\",\"NVIDIA\",\"NVIDIA\",\"NVIDIA\",\"NVIDIA\",\"NVIDIA\",\"NVIDIA\",\"NVIDIA\",\"NVIDIA\",\"NVIDIA\",\"NVIDIA\",\"NVIDIA\",\"NVIDIA\",\"NVIDIA\",\"NVIDIA\",\"NVIDIA\",\"NVIDIA\",\"NVIDIA\",\"NVIDIA\",\"NVIDIA\",\"NVIDIA\",\"NVIDIA\",\"NVIDIA\",\"NVIDIA\",\"NVIDIA\",\"NVIDIA\",\"NVIDIA\",\"NVIDIA\",\"NVIDIA\",\"NVIDIA\",\"NVIDIA\",\"NVIDIA\",\"NVIDIA\",\"NVIDIA\",\"NVIDIA\",\"NVIDIA\",\"NVIDIA\",\"NVIDIA\",\"NVIDIA\",\"NVIDIA\",\"NVIDIA\",\"NVIDIA\",\"NVIDIA\",\"NVIDIA\",\"NVIDIA\",\"NVIDIA\",\"NVIDIA\",\"NVIDIA\",\"NVIDIA\",\"NVIDIA\",\"NVIDIA\",\"NVIDIA\",\"NVIDIA\",\"NVIDIA\",\"NVIDIA\",\"NVIDIA\",\"NVIDIA\",\"NVIDIA\",\"NVIDIA\",\"NVIDIA\",\"NVIDIA\",\"NVIDIA\",\"NVIDIA\",\"NVIDIA\",\"NVIDIA\",\"NVIDIA\",\"NVIDIA\",\"NVIDIA\",\"NVIDIA\",\"NVIDIA\",\"NVIDIA\",\"NVIDIA\",\"NVIDIA\",\"NVIDIA\",\"NVIDIA\",\"NVIDIA\",\"NVIDIA\",\"NVIDIA\",\"NVIDIA\",\"NVIDIA\",\"NVIDIA\",\"NVIDIA\",\"NVIDIA\",\"NVIDIA\",\"NVIDIA\",\"NVIDIA\",\"NVIDIA\",\"NVIDIA\",\"NVIDIA\",\"NVIDIA\",\"NVIDIA\",\"NVIDIA\",\"NVIDIA\",\"NVIDIA\",\"NVIDIA\",\"NVIDIA\",\"NVIDIA\",\"NVIDIA\",\"NVIDIA\",\"NVIDIA\",\"NVIDIA\",\"NVIDIA\",\"NVIDIA\",\"NVIDIA\",\"NVIDIA\",\"NVIDIA\",\"NVIDIA\",\"NVIDIA\",\"NVIDIA\",\"NVIDIA\",\"NVIDIA\",\"NVIDIA\",\"NVIDIA\",\"NVIDIA\",\"NVIDIA\",\"NVIDIA\",\"NVIDIA\",\"NVIDIA\",\"NVIDIA\",\"NVIDIA\",\"NVIDIA\",\"NVIDIA\",\"NVIDIA\",\"NVIDIA\",\"NVIDIA\",\"NVIDIA\",\"NVIDIA\",\"NVIDIA\",\"NVIDIA\",\"NVIDIA\",\"NVIDIA\",\"NVIDIA\",\"NVIDIA\",\"NVIDIA\",\"NVIDIA\",\"NVIDIA\",\"NVIDIA\",\"NVIDIA\",\"NVIDIA\",\"NVIDIA\",\"NVIDIA\",\"NVIDIA\",\"NVIDIA\",\"NVIDIA\",\"NVIDIA\",\"NVIDIA\",\"NVIDIA\",\"NVIDIA\",\"NVIDIA\",\"NVIDIA\",\"NVIDIA\",\"NVIDIA\",\"NVIDIA\",\"NVIDIA\",\"NVIDIA\",\"NVIDIA\",\"NVIDIA\",\"NVIDIA\",\"NVIDIA\",\"NVIDIA\",\"NVIDIA\",\"NVIDIA\",\"NVIDIA\",\"NVIDIA\",\"NVIDIA\",\"NVIDIA\",\"NVIDIA\",\"NVIDIA\",\"NVIDIA\",\"NVIDIA\",\"NVIDIA\",\"NVIDIA\",\"NVIDIA\",\"NVIDIA\",\"NVIDIA\",\"NVIDIA\",\"NVIDIA\",\"NVIDIA\",\"NVIDIA\",\"NVIDIA\",\"NVIDIA\",\"NVIDIA\",\"NVIDIA\",\"NVIDIA\",\"NVIDIA\",\"NVIDIA\",\"NVIDIA\",\"NVIDIA\",\"NVIDIA\",\"NVIDIA\",\"NVIDIA\",\"NVIDIA\",\"NVIDIA\",\"NVIDIA\",\"NVIDIA\",\"NVIDIA\",\"NVIDIA\",\"NVIDIA\",\"NVIDIA\",\"NVIDIA\",\"NVIDIA\",\"NVIDIA\",\"NVIDIA\",\"NVIDIA\",\"NVIDIA\",\"NVIDIA\",\"NVIDIA\",\"NVIDIA\",\"NVIDIA\",\"NVIDIA\",\"NVIDIA\",\"NVIDIA\",\"NVIDIA\",\"NVIDIA\",\"NVIDIA\",\"NVIDIA\",\"NVIDIA\",\"NVIDIA\",\"NVIDIA\",\"NVIDIA\",\"NVIDIA\",\"NVIDIA\",\"NVIDIA\",\"NVIDIA\",\"NVIDIA\",\"NVIDIA\",\"NVIDIA\",\"NVIDIA\",\"NVIDIA\",\"NVIDIA\",\"NVIDIA\",\"NVIDIA\",\"NVIDIA\",\"NVIDIA\",\"NVIDIA\",\"NVIDIA\",\"NVIDIA\",\"NVIDIA\",\"NVIDIA\",\"NVIDIA\",\"NVIDIA\",\"NVIDIA\",\"NVIDIA\",\"NVIDIA\",\"NVIDIA\",\"NVIDIA\",\"NVIDIA\",\"NVIDIA\",\"NVIDIA\",\"NVIDIA\",\"NVIDIA\",\"NVIDIA\",\"NVIDIA\",\"NVIDIA\",\"NVIDIA\",\"NVIDIA\",\"NVIDIA\",\"NVIDIA\",\"NVIDIA\",\"NVIDIA\",\"NVIDIA\",\"NVIDIA\",\"NVIDIA\",\"NVIDIA\",\"NVIDIA\",\"NVIDIA\",\"NVIDIA\",\"NVIDIA\",\"NVIDIA\",\"NVIDIA\",\"NVIDIA\",\"NVIDIA\",\"NVIDIA\",\"NVIDIA\",\"NVIDIA\",\"NVIDIA\",\"NVIDIA\",\"NVIDIA\",\"NVIDIA\",\"NVIDIA\",\"NVIDIA\",\"NVIDIA\",\"NVIDIA\",\"NVIDIA\",\"NVIDIA\",\"NVIDIA\",\"NVIDIA\",\"NVIDIA\",\"NVIDIA\",\"NVIDIA\",\"NVIDIA\",\"NVIDIA\",\"NVIDIA\",\"NVIDIA\",\"NVIDIA\",\"NVIDIA\",\"NVIDIA\",\"NVIDIA\",\"NVIDIA\",\"NVIDIA\",\"NVIDIA\",\"NVIDIA\",\"NVIDIA\",\"NVIDIA\",\"NVIDIA\",\"NVIDIA\",\"NVIDIA\",\"NVIDIA\",\"NVIDIA\",\"NVIDIA\",\"NVIDIA\",\"NVIDIA\",\"NVIDIA\",\"NVIDIA\",\"NVIDIA\",\"NVIDIA\",\"NVIDIA\",\"NVIDIA\",\"NVIDIA\",\"NVIDIA\",\"NVIDIA\",\"NVIDIA\",\"NVIDIA\",\"NVIDIA\",\"NVIDIA\",\"NVIDIA\",\"NVIDIA\",\"NVIDIA\",\"NVIDIA\",\"NVIDIA\",\"NVIDIA\",\"NVIDIA\",\"NVIDIA\",\"NVIDIA\",\"NVIDIA\",\"NVIDIA\",\"NVIDIA\",\"NVIDIA\",\"NVIDIA\",\"NVIDIA\",\"NVIDIA\",\"NVIDIA\",\"NVIDIA\",\"NVIDIA\",\"NVIDIA\",\"NVIDIA\",\"NVIDIA\",\"NVIDIA\",\"NVIDIA\",\"NVIDIA\",\"NVIDIA\",\"NVIDIA\",\"NVIDIA\",\"NVIDIA\",\"NVIDIA\",\"NVIDIA\",\"NVIDIA\",\"NVIDIA\",\"NVIDIA\",\"NVIDIA\",\"NVIDIA\",\"NVIDIA\",\"NVIDIA\",\"NVIDIA\",\"NVIDIA\",\"NVIDIA\",\"NVIDIA\",\"NVIDIA\",\"NVIDIA\",\"NVIDIA\",\"NVIDIA\",\"NVIDIA\",\"NVIDIA\",\"NVIDIA\",\"NVIDIA\",\"NVIDIA\",\"NVIDIA\",\"NVIDIA\",\"NVIDIA\",\"NVIDIA\",\"NVIDIA\",\"NVIDIA\",\"NVIDIA\",\"NVIDIA\",\"NVIDIA\",\"NVIDIA\",\"NVIDIA\",\"NVIDIA\",\"NVIDIA\",\"NVIDIA\",\"NVIDIA\",\"NVIDIA\",\"NVIDIA\",\"NVIDIA\",\"NVIDIA\",\"NVIDIA\",\"NVIDIA\",\"NVIDIA\",\"NVIDIA\",\"NVIDIA\",\"NVIDIA\",\"NVIDIA\",\"NVIDIA\",\"NVIDIA\",\"NVIDIA\",\"NVIDIA\",\"NVIDIA\",\"NVIDIA\",\"NVIDIA\",\"NVIDIA\",\"NVIDIA\",\"NVIDIA\",\"NVIDIA\",\"NVIDIA\",\"NVIDIA\",\"NVIDIA\",\"NVIDIA\",\"NVIDIA\",\"NVIDIA\",\"NVIDIA\",\"NVIDIA\",\"NVIDIA\",\"NVIDIA\",\"NVIDIA\",\"NVIDIA\",\"NVIDIA\",\"NVIDIA\",\"NVIDIA\",\"NVIDIA\",\"NVIDIA\",\"NVIDIA\",\"NVIDIA\",\"NVIDIA\",\"NVIDIA\",\"NVIDIA\",\"NVIDIA\",\"NVIDIA\",\"NVIDIA\",\"NVIDIA\",\"NVIDIA\",\"NVIDIA\",\"NVIDIA\",\"NVIDIA\",\"NVIDIA\",\"NVIDIA\",\"NVIDIA\",\"NVIDIA\",\"NVIDIA\",\"NVIDIA\",\"NVIDIA\",\"NVIDIA\",\"NVIDIA\",\"NVIDIA\",\"NVIDIA\",\"NVIDIA\",\"NVIDIA\",\"NVIDIA\",\"NVIDIA\",\"NVIDIA\",\"NVIDIA\",\"NVIDIA\",\"NVIDIA\",\"NVIDIA\",\"NVIDIA\",\"NVIDIA\",\"NVIDIA\",\"NVIDIA\",\"NVIDIA\",\"NVIDIA\",\"NVIDIA\",\"NVIDIA\",\"NVIDIA\",\"NVIDIA\",\"NVIDIA\",\"NVIDIA\",\"NVIDIA\",\"NVIDIA\",\"NVIDIA\",\"NVIDIA\",\"NVIDIA\",\"NVIDIA\",\"NVIDIA\",\"NVIDIA\",\"NVIDIA\",\"NVIDIA\",\"NVIDIA\",\"NVIDIA\",\"NVIDIA\",\"NVIDIA\",\"NVIDIA\",\"NVIDIA\",\"NVIDIA\",\"NVIDIA\",\"NVIDIA\",\"NVIDIA\",\"NVIDIA\",\"NVIDIA\",\"NVIDIA\",\"NVIDIA\",\"NVIDIA\",\"NVIDIA\",\"NVIDIA\",\"NVIDIA\",\"NVIDIA\",\"NVIDIA\",\"NVIDIA\",\"NVIDIA\",\"NVIDIA\",\"NVIDIA\",\"NVIDIA\",\"NVIDIA\",\"NVIDIA\",\"NVIDIA\",\"NVIDIA\",\"NVIDIA\",\"NVIDIA\",\"NVIDIA\",\"NVIDIA\",\"NVIDIA\",\"NVIDIA\",\"NVIDIA\",\"NVIDIA\",\"NVIDIA\",\"NVIDIA\",\"NVIDIA\",\"NVIDIA\",\"NVIDIA\",\"NVIDIA\",\"NVIDIA\",\"NVIDIA\",\"NVIDIA\",\"NVIDIA\",\"NVIDIA\",\"NVIDIA\",\"NVIDIA\",\"NVIDIA\",\"NVIDIA\",\"NVIDIA\",\"NVIDIA\",\"NVIDIA\",\"NVIDIA\",\"NVIDIA\",\"NVIDIA\",\"NVIDIA\",\"NVIDIA\",\"NVIDIA\",\"NVIDIA\",\"NVIDIA\",\"NVIDIA\",\"NVIDIA\",\"NVIDIA\",\"NVIDIA\",\"NVIDIA\",\"NVIDIA\",\"NVIDIA\",\"NVIDIA\",\"NVIDIA\",\"NVIDIA\",\"NVIDIA\",\"NVIDIA\",\"NVIDIA\",\"NVIDIA\",\"NVIDIA\",\"NVIDIA\",\"NVIDIA\",\"NVIDIA\",\"NVIDIA\",\"NVIDIA\",\"NVIDIA\",\"NVIDIA\",\"NVIDIA\",\"NVIDIA\",\"NVIDIA\",\"NVIDIA\",\"NVIDIA\",\"NVIDIA\",\"NVIDIA\",\"NVIDIA\",\"NVIDIA\",\"NVIDIA\",\"NVIDIA\",\"NVIDIA\",\"NVIDIA\",\"NVIDIA\",\"NVIDIA\",\"NVIDIA\",\"NVIDIA\",\"NVIDIA\",\"NVIDIA\",\"NVIDIA\",\"NVIDIA\",\"NVIDIA\",\"NVIDIA\",\"NVIDIA\",\"NVIDIA\",\"NVIDIA\",\"NVIDIA\",\"NVIDIA\",\"NVIDIA\",\"NVIDIA\",\"NVIDIA\",\"NVIDIA\",\"NVIDIA\",\"NVIDIA\",\"NVIDIA\",\"NVIDIA\",\"NVIDIA\",\"NVIDIA\",\"NVIDIA\",\"NVIDIA\",\"NVIDIA\",\"NVIDIA\",\"NVIDIA\",\"NVIDIA\",\"NVIDIA\",\"NVIDIA\",\"NVIDIA\",\"NVIDIA\",\"NVIDIA\",\"NVIDIA\",\"NVIDIA\",\"NVIDIA\",\"NVIDIA\",\"NVIDIA\",\"NVIDIA\",\"NVIDIA\",\"NVIDIA\",\"NVIDIA\",\"NVIDIA\",\"NVIDIA\",\"NVIDIA\",\"NVIDIA\",\"NVIDIA\",\"NVIDIA\",\"NVIDIA\",\"NVIDIA\",\"NVIDIA\",\"NVIDIA\",\"NVIDIA\",\"NVIDIA\",\"NVIDIA\",\"NVIDIA\",\"NVIDIA\",\"NVIDIA\",\"NVIDIA\",\"NVIDIA\",\"NVIDIA\",\"NVIDIA\",\"NVIDIA\",\"NVIDIA\",\"NVIDIA\",\"NVIDIA\",\"NVIDIA\",\"NVIDIA\",\"NVIDIA\",\"NVIDIA\",\"NVIDIA\",\"NVIDIA\",\"NVIDIA\",\"NVIDIA\",\"NVIDIA\",\"NVIDIA\",\"NVIDIA\",\"NVIDIA\",\"NVIDIA\",\"NVIDIA\",\"NVIDIA\",\"NVIDIA\",\"NVIDIA\",\"NVIDIA\",\"NVIDIA\",\"NVIDIA\",\"NVIDIA\",\"NVIDIA\",\"NVIDIA\",\"NVIDIA\",\"NVIDIA\",\"NVIDIA\",\"NVIDIA\",\"NVIDIA\",\"NVIDIA\",\"NVIDIA\",\"NVIDIA\",\"NVIDIA\",\"NVIDIA\",\"NVIDIA\",\"NVIDIA\",\"NVIDIA\",\"NVIDIA\",\"NVIDIA\",\"NVIDIA\",\"NVIDIA\",\"NVIDIA\",\"NVIDIA\",\"NVIDIA\",\"NVIDIA\",\"NVIDIA\",\"NVIDIA\",\"NVIDIA\",\"NVIDIA\",\"NVIDIA\",\"NVIDIA\",\"Partner\",\"Partner\",\"Partner\",\"Partner\",\"Partner\",\"Partner\",\"Partner\",\"Partner\",\"Partner\",\"Partner\",\"Partner\",\"Partner\",\"Partner\",\"Partner\",\"Partner\",\"Partner\",\"Partner\",\"Partner\",\"Partner\",\"Partner\",\"Partner\",\"Partner\",\"Partner\",\"Partner\",\"Partner\",\"Partner\",\"Partner\",\"Partner\",\"Partner\",\"Partner\",\"Partner\",\"Partner\",\"Partner\",\"Partner\",\"Partner\",\"Partner\",\"Partner\",\"Partner\",\"Partner\",\"Partner\",\"Partner\",\"Partner\",\"Partner\",\"Partner\",\"Partner\",\"Partner\",\"Partner\",\"Partner\",\"Partner\",\"Partner\",\"Partner\",\"Partner\",\"Partner\",\"Partner\",\"Partner\",\"Partner\",\"Partner\",\"Partner\",\"Partner\",\"Partner\",\"Partner\",\"Partner\",\"Partner\",\"Partner\",\"Partner\",\"Partner\",\"Partner\",\"Partner\",\"Partner\",\"Partner\",\"Partner\",\"Partner\",\"Partner\",\"Partner\",\"Partner\",\"Partner\",\"Partner\",\"Partner\",\"Partner\",\"Partner\",\"Partner\",\"Partner\",\"Partner\",\"Partner\",\"Partner\",\"Partner\",\"Partner\",\"Partner\",\"Partner\",\"Partner\",\"Partner\",\"Partner\",\"Partner\",\"Partner\",\"Partner\",\"Partner\",\"Partner\",\"Partner\",\"Partner\",\"Partner\",\"Partner\",\"Partner\",\"Partner\",\"Partner\",\"Partner\",\"Partner\",\"Partner\",\"Partner\",\"Partner\",\"Partner\",\"Partner\",\"Partner\",\"Partner\",\"Partner\",\"Partner\",\"Partner\",\"Partner\",\"Partner\",\"Partner\",\"Partner\",\"Partner\",\"Partner\",\"Partner\",\"Partner\",\"Partner\",\"Partner\",\"Partner\",\"Partner\",\"Partner\",\"Partner\",\"Partner\",\"Partner\",\"Partner\",\"Partner\",\"Partner\",\"Partner\",\"Partner\",\"Partner\",\"Partner\",\"Partner\",\"Partner\",\"Partner\",\"Partner\",\"Partner\",\"Partner\",\"Partner\",\"Partner\",\"Partner\",\"Partner\",\"Partner\",\"Partner\",\"Partner\",\"Partner\",\"Partner\",\"Partner\",\"Partner\",\"Partner\",\"Partner\",\"Partner\",\"Partner\",\"Partner\",\"Partner\",\"Partner\",\"Partner\",\"Partner\",\"Partner\",\"Partner\",\"Partner\",\"Partner\",\"Partner\",\"Partner\",\"Partner\",\"Partner\",\"Partner\",\"Partner\",\"Partner\",\"Partner\",\"Partner\",\"Partner\",\"Partner\",\"Partner\",\"Partner\",\"Partner\",\"Partner\",\"Partner\",\"Partner\",\"Partner\",\"Partner\",\"Partner\",\"Partner\",\"Partner\",\"Partner\",\"Partner\",\"Partner\",\"Partner\",\"Partner\",\"Partner\",\"Partner\",\"Partner\",\"Partner\",\"Partner\",\"Partner\",\"Partner\",\"Partner\",\"Partner\",\"Partner\",\"Partner\",\"Partner\",\"Partner\",\"Partner\",\"Partner\",\"Partner\",\"Partner\",\"Partner\",\"Partner\",\"Partner\",\"Partner\",\"Partner\",\"Partner\",\"Partner\",\"Partner\",\"Partner\",\"Partner\",\"Partner\",\"Partner\",\"Partner\",\"Partner\",\"Partner\",\"Partner\",\"Partner\",\"Partner\",\"Partner\",\"Partner\",\"Partner\",\"Partner\",\"RFI\",\"RFI\",\"RFI\",\"RFI\",\"RFI\",\"RFI\",\"RFI\",\"RFI\",\"RFI\",\"RFI\",\"RFI\",\"RFI\",\"RFI\",\"RFI\",\"RFI\",\"RFI\",\"RFI\",\"RFI\",\"RFI\",\"RFI\",\"RFI\",\"RFI\",\"RFI\"]],[\"color\",[\"#2ca02c\",\"#2ca02c\",\"#2ca02c\",\"#2ca02c\",\"#2ca02c\",\"#2ca02c\",\"#2ca02c\",\"#2ca02c\",\"#2ca02c\",\"#2ca02c\",\"#2ca02c\",\"#2ca02c\",\"#2ca02c\",\"#2ca02c\",\"#2ca02c\",\"#2ca02c\",\"#2ca02c\",\"#2ca02c\",\"#2ca02c\",\"#2ca02c\",\"#2ca02c\",\"#2ca02c\",\"#2ca02c\",\"#2ca02c\",\"#2ca02c\",\"#2ca02c\",\"#2ca02c\",\"#2ca02c\",\"#2ca02c\",\"#2ca02c\",\"#2ca02c\",\"#2ca02c\",\"#2ca02c\",\"#2ca02c\",\"#2ca02c\",\"#2ca02c\",\"#2ca02c\",\"#2ca02c\",\"#2ca02c\",\"#2ca02c\",\"#2ca02c\",\"#2ca02c\",\"#2ca02c\",\"#2ca02c\",\"#2ca02c\",\"#2ca02c\",\"#2ca02c\",\"#2ca02c\",\"#2ca02c\",\"#2ca02c\",\"#2ca02c\",\"#2ca02c\",\"#2ca02c\",\"#2ca02c\",\"#2ca02c\",\"#2ca02c\",\"#2ca02c\",\"#2ca02c\",\"#2ca02c\",\"#2ca02c\",\"#2ca02c\",\"#2ca02c\",\"#2ca02c\",\"#2ca02c\",\"#2ca02c\",\"#2ca02c\",\"#2ca02c\",\"#2ca02c\",\"#2ca02c\",\"#2ca02c\",\"#2ca02c\",\"#2ca02c\",\"#2ca02c\",\"#2ca02c\",\"#2ca02c\",\"#2ca02c\",\"#2ca02c\",\"#2ca02c\",\"#2ca02c\",\"#2ca02c\",\"#2ca02c\",\"#2ca02c\",\"#2ca02c\",\"#2ca02c\",\"#2ca02c\",\"#2ca02c\",\"#2ca02c\",\"#2ca02c\",\"#2ca02c\",\"#2ca02c\",\"#2ca02c\",\"#2ca02c\",\"#2ca02c\",\"#2ca02c\",\"#2ca02c\",\"#2ca02c\",\"#2ca02c\",\"#2ca02c\",\"#2ca02c\",\"#2ca02c\",\"#2ca02c\",\"#2ca02c\",\"#2ca02c\",\"#2ca02c\",\"#2ca02c\",\"#2ca02c\",\"#2ca02c\",\"#2ca02c\",\"#2ca02c\",\"#2ca02c\",\"#2ca02c\",\"#2ca02c\",\"#2ca02c\",\"#2ca02c\",\"#2ca02c\",\"#2ca02c\",\"#2ca02c\",\"#2ca02c\",\"#2ca02c\",\"#2ca02c\",\"#2ca02c\",\"#2ca02c\",\"#2ca02c\",\"#2ca02c\",\"#2ca02c\",\"#2ca02c\",\"#2ca02c\",\"#2ca02c\",\"#2ca02c\",\"#2ca02c\",\"#2ca02c\",\"#2ca02c\",\"#2ca02c\",\"#2ca02c\",\"#2ca02c\",\"#2ca02c\",\"#2ca02c\",\"#2ca02c\",\"#2ca02c\",\"#2ca02c\",\"#2ca02c\",\"#2ca02c\",\"#2ca02c\",\"#2ca02c\",\"#2ca02c\",\"#2ca02c\",\"#2ca02c\",\"#2ca02c\",\"#2ca02c\",\"#2ca02c\",\"#2ca02c\",\"#2ca02c\",\"#2ca02c\",\"#2ca02c\",\"#2ca02c\",\"#2ca02c\",\"#2ca02c\",\"#2ca02c\",\"#2ca02c\",\"#2ca02c\",\"#2ca02c\",\"#2ca02c\",\"#2ca02c\",\"#2ca02c\",\"#2ca02c\",\"#2ca02c\",\"#2ca02c\",\"#2ca02c\",\"#2ca02c\",\"#2ca02c\",\"#2ca02c\",\"#2ca02c\",\"#2ca02c\",\"#2ca02c\",\"#2ca02c\",\"#2ca02c\",\"#2ca02c\",\"#2ca02c\",\"#2ca02c\",\"#2ca02c\",\"#2ca02c\",\"#2ca02c\",\"#2ca02c\",\"#2ca02c\",\"#2ca02c\",\"#2ca02c\",\"#2ca02c\",\"#2ca02c\",\"#2ca02c\",\"#2ca02c\",\"#2ca02c\",\"#2ca02c\",\"#2ca02c\",\"#2ca02c\",\"#2ca02c\",\"#2ca02c\",\"#2ca02c\",\"#2ca02c\",\"#2ca02c\",\"#2ca02c\",\"#2ca02c\",\"#2ca02c\",\"#2ca02c\",\"#2ca02c\",\"#2ca02c\",\"#2ca02c\",\"#2ca02c\",\"#2ca02c\",\"#2ca02c\",\"#2ca02c\",\"#2ca02c\",\"#2ca02c\",\"#2ca02c\",\"#2ca02c\",\"#2ca02c\",\"#2ca02c\",\"#2ca02c\",\"#2ca02c\",\"#2ca02c\",\"#2ca02c\",\"#2ca02c\",\"#2ca02c\",\"#2ca02c\",\"#2ca02c\",\"#2ca02c\",\"#2ca02c\",\"#2ca02c\",\"#2ca02c\",\"#2ca02c\",\"#2ca02c\",\"#2ca02c\",\"#2ca02c\",\"#2ca02c\",\"#2ca02c\",\"#2ca02c\",\"#2ca02c\",\"#2ca02c\",\"#2ca02c\",\"#2ca02c\",\"#2ca02c\",\"#2ca02c\",\"#2ca02c\",\"#2ca02c\",\"#2ca02c\",\"#2ca02c\",\"#2ca02c\",\"#2ca02c\",\"#2ca02c\",\"#2ca02c\",\"#2ca02c\",\"#2ca02c\",\"#2ca02c\",\"#2ca02c\",\"#2ca02c\",\"#2ca02c\",\"#2ca02c\",\"#2ca02c\",\"#2ca02c\",\"#2ca02c\",\"#2ca02c\",\"#2ca02c\",\"#2ca02c\",\"#2ca02c\",\"#2ca02c\",\"#2ca02c\",\"#2ca02c\",\"#2ca02c\",\"#2ca02c\",\"#2ca02c\",\"#2ca02c\",\"#2ca02c\",\"#2ca02c\",\"#2ca02c\",\"#2ca02c\",\"#2ca02c\",\"#2ca02c\",\"#2ca02c\",\"#2ca02c\",\"#2ca02c\",\"#2ca02c\",\"#2ca02c\",\"#2ca02c\",\"#2ca02c\",\"#2ca02c\",\"#2ca02c\",\"#2ca02c\",\"#2ca02c\",\"#2ca02c\",\"#2ca02c\",\"#2ca02c\",\"#2ca02c\",\"#2ca02c\",\"#2ca02c\",\"#2ca02c\",\"#2ca02c\",\"#2ca02c\",\"#2ca02c\",\"#2ca02c\",\"#2ca02c\",\"#2ca02c\",\"#2ca02c\",\"#2ca02c\",\"#2ca02c\",\"#2ca02c\",\"#2ca02c\",\"#2ca02c\",\"#2ca02c\",\"#2ca02c\",\"#2ca02c\",\"#2ca02c\",\"#2ca02c\",\"#2ca02c\",\"#2ca02c\",\"#2ca02c\",\"#2ca02c\",\"#2ca02c\",\"#2ca02c\",\"#2ca02c\",\"#2ca02c\",\"#2ca02c\",\"#2ca02c\",\"#2ca02c\",\"#2ca02c\",\"#2ca02c\",\"#2ca02c\",\"#2ca02c\",\"#2ca02c\",\"#2ca02c\",\"#2ca02c\",\"#2ca02c\",\"#2ca02c\",\"#2ca02c\",\"#2ca02c\",\"#2ca02c\",\"#2ca02c\",\"#2ca02c\",\"#2ca02c\",\"#2ca02c\",\"#2ca02c\",\"#2ca02c\",\"#2ca02c\",\"#2ca02c\",\"#2ca02c\",\"#2ca02c\",\"#2ca02c\",\"#2ca02c\",\"#2ca02c\",\"#2ca02c\",\"#2ca02c\",\"#2ca02c\",\"#2ca02c\",\"#2ca02c\",\"#2ca02c\",\"#2ca02c\",\"#2ca02c\",\"#2ca02c\",\"#2ca02c\",\"#2ca02c\",\"#2ca02c\",\"#2ca02c\",\"#2ca02c\",\"#2ca02c\",\"#2ca02c\",\"#2ca02c\",\"#2ca02c\",\"#2ca02c\",\"#2ca02c\",\"#2ca02c\",\"#2ca02c\",\"#2ca02c\",\"#2ca02c\",\"#2ca02c\",\"#2ca02c\",\"#2ca02c\",\"#2ca02c\",\"#2ca02c\",\"#2ca02c\",\"#2ca02c\",\"#2ca02c\",\"#2ca02c\",\"#2ca02c\",\"#2ca02c\",\"#2ca02c\",\"#2ca02c\",\"#2ca02c\",\"#2ca02c\",\"#2ca02c\",\"#2ca02c\",\"#2ca02c\",\"#2ca02c\",\"#2ca02c\",\"#2ca02c\",\"#2ca02c\",\"#2ca02c\",\"#2ca02c\",\"#2ca02c\",\"#2ca02c\",\"#2ca02c\",\"#2ca02c\",\"#2ca02c\",\"#2ca02c\",\"#2ca02c\",\"#2ca02c\",\"#2ca02c\",\"#2ca02c\",\"#2ca02c\",\"#2ca02c\",\"#2ca02c\",\"#2ca02c\",\"#2ca02c\",\"#2ca02c\",\"#2ca02c\",\"#2ca02c\",\"#2ca02c\",\"#2ca02c\",\"#2ca02c\",\"#2ca02c\",\"#2ca02c\",\"#2ca02c\",\"#2ca02c\",\"#2ca02c\",\"#2ca02c\",\"#2ca02c\",\"#2ca02c\",\"#2ca02c\",\"#2ca02c\",\"#2ca02c\",\"#2ca02c\",\"#2ca02c\",\"#2ca02c\",\"#2ca02c\",\"#2ca02c\",\"#2ca02c\",\"#2ca02c\",\"#2ca02c\",\"#2ca02c\",\"#2ca02c\",\"#2ca02c\",\"#2ca02c\",\"#2ca02c\",\"#2ca02c\",\"#2ca02c\",\"#2ca02c\",\"#2ca02c\",\"#2ca02c\",\"#2ca02c\",\"#2ca02c\",\"#2ca02c\",\"#2ca02c\",\"#2ca02c\",\"#2ca02c\",\"#2ca02c\",\"#2ca02c\",\"#2ca02c\",\"#2ca02c\",\"#2ca02c\",\"#2ca02c\",\"#2ca02c\",\"#2ca02c\",\"#2ca02c\",\"#2ca02c\",\"#2ca02c\",\"#2ca02c\",\"#2ca02c\",\"#2ca02c\",\"#2ca02c\",\"#2ca02c\",\"#2ca02c\",\"#2ca02c\",\"#2ca02c\",\"#2ca02c\",\"#2ca02c\",\"#2ca02c\",\"#2ca02c\",\"#2ca02c\",\"#2ca02c\",\"#2ca02c\",\"#2ca02c\",\"#2ca02c\",\"#2ca02c\",\"#2ca02c\",\"#2ca02c\",\"#2ca02c\",\"#2ca02c\",\"#2ca02c\",\"#2ca02c\",\"#2ca02c\",\"#2ca02c\",\"#2ca02c\",\"#2ca02c\",\"#2ca02c\",\"#2ca02c\",\"#2ca02c\",\"#2ca02c\",\"#2ca02c\",\"#2ca02c\",\"#2ca02c\",\"#2ca02c\",\"#2ca02c\",\"#2ca02c\",\"#2ca02c\",\"#2ca02c\",\"#2ca02c\",\"#2ca02c\",\"#2ca02c\",\"#2ca02c\",\"#2ca02c\",\"#2ca02c\",\"#2ca02c\",\"#2ca02c\",\"#2ca02c\",\"#2ca02c\",\"#2ca02c\",\"#2ca02c\",\"#2ca02c\",\"#2ca02c\",\"#2ca02c\",\"#2ca02c\",\"#2ca02c\",\"#2ca02c\",\"#2ca02c\",\"#2ca02c\",\"#2ca02c\",\"#2ca02c\",\"#2ca02c\",\"#2ca02c\",\"#2ca02c\",\"#2ca02c\",\"#2ca02c\",\"#2ca02c\",\"#2ca02c\",\"#2ca02c\",\"#2ca02c\",\"#2ca02c\",\"#2ca02c\",\"#2ca02c\",\"#2ca02c\",\"#2ca02c\",\"#2ca02c\",\"#2ca02c\",\"#2ca02c\",\"#2ca02c\",\"#2ca02c\",\"#2ca02c\",\"#2ca02c\",\"#2ca02c\",\"#2ca02c\",\"#2ca02c\",\"#2ca02c\",\"#2ca02c\",\"#2ca02c\",\"#2ca02c\",\"#2ca02c\",\"#2ca02c\",\"#2ca02c\",\"#2ca02c\",\"#2ca02c\",\"#2ca02c\",\"#2ca02c\",\"#2ca02c\",\"#2ca02c\",\"#2ca02c\",\"#2ca02c\",\"#2ca02c\",\"#2ca02c\",\"#2ca02c\",\"#2ca02c\",\"#2ca02c\",\"#2ca02c\",\"#2ca02c\",\"#2ca02c\",\"#2ca02c\",\"#2ca02c\",\"#2ca02c\",\"#2ca02c\",\"#2ca02c\",\"#2ca02c\",\"#2ca02c\",\"#2ca02c\",\"#2ca02c\",\"#2ca02c\",\"#2ca02c\",\"#2ca02c\",\"#2ca02c\",\"#2ca02c\",\"#2ca02c\",\"#2ca02c\",\"#2ca02c\",\"#2ca02c\",\"#2ca02c\",\"#2ca02c\",\"#2ca02c\",\"#2ca02c\",\"#2ca02c\",\"#2ca02c\",\"#2ca02c\",\"#2ca02c\",\"#2ca02c\",\"#2ca02c\",\"#2ca02c\",\"#2ca02c\",\"#2ca02c\",\"#2ca02c\",\"#2ca02c\",\"#2ca02c\",\"#2ca02c\",\"#2ca02c\",\"#2ca02c\",\"#2ca02c\",\"#2ca02c\",\"#2ca02c\",\"#2ca02c\",\"#2ca02c\",\"#2ca02c\",\"#2ca02c\",\"#2ca02c\",\"#2ca02c\",\"#2ca02c\",\"#2ca02c\",\"#2ca02c\",\"#2ca02c\",\"#2ca02c\",\"#2ca02c\",\"#2ca02c\",\"#2ca02c\",\"#2ca02c\",\"#2ca02c\",\"#2ca02c\",\"#2ca02c\",\"#2ca02c\",\"#2ca02c\",\"#2ca02c\",\"#2ca02c\",\"#2ca02c\",\"#2ca02c\",\"#2ca02c\",\"#2ca02c\",\"#2ca02c\",\"#2ca02c\",\"#2ca02c\",\"#2ca02c\",\"#2ca02c\",\"#2ca02c\",\"#2ca02c\",\"#2ca02c\",\"#2ca02c\",\"#2ca02c\",\"#2ca02c\",\"#2ca02c\",\"#2ca02c\",\"#2ca02c\",\"#2ca02c\",\"#2ca02c\",\"#2ca02c\",\"#2ca02c\",\"#2ca02c\",\"#2ca02c\",\"#2ca02c\",\"#2ca02c\",\"#2ca02c\",\"#2ca02c\",\"#2ca02c\",\"#2ca02c\",\"#2ca02c\",\"#2ca02c\",\"#2ca02c\",\"#2ca02c\",\"#2ca02c\",\"#2ca02c\",\"#2ca02c\",\"#2ca02c\",\"#2ca02c\",\"#2ca02c\",\"#2ca02c\",\"#2ca02c\",\"#2ca02c\",\"#2ca02c\",\"#2ca02c\",\"#2ca02c\",\"#2ca02c\",\"#2ca02c\",\"#2ca02c\",\"#2ca02c\",\"#2ca02c\",\"#2ca02c\",\"#2ca02c\",\"#2ca02c\",\"#2ca02c\",\"#2ca02c\",\"#2ca02c\",\"#2ca02c\",\"#2ca02c\",\"#2ca02c\",\"#2ca02c\",\"#2ca02c\",\"#2ca02c\",\"#2ca02c\",\"#2ca02c\",\"#2ca02c\",\"#2ca02c\",\"#2ca02c\",\"#2ca02c\",\"#2ca02c\",\"#2ca02c\",\"#2ca02c\",\"#2ca02c\",\"#2ca02c\",\"#2ca02c\",\"#2ca02c\",\"#2ca02c\",\"#2ca02c\",\"#2ca02c\",\"#2ca02c\",\"#2ca02c\",\"#2ca02c\",\"#2ca02c\",\"#2ca02c\",\"#2ca02c\",\"#2ca02c\",\"#2ca02c\",\"#2ca02c\",\"#2ca02c\",\"#2ca02c\",\"#2ca02c\",\"#2ca02c\",\"#2ca02c\",\"#2ca02c\",\"#2ca02c\",\"#2ca02c\",\"#2ca02c\",\"#2ca02c\",\"#2ca02c\",\"#2ca02c\",\"#2ca02c\",\"#2ca02c\",\"#2ca02c\",\"#2ca02c\",\"#2ca02c\",\"#2ca02c\",\"#2ca02c\",\"#2ca02c\",\"#2ca02c\",\"#2ca02c\",\"#2ca02c\",\"#2ca02c\",\"#2ca02c\",\"#2ca02c\",\"#2ca02c\",\"#2ca02c\",\"#2ca02c\",\"#2ca02c\",\"#2ca02c\",\"#2ca02c\",\"#2ca02c\",\"#2ca02c\",\"#2ca02c\",\"#2ca02c\",\"#2ca02c\",\"#2ca02c\",\"#2ca02c\",\"#2ca02c\",\"#2ca02c\",\"#2ca02c\",\"#2ca02c\",\"#2ca02c\",\"#2ca02c\",\"#2ca02c\",\"#2ca02c\",\"#2ca02c\",\"#2ca02c\",\"#2ca02c\",\"#2ca02c\",\"#2ca02c\",\"#2ca02c\",\"#2ca02c\",\"#2ca02c\",\"#2ca02c\",\"#2ca02c\",\"#2ca02c\",\"#2ca02c\",\"#2ca02c\",\"#2ca02c\",\"#2ca02c\",\"#2ca02c\",\"#2ca02c\",\"#2ca02c\",\"#2ca02c\",\"#2ca02c\",\"#2ca02c\",\"#2ca02c\",\"#2ca02c\",\"#2ca02c\",\"#2ca02c\",\"#2ca02c\",\"#2ca02c\",\"#2ca02c\",\"#2ca02c\",\"#2ca02c\",\"#2ca02c\",\"#2ca02c\",\"#2ca02c\",\"#2ca02c\",\"#2ca02c\",\"#2ca02c\",\"#2ca02c\",\"#2ca02c\",\"#2ca02c\",\"#2ca02c\",\"#2ca02c\",\"#2ca02c\",\"#2ca02c\",\"#2ca02c\",\"#2ca02c\",\"#2ca02c\",\"#2ca02c\",\"#2ca02c\",\"#2ca02c\",\"#2ca02c\",\"#2ca02c\",\"#2ca02c\",\"#2ca02c\",\"#2ca02c\",\"#2ca02c\",\"#2ca02c\",\"#2ca02c\",\"#2ca02c\",\"#2ca02c\",\"#2ca02c\",\"#2ca02c\",\"#2ca02c\",\"#2ca02c\",\"#2ca02c\",\"#2ca02c\",\"#2ca02c\",\"#2ca02c\",\"#2ca02c\",\"#2ca02c\",\"#2ca02c\",\"#2ca02c\",\"#2ca02c\",\"#2ca02c\",\"#2ca02c\",\"#2ca02c\",\"#2ca02c\",\"#2ca02c\",\"#2ca02c\",\"#2ca02c\",\"#2ca02c\",\"#2ca02c\",\"#2ca02c\",\"#2ca02c\",\"#2ca02c\",\"#2ca02c\",\"#2ca02c\",\"#2ca02c\",\"#2ca02c\",\"#2ca02c\",\"#2ca02c\",\"#2ca02c\",\"#2ca02c\",\"#2ca02c\",\"#2ca02c\",\"#2ca02c\",\"#2ca02c\",\"#2ca02c\",\"#2ca02c\",\"#2ca02c\",\"#2ca02c\",\"#2ca02c\",\"#2ca02c\",\"#2ca02c\",\"#2ca02c\",\"#2ca02c\",\"#2ca02c\",\"#2ca02c\",\"#2ca02c\",\"#2ca02c\",\"#2ca02c\",\"#2ca02c\",\"#2ca02c\",\"#2ca02c\",\"#2ca02c\",\"#2ca02c\",\"#2ca02c\",\"#2ca02c\",\"#2ca02c\",\"#2ca02c\",\"#2ca02c\",\"#2ca02c\",\"#2ca02c\",\"#2ca02c\",\"#2ca02c\",\"#2ca02c\",\"#2ca02c\",\"#2ca02c\",\"#2ca02c\",\"#2ca02c\",\"#2ca02c\",\"#2ca02c\",\"#2ca02c\",\"#2ca02c\",\"#2ca02c\",\"#2ca02c\",\"#2ca02c\",\"#2ca02c\",\"#2ca02c\",\"#2ca02c\",\"#2ca02c\",\"#2ca02c\",\"#2ca02c\",\"#2ca02c\",\"#2ca02c\",\"#2ca02c\",\"#2ca02c\",\"#2ca02c\",\"#2ca02c\",\"#2ca02c\",\"#2ca02c\",\"#2ca02c\",\"#2ca02c\",\"#2ca02c\",\"#2ca02c\",\"#2ca02c\",\"#2ca02c\",\"#2ca02c\",\"#2ca02c\",\"#2ca02c\",\"#2ca02c\",\"#2ca02c\",\"#2ca02c\",\"#2ca02c\",\"#2ca02c\",\"#2ca02c\",\"#2ca02c\",\"#2ca02c\",\"#2ca02c\",\"#2ca02c\",\"#2ca02c\",\"#2ca02c\",\"#2ca02c\",\"#2ca02c\",\"#2ca02c\",\"#2ca02c\",\"#2ca02c\",\"#2ca02c\",\"#2ca02c\",\"#2ca02c\",\"#2ca02c\",\"#2ca02c\",\"#2ca02c\",\"#2ca02c\",\"#2ca02c\",\"#2ca02c\",\"#2ca02c\",\"#2ca02c\",\"#2ca02c\",\"#2ca02c\",\"#2ca02c\",\"#2ca02c\",\"#2ca02c\",\"#2ca02c\",\"#2ca02c\",\"#2ca02c\",\"#2ca02c\",\"#2ca02c\",\"#2ca02c\",\"#2ca02c\",\"#2ca02c\",\"#2ca02c\",\"#2ca02c\",\"#2ca02c\",\"#2ca02c\",\"#2ca02c\",\"#2ca02c\",\"#2ca02c\",\"#2ca02c\",\"#2ca02c\",\"#2ca02c\",\"#2ca02c\",\"#2ca02c\",\"#2ca02c\",\"#2ca02c\",\"#2ca02c\",\"#2ca02c\",\"#2ca02c\",\"#2ca02c\",\"#2ca02c\",\"#2ca02c\",\"#2ca02c\",\"#2ca02c\",\"#2ca02c\",\"#2ca02c\",\"#2ca02c\",\"#2ca02c\",\"#2ca02c\",\"#2ca02c\",\"#2ca02c\",\"#2ca02c\",\"#2ca02c\",\"#2ca02c\",\"#2ca02c\",\"#2ca02c\",\"#2ca02c\",\"#2ca02c\",\"#2ca02c\",\"#2ca02c\",\"#2ca02c\",\"#2ca02c\",\"#2ca02c\",\"#2ca02c\",\"#2ca02c\",\"#2ca02c\",\"#2ca02c\",\"#2ca02c\",\"#2ca02c\",\"#2ca02c\",\"#2ca02c\",\"#2ca02c\",\"#2ca02c\",\"#2ca02c\",\"#2ca02c\",\"#2ca02c\",\"#2ca02c\",\"#2ca02c\",\"#2ca02c\",\"#2ca02c\",\"#2ca02c\",\"#2ca02c\",\"#2ca02c\",\"#2ca02c\",\"#2ca02c\",\"#2ca02c\",\"#2ca02c\",\"#2ca02c\",\"#2ca02c\",\"#2ca02c\",\"#2ca02c\",\"#2ca02c\",\"#2ca02c\",\"#2ca02c\",\"#2ca02c\",\"#2ca02c\",\"#2ca02c\",\"#2ca02c\",\"#2ca02c\",\"#2ca02c\",\"#2ca02c\",\"#2ca02c\",\"#2ca02c\",\"#2ca02c\",\"#2ca02c\",\"#2ca02c\",\"#2ca02c\",\"#2ca02c\",\"#2ca02c\",\"#2ca02c\",\"#2ca02c\",\"#2ca02c\",\"#2ca02c\",\"#2ca02c\",\"#2ca02c\",\"#2ca02c\",\"#2ca02c\",\"#2ca02c\",\"#2ca02c\",\"#2ca02c\",\"#2ca02c\",\"#2ca02c\",\"#2ca02c\",\"#2ca02c\",\"#2ca02c\",\"#2ca02c\",\"#2ca02c\",\"#2ca02c\",\"#2ca02c\",\"#2ca02c\",\"#2ca02c\",\"#2ca02c\",\"#2ca02c\",\"#2ca02c\",\"#2ca02c\",\"#2ca02c\",\"#2ca02c\",\"#2ca02c\",\"#2ca02c\",\"#2ca02c\",\"#2ca02c\",\"#2ca02c\",\"#2ca02c\",\"#2ca02c\",\"#2ca02c\",\"#2ca02c\",\"#2ca02c\",\"#2ca02c\",\"#2ca02c\",\"#2ca02c\",\"#2ca02c\",\"#2ca02c\",\"#2ca02c\",\"#2ca02c\",\"#2ca02c\",\"#2ca02c\",\"#2ca02c\",\"#2ca02c\",\"#2ca02c\",\"#2ca02c\",\"#2ca02c\",\"#2ca02c\",\"#2ca02c\",\"#2ca02c\",\"#2ca02c\",\"#2ca02c\",\"#2ca02c\",\"#2ca02c\",\"#2ca02c\",\"#2ca02c\",\"#2ca02c\",\"#2ca02c\",\"#2ca02c\",\"#2ca02c\",\"#2ca02c\",\"#2ca02c\",\"#2ca02c\",\"#2ca02c\",\"#2ca02c\",\"#2ca02c\",\"#2ca02c\",\"#2ca02c\",\"#2ca02c\",\"#2ca02c\",\"#2ca02c\",\"#2ca02c\",\"#2ca02c\",\"#2ca02c\",\"#2ca02c\",\"#2ca02c\",\"#2ca02c\",\"#2ca02c\",\"#2ca02c\",\"#2ca02c\",\"#2ca02c\",\"#2ca02c\",\"#2ca02c\",\"#2ca02c\",\"#2ca02c\",\"#2ca02c\",\"#2ca02c\",\"#2ca02c\",\"#2ca02c\",\"#2ca02c\",\"#2ca02c\",\"#2ca02c\",\"#2ca02c\",\"#2ca02c\",\"#2ca02c\",\"#2ca02c\",\"#2ca02c\",\"#2ca02c\",\"#2ca02c\",\"#2ca02c\",\"#2ca02c\",\"#2ca02c\",\"#ff7f0e\",\"#ff7f0e\",\"#ff7f0e\",\"#ff7f0e\",\"#ff7f0e\",\"#ff7f0e\",\"#ff7f0e\",\"#ff7f0e\",\"#ff7f0e\",\"#ff7f0e\",\"#ff7f0e\",\"#ff7f0e\",\"#ff7f0e\",\"#ff7f0e\",\"#ff7f0e\",\"#ff7f0e\",\"#ff7f0e\",\"#ff7f0e\",\"#ff7f0e\",\"#ff7f0e\",\"#ff7f0e\",\"#ff7f0e\",\"#ff7f0e\",\"#ff7f0e\",\"#ff7f0e\",\"#ff7f0e\",\"#ff7f0e\",\"#ff7f0e\",\"#ff7f0e\",\"#ff7f0e\",\"#ff7f0e\",\"#ff7f0e\",\"#ff7f0e\",\"#ff7f0e\",\"#ff7f0e\",\"#ff7f0e\",\"#ff7f0e\",\"#ff7f0e\",\"#ff7f0e\",\"#ff7f0e\",\"#ff7f0e\",\"#ff7f0e\",\"#ff7f0e\",\"#ff7f0e\",\"#ff7f0e\",\"#ff7f0e\",\"#ff7f0e\",\"#ff7f0e\",\"#ff7f0e\",\"#ff7f0e\",\"#ff7f0e\",\"#ff7f0e\",\"#ff7f0e\",\"#ff7f0e\",\"#ff7f0e\",\"#ff7f0e\",\"#ff7f0e\",\"#ff7f0e\",\"#ff7f0e\",\"#ff7f0e\",\"#ff7f0e\",\"#ff7f0e\",\"#ff7f0e\",\"#ff7f0e\",\"#ff7f0e\",\"#ff7f0e\",\"#ff7f0e\",\"#ff7f0e\",\"#ff7f0e\",\"#ff7f0e\",\"#ff7f0e\",\"#ff7f0e\",\"#ff7f0e\",\"#ff7f0e\",\"#ff7f0e\",\"#ff7f0e\",\"#ff7f0e\",\"#ff7f0e\",\"#ff7f0e\",\"#ff7f0e\",\"#ff7f0e\",\"#ff7f0e\",\"#ff7f0e\",\"#ff7f0e\",\"#ff7f0e\",\"#ff7f0e\",\"#ff7f0e\",\"#ff7f0e\",\"#ff7f0e\",\"#ff7f0e\",\"#ff7f0e\",\"#ff7f0e\",\"#ff7f0e\",\"#ff7f0e\",\"#ff7f0e\",\"#ff7f0e\",\"#ff7f0e\",\"#ff7f0e\",\"#ff7f0e\",\"#ff7f0e\",\"#ff7f0e\",\"#ff7f0e\",\"#ff7f0e\",\"#ff7f0e\",\"#ff7f0e\",\"#ff7f0e\",\"#ff7f0e\",\"#ff7f0e\",\"#ff7f0e\",\"#ff7f0e\",\"#ff7f0e\",\"#ff7f0e\",\"#ff7f0e\",\"#ff7f0e\",\"#ff7f0e\",\"#ff7f0e\",\"#ff7f0e\",\"#ff7f0e\",\"#ff7f0e\",\"#ff7f0e\",\"#ff7f0e\",\"#ff7f0e\",\"#ff7f0e\",\"#ff7f0e\",\"#ff7f0e\",\"#ff7f0e\",\"#ff7f0e\",\"#ff7f0e\",\"#ff7f0e\",\"#ff7f0e\",\"#ff7f0e\",\"#ff7f0e\",\"#ff7f0e\",\"#ff7f0e\",\"#ff7f0e\",\"#ff7f0e\",\"#ff7f0e\",\"#ff7f0e\",\"#ff7f0e\",\"#ff7f0e\",\"#ff7f0e\",\"#ff7f0e\",\"#ff7f0e\",\"#ff7f0e\",\"#ff7f0e\",\"#ff7f0e\",\"#ff7f0e\",\"#ff7f0e\",\"#ff7f0e\",\"#ff7f0e\",\"#ff7f0e\",\"#ff7f0e\",\"#ff7f0e\",\"#ff7f0e\",\"#ff7f0e\",\"#ff7f0e\",\"#ff7f0e\",\"#ff7f0e\",\"#ff7f0e\",\"#ff7f0e\",\"#ff7f0e\",\"#ff7f0e\",\"#ff7f0e\",\"#ff7f0e\",\"#ff7f0e\",\"#ff7f0e\",\"#ff7f0e\",\"#ff7f0e\",\"#ff7f0e\",\"#ff7f0e\",\"#ff7f0e\",\"#ff7f0e\",\"#ff7f0e\",\"#ff7f0e\",\"#ff7f0e\",\"#ff7f0e\",\"#ff7f0e\",\"#ff7f0e\",\"#ff7f0e\",\"#ff7f0e\",\"#ff7f0e\",\"#ff7f0e\",\"#ff7f0e\",\"#ff7f0e\",\"#ff7f0e\",\"#ff7f0e\",\"#ff7f0e\",\"#ff7f0e\",\"#ff7f0e\",\"#ff7f0e\",\"#ff7f0e\",\"#ff7f0e\",\"#ff7f0e\",\"#ff7f0e\",\"#ff7f0e\",\"#ff7f0e\",\"#ff7f0e\",\"#ff7f0e\",\"#ff7f0e\",\"#ff7f0e\",\"#ff7f0e\",\"#ff7f0e\",\"#ff7f0e\",\"#ff7f0e\",\"#ff7f0e\",\"#ff7f0e\",\"#ff7f0e\",\"#ff7f0e\",\"#ff7f0e\",\"#ff7f0e\",\"#ff7f0e\",\"#ff7f0e\",\"#ff7f0e\",\"#ff7f0e\",\"#ff7f0e\",\"#ff7f0e\",\"#ff7f0e\",\"#ff7f0e\",\"#ff7f0e\",\"#ff7f0e\",\"#ff7f0e\",\"#ff7f0e\",\"#ff7f0e\",\"#ff7f0e\",\"#ff7f0e\",\"#ff7f0e\",\"#ff7f0e\",\"#ff7f0e\",\"#ff7f0e\",\"#ff7f0e\",\"#ff7f0e\",\"#ff7f0e\",\"#ff7f0e\",\"#ff7f0e\",\"#ff7f0e\",\"#1f77b4\",\"#1f77b4\",\"#1f77b4\",\"#1f77b4\",\"#1f77b4\",\"#1f77b4\",\"#1f77b4\",\"#1f77b4\",\"#1f77b4\",\"#1f77b4\",\"#1f77b4\",\"#1f77b4\",\"#1f77b4\",\"#1f77b4\",\"#1f77b4\",\"#1f77b4\",\"#1f77b4\",\"#1f77b4\",\"#1f77b4\",\"#1f77b4\",\"#1f77b4\",\"#1f77b4\",\"#1f77b4\"]]]}}},\"view\":{\"type\":\"object\",\"name\":\"CDSView\",\"id\":\"p1037\",\"attributes\":{\"filter\":{\"type\":\"object\",\"name\":\"AllIndices\",\"id\":\"p1038\"}}},\"glyph\":{\"type\":\"object\",\"name\":\"Scatter\",\"id\":\"p1033\",\"attributes\":{\"x\":{\"type\":\"field\",\"field\":\"x\"},\"y\":{\"type\":\"field\",\"field\":\"y\"},\"size\":{\"type\":\"value\",\"value\":8},\"line_color\":{\"type\":\"field\",\"field\":\"color\"},\"fill_color\":{\"type\":\"field\",\"field\":\"color\"},\"fill_alpha\":{\"type\":\"value\",\"value\":0.6},\"hatch_color\":{\"type\":\"field\",\"field\":\"color\"}}},\"nonselection_glyph\":{\"type\":\"object\",\"name\":\"Scatter\",\"id\":\"p1034\",\"attributes\":{\"x\":{\"type\":\"field\",\"field\":\"x\"},\"y\":{\"type\":\"field\",\"field\":\"y\"},\"size\":{\"type\":\"value\",\"value\":8},\"line_color\":{\"type\":\"field\",\"field\":\"color\"},\"line_alpha\":{\"type\":\"value\",\"value\":0.1},\"fill_color\":{\"type\":\"field\",\"field\":\"color\"},\"fill_alpha\":{\"type\":\"value\",\"value\":0.1},\"hatch_color\":{\"type\":\"field\",\"field\":\"color\"},\"hatch_alpha\":{\"type\":\"value\",\"value\":0.1}}},\"muted_glyph\":{\"type\":\"object\",\"name\":\"Scatter\",\"id\":\"p1035\",\"attributes\":{\"x\":{\"type\":\"field\",\"field\":\"x\"},\"y\":{\"type\":\"field\",\"field\":\"y\"},\"size\":{\"type\":\"value\",\"value\":8},\"line_color\":{\"type\":\"field\",\"field\":\"color\"},\"line_alpha\":{\"type\":\"value\",\"value\":0.2},\"fill_color\":{\"type\":\"field\",\"field\":\"color\"},\"fill_alpha\":{\"type\":\"value\",\"value\":0.2},\"hatch_color\":{\"type\":\"field\",\"field\":\"color\"},\"hatch_alpha\":{\"type\":\"value\",\"value\":0.2}}}}}],\"toolbar\":{\"type\":\"object\",\"name\":\"Toolbar\",\"id\":\"p1013\",\"attributes\":{\"tools\":[{\"type\":\"object\",\"name\":\"PanTool\",\"id\":\"p1026\"},{\"type\":\"object\",\"name\":\"WheelZoomTool\",\"id\":\"p1027\",\"attributes\":{\"renderers\":\"auto\"}},{\"type\":\"object\",\"name\":\"ResetTool\",\"id\":\"p1028\"},{\"type\":\"object\",\"name\":\"HoverTool\",\"id\":\"p1029\",\"attributes\":{\"renderers\":\"auto\",\"tooltips\":[[\"Filename\",\"@filename\"]]}}],\"active_inspect\":[{\"id\":\"p1029\"}],\"active_scroll\":{\"id\":\"p1027\"}}},\"left\":[{\"type\":\"object\",\"name\":\"LinearAxis\",\"id\":\"p1021\",\"attributes\":{\"ticker\":{\"type\":\"object\",\"name\":\"BasicTicker\",\"id\":\"p1022\",\"attributes\":{\"mantissas\":[1,2,5]}},\"formatter\":{\"type\":\"object\",\"name\":\"BasicTickFormatter\",\"id\":\"p1023\"},\"major_label_policy\":{\"type\":\"object\",\"name\":\"AllLabels\",\"id\":\"p1024\"}}}],\"below\":[{\"type\":\"object\",\"name\":\"LinearAxis\",\"id\":\"p1016\",\"attributes\":{\"ticker\":{\"type\":\"object\",\"name\":\"BasicTicker\",\"id\":\"p1017\",\"attributes\":{\"mantissas\":[1,2,5]}},\"formatter\":{\"type\":\"object\",\"name\":\"BasicTickFormatter\",\"id\":\"p1018\"},\"major_label_policy\":{\"type\":\"object\",\"name\":\"AllLabels\",\"id\":\"p1019\"}}}],\"center\":[{\"type\":\"object\",\"name\":\"Grid\",\"id\":\"p1020\",\"attributes\":{\"axis\":{\"id\":\"p1016\"}}},{\"type\":\"object\",\"name\":\"Grid\",\"id\":\"p1025\",\"attributes\":{\"dimension\":1,\"axis\":{\"id\":\"p1021\"}}},{\"type\":\"object\",\"name\":\"Legend\",\"id\":\"p1039\",\"attributes\":{\"title\":\"Labels\",\"click_policy\":\"hide\",\"items\":[{\"type\":\"object\",\"name\":\"LegendItem\",\"id\":\"p1040\",\"attributes\":{\"label\":{\"type\":\"field\",\"field\":\"label\"},\"renderers\":[{\"id\":\"p1036\"}]}}]}}]}}]}};\n",
       "  const render_items = [{\"docid\":\"2c8a9b97-3a75-4e52-9f01-c1ab2857bfec\",\"roots\":{\"p1004\":\"d745183e-cbaf-483a-996e-89e0f6d978e2\"},\"root_ids\":[\"p1004\"]}];\n",
       "  void root.Bokeh.embed.embed_items_notebook(docs_json, render_items);\n",
       "  }\n",
       "  if (root.Bokeh !== undefined) {\n",
       "    embed_document(root);\n",
       "  } else {\n",
       "    let attempts = 0;\n",
       "    const timer = setInterval(function(root) {\n",
       "      if (root.Bokeh !== undefined) {\n",
       "        clearInterval(timer);\n",
       "        embed_document(root);\n",
       "      } else {\n",
       "        attempts++;\n",
       "        if (attempts > 100) {\n",
       "          clearInterval(timer);\n",
       "          console.log(\"Bokeh: ERROR: Unable to run BokehJS code because BokehJS library is missing\");\n",
       "        }\n",
       "      }\n",
       "    }, 10, root)\n",
       "  }\n",
       "})(window);"
      ],
      "application/vnd.bokehjs_exec.v0+json": ""
     },
     "metadata": {
      "application/vnd.bokehjs_exec.v0+json": {
       "id": "p1004"
      }
     },
     "output_type": "display_data"
    },
    {
     "data": {
      "text/html": [
       "\n",
       "  <div id=\"a0ee20e5-4557-47c8-bae7-29ed92c1e750\" data-root-id=\"p1046\" style=\"display: contents;\"></div>\n"
      ]
     },
     "metadata": {},
     "output_type": "display_data"
    },
    {
     "data": {
      "application/javascript": [
       "(function(root) {\n",
       "  function embed_document(root) {\n",
       "  const docs_json = {\"e8a1d012-ab7b-4c34-a2f8-ee4318b14c47\":{\"version\":\"3.6.2\",\"title\":\"Bokeh Application\",\"roots\":[{\"type\":\"object\",\"name\":\"Figure\",\"id\":\"p1046\",\"attributes\":{\"width\":800,\"x_range\":{\"type\":\"object\",\"name\":\"DataRange1d\",\"id\":\"p1047\"},\"y_range\":{\"type\":\"object\",\"name\":\"DataRange1d\",\"id\":\"p1048\"},\"x_scale\":{\"type\":\"object\",\"name\":\"LinearScale\",\"id\":\"p1056\"},\"y_scale\":{\"type\":\"object\",\"name\":\"LinearScale\",\"id\":\"p1057\"},\"title\":{\"type\":\"object\",\"name\":\"Title\",\"id\":\"p1049\",\"attributes\":{\"text\":\"UMAP Visualization of Embeddings\"}},\"renderers\":[{\"type\":\"object\",\"name\":\"GlyphRenderer\",\"id\":\"p1078\",\"attributes\":{\"data_source\":{\"type\":\"object\",\"name\":\"ColumnDataSource\",\"id\":\"p1043\",\"attributes\":{\"selected\":{\"type\":\"object\",\"name\":\"Selection\",\"id\":\"p1044\",\"attributes\":{\"indices\":[],\"line_indices\":[]}},\"selection_policy\":{\"type\":\"object\",\"name\":\"UnionRenderers\",\"id\":\"p1045\"},\"data\":{\"type\":\"map\",\"entries\":[[\"x\",{\"type\":\"ndarray\",\"array\":{\"type\":\"bytes\",\"data\":\"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\"},\"shape\":[1420],\"dtype\":\"float32\",\"order\":\"little\"}],[\"y\",{\"type\":\"ndarray\",\"array\":{\"type\":\"bytes\",\"data\":\"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\"},\"shape\":[1420],\"dtype\":\"float32\",\"order\":\"little\"}],[\"filename\",[\"riva\",\"riva\",\"riva\",\"riva\",\"riva\",\"riva\",\"riva\",\"clara\",\"clara\",\"clara\",\"clara\",\"clara\",\"clara\",\"clara\",\"clara\",\"clara\",\"clara\",\"clara\",\"clara\",\"project-GR00T\",\"project-GR00T\",\"project-GR00T\",\"project-GR00T\",\"project-GR00T\",\"project-GR00T\",\"project-GR00T\",\"project-GR00T\",\"project-GR00T\",\"opticalflow-sdk\",\"opticalflow-sdk\",\"opticalflow-sdk\",\"opticalflow-sdk\",\"opticalflow-sdk\",\"opticalflow-sdk\",\"video-and-audio-solutions\",\"video-and-audio-solutions\",\"video-and-audio-solutions\",\"video-and-audio-solutions\",\"video-and-audio-solutions\",\"video-and-audio-solutions\",\"video-and-audio-solutions\",\"video-and-audio-solutions\",\"video-and-audio-solutions\",\"metropolis\",\"metropolis\",\"metropolis\",\"metropolis\",\"metropolis\",\"metropolis\",\"metropolis\",\"metropolis\",\"metropolis\",\"metropolis\",\"metropolis\",\"metropolis\",\"metropolis\",\"usd\",\"usd\",\"usd\",\"usd\",\"usd\",\"usd\",\"usd\",\"usd\",\"usd\",\"usd\",\"usd\",\"jetpack\",\"jetpack\",\"jetpack\",\"jetpack\",\"jetpack\",\"jetpack\",\"jetpack\",\"jetpack\",\"jetpack\",\"jetpack\",\"jetpack\",\"jetpack\",\"jetpack\",\"jetpack\",\"jetpack\",\"jetpack\",\"jetpack\",\"jetpack\",\"jetpack\",\"jetpack\",\"jetpack\",\"jetpack\",\"jetpack\",\"jetpack\",\"jetpack\",\"jetpack\",\"jetpack\",\"jetpack\",\"jetpack\",\"jetpack\",\"jetpack\",\"jetpack\",\"jetpack\",\"jetpack\",\"jetpack\",\"jetpack\",\"modulus\",\"modulus\",\"modulus\",\"modulus\",\"modulus\",\"modulus\",\"modulus\",\"modulus\",\"modulus\",\"modulus\",\"modulus\",\"modulus\",\"driveos\",\"driveos\",\"driveos\",\"driveos\",\"driveos\",\"clara-parabricks\",\"clara-parabricks\",\"clara-parabricks\",\"clara-parabricks\",\"clara-parabricks\",\"clara-parabricks\",\"clara-parabricks\",\"clara-parabricks\",\"clara-parabricks\",\"clara-parabricks\",\"clara-parabricks\",\"clara-parabricks\",\"clara-parabricks\",\"clara-parabricks\",\"clara-parabricks\",\"clara-parabricks\",\"\",\"\",\"\",\"\",\"\",\"\",\"\",\"\",\"\",\"cuopt-logistics-optimization\",\"cuopt-logistics-optimization\",\"cuopt-logistics-optimization\",\"cuopt-logistics-optimization\",\"cuopt-logistics-optimization\",\"cuopt-logistics-optimization\",\"cuopt-logistics-optimization\",\"cuopt-logistics-optimization\",\"cuopt-logistics-optimization\",\"cuopt-logistics-optimization\",\"cuopt-logistics-optimization\",\"cuopt-logistics-optimization\",\"cuopt-logistics-optimization\",\"cuopt-logistics-optimization\",\"cuopt-logistics-optimization\",\"cuopt-logistics-optimization\",\"nvidia-video-codec-sdk\",\"nvidia-video-codec-sdk\",\"nvidia-video-codec-sdk\",\"nvidia-video-codec-sdk\",\"nvidia-video-codec-sdk\",\"nvidia-video-codec-sdk\",\"nvidia-video-codec-sdk\",\"nvidia-video-codec-sdk\",\"nvidia-video-codec-sdk\",\"nvidia-video-codec-sdk\",\"nvidia-video-codec-sdk\",\"nvidia-video-codec-sdk\",\"nvidia-video-codec-sdk\",\"nvidia-video-codec-sdk\",\"nvidia-video-codec-sdk\",\"nvidia-video-codec-sdk\",\"nvidia-video-codec-sdk\",\"nvidia-video-codec-sdk\",\"email-signup\",\"TAO\",\"TAO\",\"TAO\",\"TAO\",\"TAO\",\"TAO\",\"TAO\",\"TAO\",\"TAO\",\"TAO\",\"TAO\",\"TAO\",\"TAO\",\"TAO\",\"TAO\",\"TAO\",\"TAO\",\"TAO\",\"TAO\",\"unreal-engine\",\"unreal-engine\",\"unreal-engine\",\"unreal-engine\",\"unreal-engine\",\"unreal-engine\",\"unreal-engine\",\"unreal-engine\",\"vrworks\",\"vrworks\",\"vrworks\",\"vrworks\",\"vrworks\",\"vrworks\",\"vrworks\",\"vrworks\",\"vrworks\",\"vrworks\",\"metropolis-microservices\",\"metropolis-microservices\",\"metropolis-microservices\",\"metropolis-microservices\",\"metropolis-microservices\",\"metropolis-microservices\",\"metropolis-microservices\",\"metropolis-microservices\",\"metropolis-microservices\",\"metropolis-microservices\",\"metropolis-microservices\",\"metropolis-microservices\",\"converged-accelerator-developer-kit\",\"converged-accelerator-developer-kit\",\"converged-accelerator-developer-kit\",\"converged-accelerator-developer-kit\",\"converged-accelerator-developer-kit\",\"converged-accelerator-developer-kit\",\"converged-accelerator-developer-kit\",\"converged-accelerator-developer-kit\",\"converged-accelerator-developer-kit\",\"converged-accelerator-developer-kit\",\"converged-accelerator-developer-kit\",\"open-source\",\"physx-sdk\",\"physx-sdk\",\"physx-sdk\",\"physx-sdk\",\"physx-sdk\",\"physx-sdk\",\"physx-sdk\",\"physx-sdk\",\"rtxgi\",\"rtxgi\",\"rtxgi\",\"rtxgi\",\"rtxgi\",\"rtxgi\",\"rtxgi\",\"rtxgi\",\"rtxgi\",\"rtxgi\",\"networking\",\"networking\",\"networking\",\"networking\",\"networking\",\"networking\",\"ros\",\"ros\",\"ros\",\"ros\",\"ros\",\"ros\",\"ros\",\"ros\",\"ros\",\"ros\",\"ros\",\"ros\",\"drive-hyperion\",\"drive-hyperion\",\"drive-hyperion\",\"drive-hyperion\",\"drive-hyperion\",\"drive-hyperion\",\"drive-hyperion\",\"optix\",\"optix\",\"optix\",\"optix\",\"optix\",\"optix\",\"optix\",\"optix\",\"optix\",\"optix\",\"optix\",\"optix\",\"optix\",\"optix\",\"optix\",\"optix\",\"optix\",\"optix\",\"optix\",\"optix\",\"optix\",\"optix\",\"optix\",\"energy\",\"energy\",\"energy\",\"energy\",\"energy\",\"energy\",\"energy\",\"energy\",\"energy\",\"energy\",\"energy\",\"energy\",\"energy\",\"reflex\",\"reflex\",\"reflex\",\"reflex\",\"reflex\",\"reflex\",\"reflex\",\"tao-toolkit\",\"tao-toolkit\",\"tao-toolkit\",\"tao-toolkit\",\"tao-toolkit\",\"tao-toolkit\",\"tao-toolkit\",\"tao-toolkit\",\"tao-toolkit\",\"tao-toolkit\",\"tao-toolkit\",\"tao-toolkit\",\"tao-toolkit\",\"tao-toolkit\",\"tao-toolkit\",\"tao-toolkit\",\"tao-toolkit\",\"tao-toolkit\",\"tao-toolkit\",\"rendering-performance\",\"rendering-performance\",\"rendering-performance\",\"rendering-performance\",\"rendering-performance\",\"rendering-performance\",\"higher-education-and-research\",\"higher-education-and-research\",\"higher-education-and-research\",\"higher-education-and-research\",\"higher-education-and-research\",\"higher-education-and-research\",\"higher-education-and-research\",\"higher-education-and-research\",\"higher-education-and-research\",\"higher-education-and-research\",\"higher-education-and-research\",\"higher-education-and-research\",\"higher-education-and-research\",\"higher-education-and-research\",\"aeco\",\"aeco\",\"aeco\",\"aeco\",\"aeco\",\"aeco\",\"aeco\",\"aeco\",\"aeco\",\"aeco\",\"aeco\",\"aeco\",\"aeco\",\"aeco\",\"aeco\",\"aeco\",\"aeco\",\"aeco\",\"aeco\",\"aeco\",\"aeco\",\"gpu-accelerated-libraries\",\"gpu-accelerated-libraries\",\"gpu-accelerated-libraries\",\"gpu-accelerated-libraries\",\"gpu-accelerated-libraries\",\"gpu-accelerated-libraries\",\"gpu-accelerated-libraries\",\"gpu-accelerated-libraries\",\"gpu-accelerated-libraries\",\"gpu-accelerated-libraries\",\"gpu-accelerated-libraries\",\"maxine\",\"maxine\",\"maxine\",\"maxine\",\"maxine\",\"maxine\",\"maxine\",\"maxine\",\"maxine\",\"maxine\",\"maxine\",\"hpc\",\"hpc\",\"hpc\",\"hpc\",\"hpc\",\"hpc\",\"hpc\",\"hpc\",\"hpc\",\"hpc\",\"hpc\",\"hpc\",\"overview\",\"tools-overview\",\"tools-overview\",\"tools-overview\",\"tools-overview\",\"tools-overview\",\"tools-overview\",\"tools-overview\",\"tools-overview\",\"tools-overview\",\"tools-overview\",\"tools-overview\",\"tools-overview\",\"tools-overview\",\"consumer-internet\",\"consumer-internet\",\"consumer-internet\",\"consumer-internet\",\"consumer-internet\",\"consumer-internet\",\"consumer-internet\",\"consumer-internet\",\"consumer-internet\",\"consumer-internet\",\"consumer-internet\",\"consumer-internet\",\"consumer-internet\",\"consumer-internet\",\"consumer-internet\",\"rt-denoisers\",\"rt-denoisers\",\"rt-denoisers\",\"rt-denoisers\",\"rt-denoisers\",\"rt-denoisers\",\"rt-denoisers\",\"rt-denoisers\",\"rt-denoisers\",\"rt-denoisers\",\"rt-denoisers\",\"rt-denoisers\",\"rt-denoisers\",\"rt-denoisers\",\"unity-engine\",\"unity-engine\",\"unity-engine\",\"unity-engine\",\"unity-engine\",\"unity-engine\",\"unity-engine\",\"unity-engine\",\"OSMO\",\"OSMO\",\"OSMO\",\"OSMO\",\"jupyter-notebooks\",\"jupyter-notebooks\",\"jupyter-notebooks\",\"jupyter-notebooks\",\"jupyter-notebooks\",\"jupyter-notebooks\",\"jupyter-notebooks\",\"jupyter-notebooks\",\"jupyter-notebooks\",\"hpc-x\",\"hpc-x\",\"hpc-x\",\"hpc-x\",\"hpc-x\",\"hpc-x\",\"hpc-x\",\"hpc-x\",\"hpc-x\",\"image-processing\",\"image-processing\",\"image-processing\",\"image-processing\",\"image-processing\",\"morpheus-cybersecurity\",\"morpheus-cybersecurity\",\"morpheus-cybersecurity\",\"morpheus-cybersecurity\",\"morpheus-cybersecurity\",\"morpheus-cybersecurity\",\"morpheus-cybersecurity\",\"morpheus-cybersecurity\",\"morpheus-cybersecurity\",\"morpheus-cybersecurity\",\"morpheus-cybersecurity\",\"morpheus-cybersecurity\",\"rendering-technologies\",\"rendering-technologies\",\"rendering-technologies\",\"rendering-technologies\",\"rendering-technologies\",\"rendering-technologies\",\"rendering-technologies\",\"rendering-technologies\",\"rendering-technologies\",\"rendering-technologies\",\"rendering-technologies\",\"community\",\"community\",\"community\",\"community\",\"community\",\"community\",\"community\",\"community\",\"cusparse\",\"cusparse\",\"cusparse\",\"cusparse\",\"perceptor\",\"perceptor\",\"perceptor\",\"perceptor\",\"perceptor\",\"perceptor\",\"perceptor\",\"perceptor\",\"perceptor\",\"perceptor\",\"perceptor\",\"jetson-modules\",\"jetson-modules\",\"jetson-modules\",\"jetson-modules\",\"jetson-modules\",\"jetson-modules\",\"jetson-modules\",\"jetson-modules\",\"jetson-modules\",\"ace\",\"ace\",\"ace\",\"ace\",\"ace\",\"ace\",\"ace\",\"ace\",\"ai-models\",\"ai-models\",\"ai-models\",\"ai-models\",\"ai-models\",\"ai-models\",\"ai-models\",\"ai-models\",\"ai-models\",\"ai-models\",\"ai-models\",\"ai-models\",\"ai-models\",\"ai-models\",\"ai-models\",\"ai-models\",\"ai-models\",\"ai-models\",\"ai-models\",\"ai-models\",\"ai-models\",\"cuda-toolkit\",\"cuda-toolkit\",\"cuda-toolkit\",\"cuda-toolkit\",\"cuda-toolkit\",\"cuda-toolkit\",\"cuda-toolkit\",\"cuda-toolkit\",\"cuda-toolkit\",\"nvidia-index\",\"nvidia-index\",\"nvidia-index\",\"nvidia-index\",\"nvidia-index\",\"omniverse\",\"omniverse\",\"omniverse\",\"omniverse\",\"omniverse\",\"omniverse\",\"omniverse\",\"omniverse\",\"omniverse\",\"micro-mesh\",\"micro-mesh\",\"micro-mesh\",\"micro-mesh\",\"micro-mesh\",\"micro-mesh\",\"micro-mesh\",\"micro-mesh\",\"rtxdi\",\"rtxdi\",\"rtxdi\",\"rtxdi\",\"rtxdi\",\"rtxdi\",\"rtxdi\",\"rtxdi\",\"rtxdi\",\"rtxdi\",\"rtxdi\",\"arm\",\"arm\",\"arm\",\"arm\",\"arm\",\"arm\",\"arm\",\"arm\",\"arm\",\"arm\",\"arm\",\"path-tracing\",\"path-tracing\",\"path-tracing\",\"path-tracing\",\"path-tracing\",\"drive-sim\",\"clara-guardian\",\"clara-guardian\",\"clara-guardian\",\"clara-guardian\",\"clara-guardian\",\"clara-guardian\",\"clara-guardian\",\"clara-guardian\",\"clara-guardian\",\"clara-guardian\",\"clara-guardian\",\"game-development\",\"game-development\",\"game-development\",\"game-development\",\"game-development\",\"game-development\",\"game-development\",\"game-development\",\"game-development\",\"manipulator\",\"manipulator\",\"manipulator\",\"manipulator\",\"manipulator\",\"manipulator\",\"manipulator\",\"manipulator\",\"manipulator\",\"manipulator\",\"manipulator\",\"public-sector\",\"public-sector\",\"public-sector\",\"public-sector\",\"public-sector\",\"public-sector\",\"public-sector\",\"public-sector\",\"public-sector\",\"public-sector\",\"public-sector\",\"public-sector\",\"public-sector\",\"public-sector\",\"public-sector\",\"public-sector\",\"public-sector\",\"public-sector\",\"public-sector\",\"deepstream-sdk\",\"deepstream-sdk\",\"deepstream-sdk\",\"deepstream-sdk\",\"deepstream-sdk\",\"deepstream-sdk\",\"deepstream-sdk\",\"deepstream-sdk\",\"deepstream-sdk\",\"deepstream-sdk\",\"deepstream-sdk\",\"deepstream-sdk\",\"deepstream-sdk\",\"deepstream-sdk\",\"deepstream-sdk\",\"deepstream-sdk\",\"deepstream-sdk\",\"deepstream-sdk\",\"deepstream-sdk\",\"deepstream-sdk\",\"deepstream-sdk\",\"graphics-research-tools\",\"graphics-research-tools\",\"graphics-research-tools\",\"dlss\",\"dlss\",\"dlss\",\"dlss\",\"dlss\",\"dlss\",\"dlss\",\"dlss\",\"drive\",\"drive\",\"drive\",\"drive\",\"kickstart\",\"kickstart\",\"kickstart\",\"kickstart\",\"kickstart\",\"doca\",\"doca\",\"doca\",\"doca\",\"doca\",\"doca\",\"doca\",\"doca\",\"doca\",\"\",\"\",\"\",\"\",\"hyperion#section1\",\"hyperion#section1\",\"hyperion#section1\",\"hyperion#section1\",\"hyperion#section1\",\"hyperion#section1\",\"hyperion#section1\",\"cuquantum-sdk\",\"cuquantum-sdk\",\"cuquantum-sdk\",\"cuquantum-sdk\",\"cuquantum-sdk\",\"cuquantum-sdk\",\"cuquantum-sdk\",\"cuquantum-sdk\",\"cuquantum-sdk\",\"cuquantum-sdk\",\"cuquantum-sdk\",\"cuquantum-sdk\",\"cuquantum-sdk\",\"cuquantum-sdk\",\"cuquantum-sdk\",\"cuquantum-sdk\",\"cuquantum-sdk\",\"aerial\",\"aerial\",\"aerial\",\"aerial\",\"aerial\",\"aerial\",\"aerial\",\"aerial\",\"aerial\",\"aerial\",\"aerial\",\"aerial\",\"aerial\",\"aerial\",\"aerial\",\"nvidia-triton-inference-server\",\"nvidia-triton-inference-server\",\"nvidia-triton-inference-server\",\"nvidia-triton-inference-server\",\"nvidia-triton-inference-server\",\"nvidia-triton-inference-server\",\"nvidia-triton-inference-server\",\"driveworks\",\"driveworks\",\"driveworks\",\"driveworks\",\"driveworks\",\"driveworks\",\"driveworks\",\"driveworks\",\"driveworks\",\"driveworks\",\"financial-services\",\"financial-services\",\"financial-services\",\"financial-services\",\"financial-services\",\"financial-services\",\"financial-services\",\"financial-services\",\"financial-services\",\"financial-services\",\"nvidia-cloudxr-sdk\",\"nvidia-cloudxr-sdk\",\"nvidia-cloudxr-sdk\",\"nvidia-cloudxr-sdk\",\"nvidia-cloudxr-sdk\",\"nvidia-cloudxr-sdk\",\"nvidia-cloudxr-sdk\",\"nvidia-cloudxr-sdk\",\"nvidia-nemo\",\"nvidia-nemo\",\"nvidia-nemo\",\"nvidia-nemo\",\"nvidia-nemo\",\"nvidia-nemo\",\"nvidia-nemo\",\"nvidia-nemo\",\"nvidia-nemo\",\"nvidia-nemo\",\"nvidia-nemo\",\"nvidia-nemo\",\"nvidia-nemo\",\"nvidia-nemo\",\"nvidia-nemo\",\"streamline\",\"streamline\",\"streamline\",\"streamline\",\"streamline\",\"streamline\",\"streamline\",\"tensorrt\",\"tensorrt\",\"tensorrt\",\"tensorrt\",\"tensorrt\",\"tensorrt\",\"tensorrt\",\"tensorrt\",\"tensorrt\",\"tensorrt\",\"tensorrt\",\"tensorrt\",\"raytracing\",\"raytracing\",\"raytracing\",\"raytracing\",\"raytracing\",\"clara-holoscan-sdk\",\"clara-holoscan-sdk\",\"clara-holoscan-sdk\",\"clara-holoscan-sdk\",\"clara-holoscan-sdk\",\"clara-holoscan-sdk\",\"clara-holoscan-sdk\",\"clara-holoscan-sdk\",\"clara-holoscan-sdk\",\"clara-holoscan-sdk\",\"clara-holoscan-sdk\",\"clara-holoscan-sdk\",\"clara-holoscan-sdk\",\"clara-holoscan-sdk\",\"clara-holoscan-sdk\",\"clara-holoscan-sdk\",\"clara-holoscan-sdk\",\"cublas\",\"cublas\",\"cublas\",\"cublas\",\"cublas\",\"cublas\",\"rapids\",\"rapids\",\"rapids\",\"rapids\",\"rapids\",\"rapids\",\"rapids\",\"rapids\",\"rapids\",\"rapids\",\"rapids\",\"dali\",\"dali\",\"dali\",\"dali\",\"dali\",\"dali\",\"dali\",\"dali\",\"sionna\",\"sionna\",\"sionna\",\"sionna\",\"sionna\",\"magnum-io\",\"magnum-io\",\"magnum-io\",\"magnum-io\",\"magnum-io\",\"magnum-io\",\"magnum-io\",\"magnum-io\",\"magnum-io\",\"culitho\",\"culitho\",\"culitho\",\"culitho\",\"culitho\",\"culitho\",\"culitho\",\"culitho\",\"culitho\",\"DeveloperHome\",\"DeveloperHome\",\"DeveloperHome\",\"DeveloperHome\",\"DeveloperHome\",\"telecommunications\",\"telecommunications\",\"telecommunications\",\"telecommunications\",\"telecommunications\",\"telecommunications\",\"telecommunications\",\"telecommunications\",\"cudnn\",\"cudnn\",\"cudnn\",\"cudnn\",\"cudnn\",\"cudnn\",\"cudnn\",\"cudnn\",\"cudnn\",\"ai-hpc-containers\",\"ai-hpc-containers\",\"ai-hpc-containers\",\"ai-hpc-containers\",\"ai-hpc-containers\",\"ai-hpc-containers\",\"ai-hpc-containers\",\"ai-hpc-containers\",\"ai-hpc-containers\",\"ai-hpc-containers\",\"ai-hpc-containers\",\"reflex\",\"reflex\",\"reflex\",\"reflex\",\"reflex\",\"reflex\",\"reflex\",\"generative-ai\",\"generative-ai\",\"generative-ai\",\"generative-ai\",\"generative-ai\",\"generative-ai\",\"generative-ai\",\"generative-ai\",\"generative-ai\",\"generative-ai\",\"generative-ai\",\"generative-ai\",\"generative-ai\",\"generative-ai\",\"generative-ai\",\"metropolis-for-factories\",\"metropolis-for-factories\",\"metropolis-for-factories\",\"metropolis-for-factories\",\"embedded-computing\",\"display-and-output-solutions\",\"display-and-output-solutions\",\"display-and-output-solutions\",\"display-and-output-solutions\",\"display-and-output-solutions\",\"display-and-output-solutions\",\"display-and-output-solutions\",\"display-and-output-solutions\",\"computer-vision\",\"computer-vision\",\"computer-vision\",\"computer-vision\",\"computer-vision\",\"computer-vision\",\"computer-vision\",\"computer-vision\",\"computer-vision\",\"computer-vision\",\"computer-vision\",\"computer-vision\",\"computer-vision\",\"computer-vision\",\"nccl\",\"nccl\",\"nccl\",\"nccl\",\"nccl\",\"\",\"\",\"\",\"\",\"\",\"\",\"developer-program\",\"developer-program\",\"developer-program\",\"developer-program\",\"developer-program\",\"rtxmu\",\"rtxmu\",\"rtxmu\",\"rtxmu\",\"rtxmu\",\"rtxmu\",\"isaac\",\"isaac\",\"isaac\",\"isaac\",\"isaac\",\"isaac\",\"isaac\",\"isaac-sim\",\"isaac-sim\",\"isaac-sim\",\"isaac-sim\",\"isaac-sim\",\"isaac-sim\",\"isaac-sim\",\"isaac-sim\",\"isaac-sim\",\"isaac-sim\",\"isaac-sim\",\"isaac-sim\",\"data-science\",\"data-science\",\"data-science\",\"data-science\",\"data-science\",\"data-science\",\"openacc\",\"openacc\",\"openacc\",\"nvidia-merlin\",\"nvidia-merlin\",\"nvidia-merlin\",\"nvidia-merlin\",\"nvidia-merlin\",\"nvidia-merlin\",\"nvidia-merlin\",\"nvidia-merlin\",\"nvidia-merlin\",\"nvidia-merlin\",\"rivermax\",\"rivermax\",\"rivermax\",\"rivermax\",\"rivermax\",\"rivermax\",\"rivermax\",\"rivermax\",\"rivermax\",\"rivermax\",\"rivermax\",\"rivermax\",\"rivermax\",\"rivermax\",\"rivermax\",\"rivermax\",\"rivermax\",\"rivermax\",\"rivermax\",\"rivermax\",\"\",\"\",\"\",\"\",\"\",\"\",\"\",\"\",\"\",\"\",\"\",\"\",\"\",\"\",\"\",\"\",\"\",\"\",\"\",\"\",\"\",\"\",\"\",\"\",\"\",\"\",\"\",\"\",\"\",\"\",\"\",\"\",\"\",\"\",\"\",\"\",\"\",\"\",\"hpc-sdk\",\"hpc-sdk\",\"hpc-sdk\",\"hpc-sdk\",\"hpc-sdk\",\"hpc-sdk\",\"hpc-sdk\",\"hpc-sdk\",\"hpc-sdk\",\"hpc-sdk\",\"hpc-sdk\",\"hpc-sdk\",\"hpc-sdk\",\"hpc-sdk\",\"hpc-sdk\",\"clara-genomics\",\"clara-genomics\",\"clara-genomics\",\"clara-genomics\",\"clara-genomics\",\"clara-genomics\",\"clara-genomics\",\"clara-genomics\",\"clara-genomics\",\"clara-genomics\",\"clara-genomics\",\"clara-genomics\",\"clara-genomics\",\"clara-genomics\",\"clara-genomics\",\"clara-genomics\",\"qoda\",\"qoda\",\"qoda\",\"qoda\",\"qoda\",\"qoda\",\"qoda\",\"Part 3_ Inside Atom Ai \\u2013 How Generation Processes Enrich AI Conversations - WWT\",\"Part 3_ Inside Atom Ai \\u2013 How Generation Processes Enrich AI Conversations - WWT\",\"Part 3_ Inside Atom Ai \\u2013 How Generation Processes Enrich AI Conversations - WWT\",\"Part 3_ Inside Atom Ai \\u2013 How Generation Processes Enrich AI Conversations - WWT\",\"Part 3_ Inside Atom Ai \\u2013 How Generation Processes Enrich AI Conversations - WWT\",\"Part 3_ Inside Atom Ai \\u2013 How Generation Processes Enrich AI Conversations - WWT\",\"Part 3_ Inside Atom Ai \\u2013 How Generation Processes Enrich AI Conversations - WWT\",\"Part 3_ Inside Atom Ai \\u2013 How Generation Processes Enrich AI Conversations - WWT\",\"Part 3_ Inside Atom Ai \\u2013 How Generation Processes Enrich AI Conversations - WWT\",\"Part 3_ Inside Atom Ai \\u2013 How Generation Processes Enrich AI Conversations - WWT\",\"Part 3_ Inside Atom Ai \\u2013 How Generation Processes Enrich AI Conversations - WWT\",\"Part 3_ Inside Atom Ai \\u2013 How Generation Processes Enrich AI Conversations - WWT\",\"Part 3_ Inside Atom Ai \\u2013 How Generation Processes Enrich AI Conversations - WWT\",\"Part 3_ Inside Atom Ai \\u2013 How Generation Processes Enrich AI Conversations - WWT\",\"Part 3_ Inside Atom Ai \\u2013 How Generation Processes Enrich AI Conversations - WWT\",\"Part 3_ Inside Atom Ai \\u2013 How Generation Processes Enrich AI Conversations - WWT\",\"Part 3_ Inside Atom Ai \\u2013 How Generation Processes Enrich AI Conversations - WWT\",\"Part 3_ Inside Atom Ai \\u2013 How Generation Processes Enrich AI Conversations - WWT\",\"Part 3_ Inside Atom Ai \\u2013 How Generation Processes Enrich AI Conversations - WWT\",\"Part 3_ Inside Atom Ai \\u2013 How Generation Processes Enrich AI Conversations - WWT\",\"Part 3_ Inside Atom Ai \\u2013 How Generation Processes Enrich AI Conversations - WWT\",\"Part 3_ Inside Atom Ai \\u2013 How Generation Processes Enrich AI Conversations - WWT\",\"Part 3_ Inside Atom Ai \\u2013 How Generation Processes Enrich AI Conversations - WWT\",\"Part 3_ Inside Atom Ai \\u2013 How Generation Processes Enrich AI Conversations - WWT\",\"Part 3_ Inside Atom Ai \\u2013 How Generation Processes Enrich AI Conversations - WWT\",\"Part 3_ Inside Atom Ai \\u2013 How Generation Processes Enrich AI Conversations - WWT\",\"Part 3_ Inside Atom Ai \\u2013 How Generation Processes Enrich AI Conversations - WWT\",\"Part 3_ Inside Atom Ai \\u2013 How Generation Processes Enrich AI Conversations - WWT\",\"Part 3_ Inside Atom Ai \\u2013 How Generation Processes Enrich AI Conversations - WWT\",\"Part 3_ Inside Atom Ai \\u2013 How Generation Processes Enrich AI Conversations - WWT\",\"Part 3_ Inside Atom Ai \\u2013 How Generation Processes Enrich AI Conversations - WWT\",\"Part 1_ Meet RFP Assistant \\u2014 the AI Improving Proposal Response Speed and Efficiency - WWT\",\"Part 1_ Meet RFP Assistant \\u2014 the AI Improving Proposal Response Speed and Efficiency - WWT\",\"Part 1_ Meet RFP Assistant \\u2014 the AI Improving Proposal Response Speed and Efficiency - WWT\",\"Part 1_ Meet RFP Assistant \\u2014 the AI Improving Proposal Response Speed and Efficiency - WWT\",\"Part 1_ Meet RFP Assistant \\u2014 the AI Improving Proposal Response Speed and Efficiency - WWT\",\"Part 1_ Meet RFP Assistant \\u2014 the AI Improving Proposal Response Speed and Efficiency - WWT\",\"Part 1_ Meet RFP Assistant \\u2014 the AI Improving Proposal Response Speed and Efficiency - WWT\",\"Part 1_ Meet RFP Assistant \\u2014 the AI Improving Proposal Response Speed and Efficiency - WWT\",\"Part 1_ Meet RFP Assistant \\u2014 the AI Improving Proposal Response Speed and Efficiency - WWT\",\"Part 1_ Meet RFP Assistant \\u2014 the AI Improving Proposal Response Speed and Efficiency - WWT\",\"Part 1_ Meet RFP Assistant \\u2014 the AI Improving Proposal Response Speed and Efficiency - WWT\",\"Part 1_ Meet RFP Assistant \\u2014 the AI Improving Proposal Response Speed and Efficiency - WWT\",\"Part 1_ Meet RFP Assistant \\u2014 the AI Improving Proposal Response Speed and Efficiency - WWT\",\"Part 1_ Meet RFP Assistant \\u2014 the AI Improving Proposal Response Speed and Efficiency - WWT\",\"Part 1_ Meet RFP Assistant \\u2014 the AI Improving Proposal Response Speed and Efficiency - WWT\",\"Part 1_ Meet RFP Assistant \\u2014 the AI Improving Proposal Response Speed and Efficiency - WWT\",\"Part 1_ Meet RFP Assistant \\u2014 the AI Improving Proposal Response Speed and Efficiency - WWT\",\"Part 1_ Meet RFP Assistant \\u2014 the AI Improving Proposal Response Speed and Efficiency - WWT\",\"Part 1_ Meet RFP Assistant \\u2014 the AI Improving Proposal Response Speed and Efficiency - WWT\",\"Part 1_ Meet RFP Assistant \\u2014 the AI Improving Proposal Response Speed and Efficiency - WWT\",\"Part 1_ Meet RFP Assistant \\u2014 the AI Improving Proposal Response Speed and Efficiency - WWT\",\"Part 1_ Meet RFP Assistant \\u2014 the AI Improving Proposal Response Speed and Efficiency - WWT\",\"Part 1_ Meet RFP Assistant \\u2014 the AI Improving Proposal Response Speed and Efficiency - WWT\",\"Part 1_ Meet RFP Assistant \\u2014 the AI Improving Proposal Response Speed and Efficiency - WWT\",\"Part 1_ Meet RFP Assistant \\u2014 the AI Improving Proposal Response Speed and Efficiency - WWT\",\"Part 1_ Meet RFP Assistant \\u2014 the AI Improving Proposal Response Speed and Efficiency - WWT\",\"Part 1_ Meet RFP Assistant \\u2014 the AI Improving Proposal Response Speed and Efficiency - WWT\",\"Part 1_ Meet RFP Assistant \\u2014 the AI Improving Proposal Response Speed and Efficiency - WWT\",\"Part 1_ Meet RFP Assistant \\u2014 the AI Improving Proposal Response Speed and Efficiency - WWT\",\"Part 1_ Meet RFP Assistant \\u2014 the AI Improving Proposal Response Speed and Efficiency - WWT\",\"Part 1_ Meet RFP Assistant \\u2014 the AI Improving Proposal Response Speed and Efficiency - WWT\",\"Part 1_ Meet RFP Assistant \\u2014 the AI Improving Proposal Response Speed and Efficiency - WWT\",\"Part 1_ Meet RFP Assistant \\u2014 the AI Improving Proposal Response Speed and Efficiency - WWT\",\"Part 1_ Meet RFP Assistant \\u2014 the AI Improving Proposal Response Speed and Efficiency - WWT\",\"Part 1_ Meet RFP Assistant \\u2014 the AI Improving Proposal Response Speed and Efficiency - WWT\",\"Part 1_ Meet RFP Assistant \\u2014 the AI Improving Proposal Response Speed and Efficiency - WWT\",\"Part 1_ Meet RFP Assistant \\u2014 the AI Improving Proposal Response Speed and Efficiency - WWT\",\"Part 1_ Meet RFP Assistant \\u2014 the AI Improving Proposal Response Speed and Efficiency - WWT\",\"Part 1_ Meet RFP Assistant \\u2014 the AI Improving Proposal Response Speed and Efficiency - WWT\",\"Part 1_ Meet RFP Assistant \\u2014 the AI Improving Proposal Response Speed and Efficiency - WWT\",\"Part 1_ Meet RFP Assistant \\u2014 the AI Improving Proposal Response Speed and Efficiency - WWT\",\"Part 1_ Meet RFP Assistant \\u2014 the AI Improving Proposal Response Speed and Efficiency - WWT\",\"Part 1_ Meet RFP Assistant \\u2014 the AI Improving Proposal Response Speed and Efficiency - WWT\",\"Part 1_ Meet RFP Assistant \\u2014 the AI Improving Proposal Response Speed and Efficiency - WWT\",\"Part 1_ Meet RFP Assistant \\u2014 the AI Improving Proposal Response Speed and Efficiency - WWT\",\"Part 1_ Meet RFP Assistant \\u2014 the AI Improving Proposal Response Speed and Efficiency - WWT\",\"Part 1_ Meet RFP Assistant \\u2014 the AI Improving Proposal Response Speed and Efficiency - WWT\",\"Part 1_ Meet RFP Assistant \\u2014 the AI Improving Proposal Response Speed and Efficiency - WWT\",\"Part 1_ Meet RFP Assistant \\u2014 the AI Improving Proposal Response Speed and Efficiency - WWT\",\"Part 1_ Meet Atom Ai \\u2013 the GPT Powering Innovation at WWT - WWT\",\"Part 1_ Meet Atom Ai \\u2013 the GPT Powering Innovation at WWT - WWT\",\"Part 1_ Meet Atom Ai \\u2013 the GPT Powering Innovation at WWT - WWT\",\"Part 1_ Meet Atom Ai \\u2013 the GPT Powering Innovation at WWT - WWT\",\"Part 1_ Meet Atom Ai \\u2013 the GPT Powering Innovation at WWT - WWT\",\"Part 1_ Meet Atom Ai \\u2013 the GPT Powering Innovation at WWT - WWT\",\"Part 1_ Meet Atom Ai \\u2013 the GPT Powering Innovation at WWT - WWT\",\"Part 1_ Meet Atom Ai \\u2013 the GPT Powering Innovation at WWT - WWT\",\"Part 1_ Meet Atom Ai \\u2013 the GPT Powering Innovation at WWT - WWT\",\"Part 1_ Meet Atom Ai \\u2013 the GPT Powering Innovation at WWT - WWT\",\"Part 1_ Meet Atom Ai \\u2013 the GPT Powering Innovation at WWT - WWT\",\"Part 1_ Meet Atom Ai \\u2013 the GPT Powering Innovation at WWT - WWT\",\"Part 1_ Meet Atom Ai \\u2013 the GPT Powering Innovation at WWT - WWT\",\"Part 1_ Meet Atom Ai \\u2013 the GPT Powering Innovation at WWT - WWT\",\"Part 1_ Meet Atom Ai \\u2013 the GPT Powering Innovation at WWT - WWT\",\"Part 1_ Meet Atom Ai \\u2013 the GPT Powering Innovation at WWT - WWT\",\"Part 1_ Meet Atom Ai \\u2013 the GPT Powering Innovation at WWT - WWT\",\"Part 1_ Meet Atom Ai \\u2013 the GPT Powering Innovation at WWT - WWT\",\"Part 1_ Meet Atom Ai \\u2013 the GPT Powering Innovation at WWT - WWT\",\"Part 2_ Inside Atom Ai \\u2013 How Retrieval Mechanisms Shape AI Responses - WWT\",\"Part 2_ Inside Atom Ai \\u2013 How Retrieval Mechanisms Shape AI Responses - WWT\",\"Part 2_ Inside Atom Ai \\u2013 How Retrieval Mechanisms Shape AI Responses - WWT\",\"Part 2_ Inside Atom Ai \\u2013 How Retrieval Mechanisms Shape AI Responses - WWT\",\"Part 2_ Inside Atom Ai \\u2013 How Retrieval Mechanisms Shape AI Responses - WWT\",\"Part 2_ Inside Atom Ai \\u2013 How Retrieval Mechanisms Shape AI Responses - WWT\",\"Part 2_ Inside Atom Ai \\u2013 How Retrieval Mechanisms Shape AI Responses - WWT\",\"Part 2_ Inside Atom Ai \\u2013 How Retrieval Mechanisms Shape AI Responses - WWT\",\"Part 2_ Inside Atom Ai \\u2013 How Retrieval Mechanisms Shape AI Responses - WWT\",\"Part 2_ Inside Atom Ai \\u2013 How Retrieval Mechanisms Shape AI Responses - WWT\",\"Part 2_ Inside Atom Ai \\u2013 How Retrieval Mechanisms Shape AI Responses - WWT\",\"Part 2_ Inside Atom Ai \\u2013 How Retrieval Mechanisms Shape AI Responses - WWT\",\"Part 2_ Inside Atom Ai \\u2013 How Retrieval Mechanisms Shape AI Responses - WWT\",\"Part 2_ Inside Atom Ai \\u2013 How Retrieval Mechanisms Shape AI Responses - WWT\",\"Part 2_ Inside Atom Ai \\u2013 How Retrieval Mechanisms Shape AI Responses - WWT\",\"Part 2_ Inside Atom Ai \\u2013 How Retrieval Mechanisms Shape AI Responses - WWT\",\"Part 2_ Inside Atom Ai \\u2013 How Retrieval Mechanisms Shape AI Responses - WWT\",\"Part 2_ Inside Atom Ai \\u2013 How Retrieval Mechanisms Shape AI Responses - WWT\",\"Part 2_ Inside Atom Ai \\u2013 How Retrieval Mechanisms Shape AI Responses - WWT\",\"Part 2_ Inside Atom Ai \\u2013 How Retrieval Mechanisms Shape AI Responses - WWT\",\"Part 2_ Inside Atom Ai \\u2013 How Retrieval Mechanisms Shape AI Responses - WWT\",\"Part 2_ Inside Atom Ai \\u2013 How Retrieval Mechanisms Shape AI Responses - WWT\",\"Part 2_ Inside Atom Ai \\u2013 How Retrieval Mechanisms Shape AI Responses - WWT\",\"Part 2_ Inside Atom Ai \\u2013 How Retrieval Mechanisms Shape AI Responses - WWT\",\"Part 2_ Inside Atom Ai \\u2013 How Retrieval Mechanisms Shape AI Responses - WWT\",\"Part 2_ Inside Atom Ai \\u2013 How Retrieval Mechanisms Shape AI Responses - WWT\",\"Part 2_ Inside Atom Ai \\u2013 How Retrieval Mechanisms Shape AI Responses - WWT\",\"Part 2_ Inside Atom Ai \\u2013 How Retrieval Mechanisms Shape AI Responses - WWT\",\"Part 2_ Inside Atom Ai \\u2013 How Retrieval Mechanisms Shape AI Responses - WWT\",\"Part 2_ Inside Atom Ai \\u2013 How Retrieval Mechanisms Shape AI Responses - WWT\",\"Part 2_ Inside Atom Ai \\u2013 How Retrieval Mechanisms Shape AI Responses - WWT\",\"Part 2_ Inside Atom Ai \\u2013 How Retrieval Mechanisms Shape AI Responses - WWT\",\"Part 2_ Inside Atom Ai \\u2013 How Retrieval Mechanisms Shape AI Responses - WWT\",\"Part 2_ Inside RFP Assistant \\u2014 Summarizer and Qualification Workflow - WWT\",\"Part 2_ Inside RFP Assistant \\u2014 Summarizer and Qualification Workflow - WWT\",\"Part 2_ Inside RFP Assistant \\u2014 Summarizer and Qualification Workflow - WWT\",\"Part 2_ Inside RFP Assistant \\u2014 Summarizer and Qualification Workflow - WWT\",\"Part 2_ Inside RFP Assistant \\u2014 Summarizer and Qualification Workflow - WWT\",\"Part 2_ Inside RFP Assistant \\u2014 Summarizer and Qualification Workflow - WWT\",\"Part 2_ Inside RFP Assistant \\u2014 Summarizer and Qualification Workflow - WWT\",\"Part 2_ Inside RFP Assistant \\u2014 Summarizer and Qualification Workflow - WWT\",\"Part 2_ Inside RFP Assistant \\u2014 Summarizer and Qualification Workflow - WWT\",\"Part 2_ Inside RFP Assistant \\u2014 Summarizer and Qualification Workflow - WWT\",\"Part 2_ Inside RFP Assistant \\u2014 Summarizer and Qualification Workflow - WWT\",\"Part 2_ Inside RFP Assistant \\u2014 Summarizer and Qualification Workflow - WWT\",\"Part 2_ Inside RFP Assistant \\u2014 Summarizer and Qualification Workflow - WWT\",\"Part 2_ Inside RFP Assistant \\u2014 Summarizer and Qualification Workflow - WWT\",\"Part 2_ Inside RFP Assistant \\u2014 Summarizer and Qualification Workflow - WWT\",\"Part 2_ Inside RFP Assistant \\u2014 Summarizer and Qualification Workflow - WWT\",\"Part 2_ Inside RFP Assistant \\u2014 Summarizer and Qualification Workflow - WWT\",\"Part 2_ Inside RFP Assistant \\u2014 Summarizer and Qualification Workflow - WWT\",\"Part 2_ Inside RFP Assistant \\u2014 Summarizer and Qualification Workflow - WWT\",\"Part 2_ Inside RFP Assistant \\u2014 Summarizer and Qualification Workflow - WWT\",\"Part 2_ Inside RFP Assistant \\u2014 Summarizer and Qualification Workflow - WWT\",\"Part 2_ Inside RFP Assistant \\u2014 Summarizer and Qualification Workflow - WWT\",\"Part 2_ Inside RFP Assistant \\u2014 Summarizer and Qualification Workflow - WWT\",\"Part 2_ Inside RFP Assistant \\u2014 Summarizer and Qualification Workflow - WWT\",\"Part 2_ Inside RFP Assistant \\u2014 Summarizer and Qualification Workflow - WWT\",\"Part 2_ Inside RFP Assistant \\u2014 Summarizer and Qualification Workflow - WWT\",\"Part 2_ Inside RFP Assistant \\u2014 Summarizer and Qualification Workflow - WWT\",\"Part 2_ Inside RFP Assistant \\u2014 Summarizer and Qualification Workflow - WWT\",\"Part 2_ Inside RFP Assistant \\u2014 Summarizer and Qualification Workflow - WWT\",\"Part 2_ Inside RFP Assistant \\u2014 Summarizer and Qualification Workflow - WWT\",\"Part 3_ Inside RFP Assistant \\u2014 Generating a Full RFP Response - WWT\",\"Part 3_ Inside RFP Assistant \\u2014 Generating a Full RFP Response - WWT\",\"Part 3_ Inside RFP Assistant \\u2014 Generating a Full RFP Response - WWT\",\"Part 3_ Inside RFP Assistant \\u2014 Generating a Full RFP Response - WWT\",\"Part 3_ Inside RFP Assistant \\u2014 Generating a Full RFP Response - WWT\",\"Part 3_ Inside RFP Assistant \\u2014 Generating a Full RFP Response - WWT\",\"Part 3_ Inside RFP Assistant \\u2014 Generating a Full RFP Response - WWT\",\"Part 3_ Inside RFP Assistant \\u2014 Generating a Full RFP Response - WWT\",\"Part 3_ Inside RFP Assistant \\u2014 Generating a Full RFP Response - WWT\",\"Part 3_ Inside RFP Assistant \\u2014 Generating a Full RFP Response - WWT\",\"Part 3_ Inside RFP Assistant \\u2014 Generating a Full RFP Response - WWT\",\"Part 3_ Inside RFP Assistant \\u2014 Generating a Full RFP Response - WWT\",\"Part 3_ Inside RFP Assistant \\u2014 Generating a Full RFP Response - WWT\",\"Part 3_ Inside RFP Assistant \\u2014 Generating a Full RFP Response - WWT\",\"Part 3_ Inside RFP Assistant \\u2014 Generating a Full RFP Response - WWT\",\"Part 3_ Inside RFP Assistant \\u2014 Generating a Full RFP Response - WWT\",\"Part 3_ Inside RFP Assistant \\u2014 Generating a Full RFP Response - WWT\",\"Part 3_ Inside RFP Assistant \\u2014 Generating a Full RFP Response - WWT\",\"Part 3_ Inside RFP Assistant \\u2014 Generating a Full RFP Response - WWT\",\"Part 3_ Inside RFP Assistant \\u2014 Generating a Full RFP Response - WWT\",\"Part 3_ Inside RFP Assistant \\u2014 Generating a Full RFP Response - WWT\",\"Part 3_ Inside RFP Assistant \\u2014 Generating a Full RFP Response - WWT\",\"How Atom Ai and RFP Assistant have Evolved and What it Means for the Future - WWT\",\"How Atom Ai and RFP Assistant have Evolved and What it Means for the Future - WWT\",\"How Atom Ai and RFP Assistant have Evolved and What it Means for the Future - WWT\",\"How Atom Ai and RFP Assistant have Evolved and What it Means for the Future - WWT\",\"How Atom Ai and RFP Assistant have Evolved and What it Means for the Future - WWT\",\"How Atom Ai and RFP Assistant have Evolved and What it Means for the Future - WWT\",\"How Atom Ai and RFP Assistant have Evolved and What it Means for the Future - WWT\",\"How Atom Ai and RFP Assistant have Evolved and What it Means for the Future - WWT\",\"How Atom Ai and RFP Assistant have Evolved and What it Means for the Future - WWT\",\"How Atom Ai and RFP Assistant have Evolved and What it Means for the Future - WWT\",\"How Atom Ai and RFP Assistant have Evolved and What it Means for the Future - WWT\",\"How Atom Ai and RFP Assistant have Evolved and What it Means for the Future - WWT\",\"How Atom Ai and RFP Assistant have Evolved and What it Means for the Future - WWT\",\"How Atom Ai and RFP Assistant have Evolved and What it Means for the Future - WWT\",\"How Atom Ai and RFP Assistant have Evolved and What it Means for the Future - WWT\",\"How Atom Ai and RFP Assistant have Evolved and What it Means for the Future - WWT\",\"How Atom Ai and RFP Assistant have Evolved and What it Means for the Future - WWT\",\"Part 4_ Inside Atom Ai \\u2013 Orchestrating and Deploying RAG at Scale for Robust AI Performance - WWT\",\"Part 4_ Inside Atom Ai \\u2013 Orchestrating and Deploying RAG at Scale for Robust AI Performance - WWT\",\"Part 4_ Inside Atom Ai \\u2013 Orchestrating and Deploying RAG at Scale for Robust AI Performance - WWT\",\"Part 4_ Inside Atom Ai \\u2013 Orchestrating and Deploying RAG at Scale for Robust AI Performance - WWT\",\"Part 4_ Inside Atom Ai \\u2013 Orchestrating and Deploying RAG at Scale for Robust AI Performance - WWT\",\"Part 4_ Inside Atom Ai \\u2013 Orchestrating and Deploying RAG at Scale for Robust AI Performance - WWT\",\"Part 4_ Inside Atom Ai \\u2013 Orchestrating and Deploying RAG at Scale for Robust AI Performance - WWT\",\"Part 4_ Inside Atom Ai \\u2013 Orchestrating and Deploying RAG at Scale for Robust AI Performance - WWT\",\"Part 4_ Inside Atom Ai \\u2013 Orchestrating and Deploying RAG at Scale for Robust AI Performance - WWT\",\"Part 4_ Inside Atom Ai \\u2013 Orchestrating and Deploying RAG at Scale for Robust AI Performance - WWT\",\"Part 4_ Inside Atom Ai \\u2013 Orchestrating and Deploying RAG at Scale for Robust AI Performance - WWT\",\"Part 4_ Inside Atom Ai \\u2013 Orchestrating and Deploying RAG at Scale for Robust AI Performance - WWT\",\"Part 4_ Inside Atom Ai \\u2013 Orchestrating and Deploying RAG at Scale for Robust AI Performance - WWT\",\"Part 4_ Inside Atom Ai \\u2013 Orchestrating and Deploying RAG at Scale for Robust AI Performance - WWT\",\"Part 4_ Inside Atom Ai \\u2013 Orchestrating and Deploying RAG at Scale for Robust AI Performance - WWT\",\"Part 4_ Inside Atom Ai \\u2013 Orchestrating and Deploying RAG at Scale for Robust AI Performance - WWT\",\"Part 4_ Inside Atom Ai \\u2013 Orchestrating and Deploying RAG at Scale for Robust AI Performance - WWT\",\"Part 4_ Inside Atom Ai \\u2013 Orchestrating and Deploying RAG at Scale for Robust AI Performance - WWT\",\"Part 4_ Inside Atom Ai \\u2013 Orchestrating and Deploying RAG at Scale for Robust AI Performance - WWT\",\"Part 4_ Inside Atom Ai \\u2013 Orchestrating and Deploying RAG at Scale for Robust AI Performance - WWT\",\"Part 4_ Inside Atom Ai \\u2013 Orchestrating and Deploying RAG at Scale for Robust AI Performance - WWT\",\"Part 4_ Inside Atom Ai \\u2013 Orchestrating and Deploying RAG at Scale for Robust AI Performance - WWT\",\"Part 4_ Inside Atom Ai \\u2013 Orchestrating and Deploying RAG at Scale for Robust AI Performance - WWT\",\"Part 4_ Inside Atom Ai \\u2013 Orchestrating and Deploying RAG at Scale for Robust AI Performance - WWT\",\"Part 4_ Inside Atom Ai \\u2013 Orchestrating and Deploying RAG at Scale for Robust AI Performance - WWT\",\"Part 4_ Inside Atom Ai \\u2013 Orchestrating and Deploying RAG at Scale for Robust AI Performance - WWT\",\"Part 4_ Inside Atom Ai \\u2013 Orchestrating and Deploying RAG at Scale for Robust AI Performance - WWT\",\"Part 4_ Inside Atom Ai \\u2013 Orchestrating and Deploying RAG at Scale for Robust AI Performance - WWT\",\"Part 4_ Inside Atom Ai \\u2013 Orchestrating and Deploying RAG at Scale for Robust AI Performance - WWT\",\"Part 4_ Inside Atom Ai \\u2013 Orchestrating and Deploying RAG at Scale for Robust AI Performance - WWT\",\"Part 4_ Inside Atom Ai \\u2013 Orchestrating and Deploying RAG at Scale for Robust AI Performance - WWT\",\"Part 4_ Inside Atom Ai \\u2013 Orchestrating and Deploying RAG at Scale for Robust AI Performance - WWT\",\"Part 4_ Inside Atom Ai \\u2013 Orchestrating and Deploying RAG at Scale for Robust AI Performance - WWT\",\"Part 4_ Inside Atom Ai \\u2013 Orchestrating and Deploying RAG at Scale for Robust AI Performance - WWT\",\"Requirement+Writing+AI-RFI+v4+Final-07192023\",\"Requirement+Writing+AI-RFI+v4+Final-07192023\",\"Requirement+Writing+AI-RFI+v4+Final-07192023\",\"Requirement+Writing+AI-RFI+v4+Final-07192023\",\"Requirement+Writing+AI-RFI+v4+Final-07192023\",\"Requirement+Writing+AI-RFI+v4+Final-07192023\",\"Requirement+Writing+AI-RFI+v4+Final-07192023\",\"Requirement+Writing+AI-RFI+v4+Final-07192023\",\"Requirement+Writing+AI-RFI+v4+Final-07192023\",\"Requirement+Writing+AI-RFI+v4+Final-07192023\",\"Requirement+Writing+AI-RFI+v4+Final-07192023\",\"Requirement+Writing+AI-RFI+v4+Final-07192023\",\"Requirement+Writing+AI-RFI+v4+Final-07192023\",\"Requirement+Writing+AI-RFI+v4+Final-07192023\",\"Requirement+Writing+AI-RFI+v4+Final-07192023\",\"Requirement+Writing+AI-RFI+v4+Final-07192023\",\"Requirement+Writing+AI-RFI+v4+Final-07192023\",\"Requirement+Writing+AI-RFI+v4+Final-07192023\",\"Requirement+Writing+AI-RFI+v4+Final-07192023\",\"Requirement+Writing+AI-RFI+v4+Final-07192023\",\"Requirement+Writing+AI-RFI+v4+Final-07192023\",\"Requirement+Writing+AI-RFI+v4+Final-07192023\",\"Requirement+Writing+AI-RFI+v4+Final-07192023\"]],[\"label\",[\"NVIDIA\",\"NVIDIA\",\"NVIDIA\",\"NVIDIA\",\"NVIDIA\",\"NVIDIA\",\"NVIDIA\",\"NVIDIA\",\"NVIDIA\",\"NVIDIA\",\"NVIDIA\",\"NVIDIA\",\"NVIDIA\",\"NVIDIA\",\"NVIDIA\",\"NVIDIA\",\"NVIDIA\",\"NVIDIA\",\"NVIDIA\",\"NVIDIA\",\"NVIDIA\",\"NVIDIA\",\"NVIDIA\",\"NVIDIA\",\"NVIDIA\",\"NVIDIA\",\"NVIDIA\",\"NVIDIA\",\"NVIDIA\",\"NVIDIA\",\"NVIDIA\",\"NVIDIA\",\"NVIDIA\",\"NVIDIA\",\"NVIDIA\",\"NVIDIA\",\"NVIDIA\",\"NVIDIA\",\"NVIDIA\",\"NVIDIA\",\"NVIDIA\",\"NVIDIA\",\"NVIDIA\",\"NVIDIA\",\"NVIDIA\",\"NVIDIA\",\"NVIDIA\",\"NVIDIA\",\"NVIDIA\",\"NVIDIA\",\"NVIDIA\",\"NVIDIA\",\"NVIDIA\",\"NVIDIA\",\"NVIDIA\",\"NVIDIA\",\"NVIDIA\",\"NVIDIA\",\"NVIDIA\",\"NVIDIA\",\"NVIDIA\",\"NVIDIA\",\"NVIDIA\",\"NVIDIA\",\"NVIDIA\",\"NVIDIA\",\"NVIDIA\",\"NVIDIA\",\"NVIDIA\",\"NVIDIA\",\"NVIDIA\",\"NVIDIA\",\"NVIDIA\",\"NVIDIA\",\"NVIDIA\",\"NVIDIA\",\"NVIDIA\",\"NVIDIA\",\"NVIDIA\",\"NVIDIA\",\"NVIDIA\",\"NVIDIA\",\"NVIDIA\",\"NVIDIA\",\"NVIDIA\",\"NVIDIA\",\"NVIDIA\",\"NVIDIA\",\"NVIDIA\",\"NVIDIA\",\"NVIDIA\",\"NVIDIA\",\"NVIDIA\",\"NVIDIA\",\"NVIDIA\",\"NVIDIA\",\"NVIDIA\",\"NVIDIA\",\"NVIDIA\",\"NVIDIA\",\"NVIDIA\",\"NVIDIA\",\"NVIDIA\",\"NVIDIA\",\"NVIDIA\",\"NVIDIA\",\"NVIDIA\",\"NVIDIA\",\"NVIDIA\",\"NVIDIA\",\"NVIDIA\",\"NVIDIA\",\"NVIDIA\",\"NVIDIA\",\"NVIDIA\",\"NVIDIA\",\"NVIDIA\",\"NVIDIA\",\"NVIDIA\",\"NVIDIA\",\"NVIDIA\",\"NVIDIA\",\"NVIDIA\",\"NVIDIA\",\"NVIDIA\",\"NVIDIA\",\"NVIDIA\",\"NVIDIA\",\"NVIDIA\",\"NVIDIA\",\"NVIDIA\",\"NVIDIA\",\"NVIDIA\",\"NVIDIA\",\"NVIDIA\",\"NVIDIA\",\"NVIDIA\",\"NVIDIA\",\"NVIDIA\",\"NVIDIA\",\"NVIDIA\",\"NVIDIA\",\"NVIDIA\",\"NVIDIA\",\"NVIDIA\",\"NVIDIA\",\"NVIDIA\",\"NVIDIA\",\"NVIDIA\",\"NVIDIA\",\"NVIDIA\",\"NVIDIA\",\"NVIDIA\",\"NVIDIA\",\"NVIDIA\",\"NVIDIA\",\"NVIDIA\",\"NVIDIA\",\"NVIDIA\",\"NVIDIA\",\"NVIDIA\",\"NVIDIA\",\"NVIDIA\",\"NVIDIA\",\"NVIDIA\",\"NVIDIA\",\"NVIDIA\",\"NVIDIA\",\"NVIDIA\",\"NVIDIA\",\"NVIDIA\",\"NVIDIA\",\"NVIDIA\",\"NVIDIA\",\"NVIDIA\",\"NVIDIA\",\"NVIDIA\",\"NVIDIA\",\"NVIDIA\",\"NVIDIA\",\"NVIDIA\",\"NVIDIA\",\"NVIDIA\",\"NVIDIA\",\"NVIDIA\",\"NVIDIA\",\"NVIDIA\",\"NVIDIA\",\"NVIDIA\",\"NVIDIA\",\"NVIDIA\",\"NVIDIA\",\"NVIDIA\",\"NVIDIA\",\"NVIDIA\",\"NVIDIA\",\"NVIDIA\",\"NVIDIA\",\"NVIDIA\",\"NVIDIA\",\"NVIDIA\",\"NVIDIA\",\"NVIDIA\",\"NVIDIA\",\"NVIDIA\",\"NVIDIA\",\"NVIDIA\",\"NVIDIA\",\"NVIDIA\",\"NVIDIA\",\"NVIDIA\",\"NVIDIA\",\"NVIDIA\",\"NVIDIA\",\"NVIDIA\",\"NVIDIA\",\"NVIDIA\",\"NVIDIA\",\"NVIDIA\",\"NVIDIA\",\"NVIDIA\",\"NVIDIA\",\"NVIDIA\",\"NVIDIA\",\"NVIDIA\",\"NVIDIA\",\"NVIDIA\",\"NVIDIA\",\"NVIDIA\",\"NVIDIA\",\"NVIDIA\",\"NVIDIA\",\"NVIDIA\",\"NVIDIA\",\"NVIDIA\",\"NVIDIA\",\"NVIDIA\",\"NVIDIA\",\"NVIDIA\",\"NVIDIA\",\"NVIDIA\",\"NVIDIA\",\"NVIDIA\",\"NVIDIA\",\"NVIDIA\",\"NVIDIA\",\"NVIDIA\",\"NVIDIA\",\"NVIDIA\",\"NVIDIA\",\"NVIDIA\",\"NVIDIA\",\"NVIDIA\",\"NVIDIA\",\"NVIDIA\",\"NVIDIA\",\"NVIDIA\",\"NVIDIA\",\"NVIDIA\",\"NVIDIA\",\"NVIDIA\",\"NVIDIA\",\"NVIDIA\",\"NVIDIA\",\"NVIDIA\",\"NVIDIA\",\"NVIDIA\",\"NVIDIA\",\"NVIDIA\",\"NVIDIA\",\"NVIDIA\",\"NVIDIA\",\"NVIDIA\",\"NVIDIA\",\"NVIDIA\",\"NVIDIA\",\"NVIDIA\",\"NVIDIA\",\"NVIDIA\",\"NVIDIA\",\"NVIDIA\",\"NVIDIA\",\"NVIDIA\",\"NVIDIA\",\"NVIDIA\",\"NVIDIA\",\"NVIDIA\",\"NVIDIA\",\"NVIDIA\",\"NVIDIA\",\"NVIDIA\",\"NVIDIA\",\"NVIDIA\",\"NVIDIA\",\"NVIDIA\",\"NVIDIA\",\"NVIDIA\",\"NVIDIA\",\"NVIDIA\",\"NVIDIA\",\"NVIDIA\",\"NVIDIA\",\"NVIDIA\",\"NVIDIA\",\"NVIDIA\",\"NVIDIA\",\"NVIDIA\",\"NVIDIA\",\"NVIDIA\",\"NVIDIA\",\"NVIDIA\",\"NVIDIA\",\"NVIDIA\",\"NVIDIA\",\"NVIDIA\",\"NVIDIA\",\"NVIDIA\",\"NVIDIA\",\"NVIDIA\",\"NVIDIA\",\"NVIDIA\",\"NVIDIA\",\"NVIDIA\",\"NVIDIA\",\"NVIDIA\",\"NVIDIA\",\"NVIDIA\",\"NVIDIA\",\"NVIDIA\",\"NVIDIA\",\"NVIDIA\",\"NVIDIA\",\"NVIDIA\",\"NVIDIA\",\"NVIDIA\",\"NVIDIA\",\"NVIDIA\",\"NVIDIA\",\"NVIDIA\",\"NVIDIA\",\"NVIDIA\",\"NVIDIA\",\"NVIDIA\",\"NVIDIA\",\"NVIDIA\",\"NVIDIA\",\"NVIDIA\",\"NVIDIA\",\"NVIDIA\",\"NVIDIA\",\"NVIDIA\",\"NVIDIA\",\"NVIDIA\",\"NVIDIA\",\"NVIDIA\",\"NVIDIA\",\"NVIDIA\",\"NVIDIA\",\"NVIDIA\",\"NVIDIA\",\"NVIDIA\",\"NVIDIA\",\"NVIDIA\",\"NVIDIA\",\"NVIDIA\",\"NVIDIA\",\"NVIDIA\",\"NVIDIA\",\"NVIDIA\",\"NVIDIA\",\"NVIDIA\",\"NVIDIA\",\"NVIDIA\",\"NVIDIA\",\"NVIDIA\",\"NVIDIA\",\"NVIDIA\",\"NVIDIA\",\"NVIDIA\",\"NVIDIA\",\"NVIDIA\",\"NVIDIA\",\"NVIDIA\",\"NVIDIA\",\"NVIDIA\",\"NVIDIA\",\"NVIDIA\",\"NVIDIA\",\"NVIDIA\",\"NVIDIA\",\"NVIDIA\",\"NVIDIA\",\"NVIDIA\",\"NVIDIA\",\"NVIDIA\",\"NVIDIA\",\"NVIDIA\",\"NVIDIA\",\"NVIDIA\",\"NVIDIA\",\"NVIDIA\",\"NVIDIA\",\"NVIDIA\",\"NVIDIA\",\"NVIDIA\",\"NVIDIA\",\"NVIDIA\",\"NVIDIA\",\"NVIDIA\",\"NVIDIA\",\"NVIDIA\",\"NVIDIA\",\"NVIDIA\",\"NVIDIA\",\"NVIDIA\",\"NVIDIA\",\"NVIDIA\",\"NVIDIA\",\"NVIDIA\",\"NVIDIA\",\"NVIDIA\",\"NVIDIA\",\"NVIDIA\",\"NVIDIA\",\"NVIDIA\",\"NVIDIA\",\"NVIDIA\",\"NVIDIA\",\"NVIDIA\",\"NVIDIA\",\"NVIDIA\",\"NVIDIA\",\"NVIDIA\",\"NVIDIA\",\"NVIDIA\",\"NVIDIA\",\"NVIDIA\",\"NVIDIA\",\"NVIDIA\",\"NVIDIA\",\"NVIDIA\",\"NVIDIA\",\"NVIDIA\",\"NVIDIA\",\"NVIDIA\",\"NVIDIA\",\"NVIDIA\",\"NVIDIA\",\"NVIDIA\",\"NVIDIA\",\"NVIDIA\",\"NVIDIA\",\"NVIDIA\",\"NVIDIA\",\"NVIDIA\",\"NVIDIA\",\"NVIDIA\",\"NVIDIA\",\"NVIDIA\",\"NVIDIA\",\"NVIDIA\",\"NVIDIA\",\"NVIDIA\",\"NVIDIA\",\"NVIDIA\",\"NVIDIA\",\"NVIDIA\",\"NVIDIA\",\"NVIDIA\",\"NVIDIA\",\"NVIDIA\",\"NVIDIA\",\"NVIDIA\",\"NVIDIA\",\"NVIDIA\",\"NVIDIA\",\"NVIDIA\",\"NVIDIA\",\"NVIDIA\",\"NVIDIA\",\"NVIDIA\",\"NVIDIA\",\"NVIDIA\",\"NVIDIA\",\"NVIDIA\",\"NVIDIA\",\"NVIDIA\",\"NVIDIA\",\"NVIDIA\",\"NVIDIA\",\"NVIDIA\",\"NVIDIA\",\"NVIDIA\",\"NVIDIA\",\"NVIDIA\",\"NVIDIA\",\"NVIDIA\",\"NVIDIA\",\"NVIDIA\",\"NVIDIA\",\"NVIDIA\",\"NVIDIA\",\"NVIDIA\",\"NVIDIA\",\"NVIDIA\",\"NVIDIA\",\"NVIDIA\",\"NVIDIA\",\"NVIDIA\",\"NVIDIA\",\"NVIDIA\",\"NVIDIA\",\"NVIDIA\",\"NVIDIA\",\"NVIDIA\",\"NVIDIA\",\"NVIDIA\",\"NVIDIA\",\"NVIDIA\",\"NVIDIA\",\"NVIDIA\",\"NVIDIA\",\"NVIDIA\",\"NVIDIA\",\"NVIDIA\",\"NVIDIA\",\"NVIDIA\",\"NVIDIA\",\"NVIDIA\",\"NVIDIA\",\"NVIDIA\",\"NVIDIA\",\"NVIDIA\",\"NVIDIA\",\"NVIDIA\",\"NVIDIA\",\"NVIDIA\",\"NVIDIA\",\"NVIDIA\",\"NVIDIA\",\"NVIDIA\",\"NVIDIA\",\"NVIDIA\",\"NVIDIA\",\"NVIDIA\",\"NVIDIA\",\"NVIDIA\",\"NVIDIA\",\"NVIDIA\",\"NVIDIA\",\"NVIDIA\",\"NVIDIA\",\"NVIDIA\",\"NVIDIA\",\"NVIDIA\",\"NVIDIA\",\"NVIDIA\",\"NVIDIA\",\"NVIDIA\",\"NVIDIA\",\"NVIDIA\",\"NVIDIA\",\"NVIDIA\",\"NVIDIA\",\"NVIDIA\",\"NVIDIA\",\"NVIDIA\",\"NVIDIA\",\"NVIDIA\",\"NVIDIA\",\"NVIDIA\",\"NVIDIA\",\"NVIDIA\",\"NVIDIA\",\"NVIDIA\",\"NVIDIA\",\"NVIDIA\",\"NVIDIA\",\"NVIDIA\",\"NVIDIA\",\"NVIDIA\",\"NVIDIA\",\"NVIDIA\",\"NVIDIA\",\"NVIDIA\",\"NVIDIA\",\"NVIDIA\",\"NVIDIA\",\"NVIDIA\",\"NVIDIA\",\"NVIDIA\",\"NVIDIA\",\"NVIDIA\",\"NVIDIA\",\"NVIDIA\",\"NVIDIA\",\"NVIDIA\",\"NVIDIA\",\"NVIDIA\",\"NVIDIA\",\"NVIDIA\",\"NVIDIA\",\"NVIDIA\",\"NVIDIA\",\"NVIDIA\",\"NVIDIA\",\"NVIDIA\",\"NVIDIA\",\"NVIDIA\",\"NVIDIA\",\"NVIDIA\",\"NVIDIA\",\"NVIDIA\",\"NVIDIA\",\"NVIDIA\",\"NVIDIA\",\"NVIDIA\",\"NVIDIA\",\"NVIDIA\",\"NVIDIA\",\"NVIDIA\",\"NVIDIA\",\"NVIDIA\",\"NVIDIA\",\"NVIDIA\",\"NVIDIA\",\"NVIDIA\",\"NVIDIA\",\"NVIDIA\",\"NVIDIA\",\"NVIDIA\",\"NVIDIA\",\"NVIDIA\",\"NVIDIA\",\"NVIDIA\",\"NVIDIA\",\"NVIDIA\",\"NVIDIA\",\"NVIDIA\",\"NVIDIA\",\"NVIDIA\",\"NVIDIA\",\"NVIDIA\",\"NVIDIA\",\"NVIDIA\",\"NVIDIA\",\"NVIDIA\",\"NVIDIA\",\"NVIDIA\",\"NVIDIA\",\"NVIDIA\",\"NVIDIA\",\"NVIDIA\",\"NVIDIA\",\"NVIDIA\",\"NVIDIA\",\"NVIDIA\",\"NVIDIA\",\"NVIDIA\",\"NVIDIA\",\"NVIDIA\",\"NVIDIA\",\"NVIDIA\",\"NVIDIA\",\"NVIDIA\",\"NVIDIA\",\"NVIDIA\",\"NVIDIA\",\"NVIDIA\",\"NVIDIA\",\"NVIDIA\",\"NVIDIA\",\"NVIDIA\",\"NVIDIA\",\"NVIDIA\",\"NVIDIA\",\"NVIDIA\",\"NVIDIA\",\"NVIDIA\",\"NVIDIA\",\"NVIDIA\",\"NVIDIA\",\"NVIDIA\",\"NVIDIA\",\"NVIDIA\",\"NVIDIA\",\"NVIDIA\",\"NVIDIA\",\"NVIDIA\",\"NVIDIA\",\"NVIDIA\",\"NVIDIA\",\"NVIDIA\",\"NVIDIA\",\"NVIDIA\",\"NVIDIA\",\"NVIDIA\",\"NVIDIA\",\"NVIDIA\",\"NVIDIA\",\"NVIDIA\",\"NVIDIA\",\"NVIDIA\",\"NVIDIA\",\"NVIDIA\",\"NVIDIA\",\"NVIDIA\",\"NVIDIA\",\"NVIDIA\",\"NVIDIA\",\"NVIDIA\",\"NVIDIA\",\"NVIDIA\",\"NVIDIA\",\"NVIDIA\",\"NVIDIA\",\"NVIDIA\",\"NVIDIA\",\"NVIDIA\",\"NVIDIA\",\"NVIDIA\",\"NVIDIA\",\"NVIDIA\",\"NVIDIA\",\"NVIDIA\",\"NVIDIA\",\"NVIDIA\",\"NVIDIA\",\"NVIDIA\",\"NVIDIA\",\"NVIDIA\",\"NVIDIA\",\"NVIDIA\",\"NVIDIA\",\"NVIDIA\",\"NVIDIA\",\"NVIDIA\",\"NVIDIA\",\"NVIDIA\",\"NVIDIA\",\"NVIDIA\",\"NVIDIA\",\"NVIDIA\",\"NVIDIA\",\"NVIDIA\",\"NVIDIA\",\"NVIDIA\",\"NVIDIA\",\"NVIDIA\",\"NVIDIA\",\"NVIDIA\",\"NVIDIA\",\"NVIDIA\",\"NVIDIA\",\"NVIDIA\",\"NVIDIA\",\"NVIDIA\",\"NVIDIA\",\"NVIDIA\",\"NVIDIA\",\"NVIDIA\",\"NVIDIA\",\"NVIDIA\",\"NVIDIA\",\"NVIDIA\",\"NVIDIA\",\"NVIDIA\",\"NVIDIA\",\"NVIDIA\",\"NVIDIA\",\"NVIDIA\",\"NVIDIA\",\"NVIDIA\",\"NVIDIA\",\"NVIDIA\",\"NVIDIA\",\"NVIDIA\",\"NVIDIA\",\"NVIDIA\",\"NVIDIA\",\"NVIDIA\",\"NVIDIA\",\"NVIDIA\",\"NVIDIA\",\"NVIDIA\",\"NVIDIA\",\"NVIDIA\",\"NVIDIA\",\"NVIDIA\",\"NVIDIA\",\"NVIDIA\",\"NVIDIA\",\"NVIDIA\",\"NVIDIA\",\"NVIDIA\",\"NVIDIA\",\"NVIDIA\",\"NVIDIA\",\"NVIDIA\",\"NVIDIA\",\"NVIDIA\",\"NVIDIA\",\"NVIDIA\",\"NVIDIA\",\"NVIDIA\",\"NVIDIA\",\"NVIDIA\",\"NVIDIA\",\"NVIDIA\",\"NVIDIA\",\"NVIDIA\",\"NVIDIA\",\"NVIDIA\",\"NVIDIA\",\"NVIDIA\",\"NVIDIA\",\"NVIDIA\",\"NVIDIA\",\"NVIDIA\",\"NVIDIA\",\"NVIDIA\",\"NVIDIA\",\"NVIDIA\",\"NVIDIA\",\"NVIDIA\",\"NVIDIA\",\"NVIDIA\",\"NVIDIA\",\"NVIDIA\",\"NVIDIA\",\"NVIDIA\",\"NVIDIA\",\"NVIDIA\",\"NVIDIA\",\"NVIDIA\",\"NVIDIA\",\"NVIDIA\",\"NVIDIA\",\"NVIDIA\",\"NVIDIA\",\"NVIDIA\",\"NVIDIA\",\"NVIDIA\",\"NVIDIA\",\"NVIDIA\",\"NVIDIA\",\"NVIDIA\",\"NVIDIA\",\"NVIDIA\",\"NVIDIA\",\"NVIDIA\",\"NVIDIA\",\"NVIDIA\",\"NVIDIA\",\"NVIDIA\",\"NVIDIA\",\"NVIDIA\",\"NVIDIA\",\"NVIDIA\",\"NVIDIA\",\"NVIDIA\",\"NVIDIA\",\"NVIDIA\",\"NVIDIA\",\"NVIDIA\",\"NVIDIA\",\"NVIDIA\",\"NVIDIA\",\"NVIDIA\",\"NVIDIA\",\"NVIDIA\",\"NVIDIA\",\"NVIDIA\",\"NVIDIA\",\"NVIDIA\",\"NVIDIA\",\"NVIDIA\",\"NVIDIA\",\"NVIDIA\",\"NVIDIA\",\"NVIDIA\",\"NVIDIA\",\"NVIDIA\",\"NVIDIA\",\"NVIDIA\",\"NVIDIA\",\"NVIDIA\",\"NVIDIA\",\"NVIDIA\",\"NVIDIA\",\"NVIDIA\",\"NVIDIA\",\"NVIDIA\",\"NVIDIA\",\"NVIDIA\",\"NVIDIA\",\"NVIDIA\",\"NVIDIA\",\"NVIDIA\",\"NVIDIA\",\"NVIDIA\",\"NVIDIA\",\"NVIDIA\",\"NVIDIA\",\"NVIDIA\",\"NVIDIA\",\"NVIDIA\",\"NVIDIA\",\"NVIDIA\",\"NVIDIA\",\"NVIDIA\",\"NVIDIA\",\"NVIDIA\",\"NVIDIA\",\"NVIDIA\",\"NVIDIA\",\"NVIDIA\",\"NVIDIA\",\"NVIDIA\",\"NVIDIA\",\"NVIDIA\",\"NVIDIA\",\"NVIDIA\",\"NVIDIA\",\"NVIDIA\",\"NVIDIA\",\"NVIDIA\",\"NVIDIA\",\"NVIDIA\",\"NVIDIA\",\"NVIDIA\",\"NVIDIA\",\"NVIDIA\",\"NVIDIA\",\"NVIDIA\",\"NVIDIA\",\"NVIDIA\",\"NVIDIA\",\"NVIDIA\",\"NVIDIA\",\"NVIDIA\",\"NVIDIA\",\"NVIDIA\",\"NVIDIA\",\"NVIDIA\",\"NVIDIA\",\"NVIDIA\",\"NVIDIA\",\"NVIDIA\",\"NVIDIA\",\"NVIDIA\",\"NVIDIA\",\"NVIDIA\",\"NVIDIA\",\"NVIDIA\",\"NVIDIA\",\"NVIDIA\",\"NVIDIA\",\"NVIDIA\",\"NVIDIA\",\"NVIDIA\",\"NVIDIA\",\"NVIDIA\",\"NVIDIA\",\"NVIDIA\",\"NVIDIA\",\"NVIDIA\",\"NVIDIA\",\"NVIDIA\",\"NVIDIA\",\"NVIDIA\",\"NVIDIA\",\"NVIDIA\",\"NVIDIA\",\"NVIDIA\",\"NVIDIA\",\"NVIDIA\",\"NVIDIA\",\"NVIDIA\",\"NVIDIA\",\"NVIDIA\",\"NVIDIA\",\"NVIDIA\",\"NVIDIA\",\"NVIDIA\",\"NVIDIA\",\"NVIDIA\",\"NVIDIA\",\"NVIDIA\",\"NVIDIA\",\"NVIDIA\",\"NVIDIA\",\"NVIDIA\",\"NVIDIA\",\"NVIDIA\",\"NVIDIA\",\"NVIDIA\",\"NVIDIA\",\"NVIDIA\",\"NVIDIA\",\"NVIDIA\",\"NVIDIA\",\"NVIDIA\",\"NVIDIA\",\"NVIDIA\",\"NVIDIA\",\"NVIDIA\",\"NVIDIA\",\"NVIDIA\",\"NVIDIA\",\"NVIDIA\",\"NVIDIA\",\"NVIDIA\",\"NVIDIA\",\"NVIDIA\",\"NVIDIA\",\"NVIDIA\",\"NVIDIA\",\"NVIDIA\",\"NVIDIA\",\"NVIDIA\",\"NVIDIA\",\"NVIDIA\",\"NVIDIA\",\"NVIDIA\",\"NVIDIA\",\"NVIDIA\",\"NVIDIA\",\"NVIDIA\",\"NVIDIA\",\"NVIDIA\",\"NVIDIA\",\"NVIDIA\",\"NVIDIA\",\"NVIDIA\",\"NVIDIA\",\"NVIDIA\",\"NVIDIA\",\"NVIDIA\",\"NVIDIA\",\"NVIDIA\",\"NVIDIA\",\"NVIDIA\",\"NVIDIA\",\"NVIDIA\",\"NVIDIA\",\"NVIDIA\",\"NVIDIA\",\"NVIDIA\",\"NVIDIA\",\"NVIDIA\",\"NVIDIA\",\"NVIDIA\",\"NVIDIA\",\"NVIDIA\",\"NVIDIA\",\"NVIDIA\",\"NVIDIA\",\"NVIDIA\",\"NVIDIA\",\"NVIDIA\",\"NVIDIA\",\"NVIDIA\",\"NVIDIA\",\"NVIDIA\",\"NVIDIA\",\"NVIDIA\",\"NVIDIA\",\"NVIDIA\",\"NVIDIA\",\"NVIDIA\",\"NVIDIA\",\"NVIDIA\",\"NVIDIA\",\"NVIDIA\",\"NVIDIA\",\"NVIDIA\",\"NVIDIA\",\"NVIDIA\",\"NVIDIA\",\"NVIDIA\",\"NVIDIA\",\"NVIDIA\",\"NVIDIA\",\"NVIDIA\",\"NVIDIA\",\"NVIDIA\",\"NVIDIA\",\"NVIDIA\",\"NVIDIA\",\"NVIDIA\",\"NVIDIA\",\"NVIDIA\",\"NVIDIA\",\"NVIDIA\",\"NVIDIA\",\"NVIDIA\",\"NVIDIA\",\"NVIDIA\",\"NVIDIA\",\"NVIDIA\",\"NVIDIA\",\"NVIDIA\",\"NVIDIA\",\"NVIDIA\",\"NVIDIA\",\"NVIDIA\",\"NVIDIA\",\"NVIDIA\",\"NVIDIA\",\"NVIDIA\",\"NVIDIA\",\"NVIDIA\",\"NVIDIA\",\"NVIDIA\",\"NVIDIA\",\"NVIDIA\",\"NVIDIA\",\"NVIDIA\",\"NVIDIA\",\"NVIDIA\",\"NVIDIA\",\"NVIDIA\",\"NVIDIA\",\"NVIDIA\",\"NVIDIA\",\"NVIDIA\",\"NVIDIA\",\"NVIDIA\",\"NVIDIA\",\"NVIDIA\",\"NVIDIA\",\"NVIDIA\",\"NVIDIA\",\"NVIDIA\",\"NVIDIA\",\"NVIDIA\",\"NVIDIA\",\"NVIDIA\",\"NVIDIA\",\"NVIDIA\",\"NVIDIA\",\"NVIDIA\",\"NVIDIA\",\"NVIDIA\",\"NVIDIA\",\"NVIDIA\",\"NVIDIA\",\"NVIDIA\",\"NVIDIA\",\"NVIDIA\",\"NVIDIA\",\"NVIDIA\",\"NVIDIA\",\"NVIDIA\",\"NVIDIA\",\"NVIDIA\",\"NVIDIA\",\"NVIDIA\",\"NVIDIA\",\"NVIDIA\",\"NVIDIA\",\"Partner\",\"Partner\",\"Partner\",\"Partner\",\"Partner\",\"Partner\",\"Partner\",\"Partner\",\"Partner\",\"Partner\",\"Partner\",\"Partner\",\"Partner\",\"Partner\",\"Partner\",\"Partner\",\"Partner\",\"Partner\",\"Partner\",\"Partner\",\"Partner\",\"Partner\",\"Partner\",\"Partner\",\"Partner\",\"Partner\",\"Partner\",\"Partner\",\"Partner\",\"Partner\",\"Partner\",\"Partner\",\"Partner\",\"Partner\",\"Partner\",\"Partner\",\"Partner\",\"Partner\",\"Partner\",\"Partner\",\"Partner\",\"Partner\",\"Partner\",\"Partner\",\"Partner\",\"Partner\",\"Partner\",\"Partner\",\"Partner\",\"Partner\",\"Partner\",\"Partner\",\"Partner\",\"Partner\",\"Partner\",\"Partner\",\"Partner\",\"Partner\",\"Partner\",\"Partner\",\"Partner\",\"Partner\",\"Partner\",\"Partner\",\"Partner\",\"Partner\",\"Partner\",\"Partner\",\"Partner\",\"Partner\",\"Partner\",\"Partner\",\"Partner\",\"Partner\",\"Partner\",\"Partner\",\"Partner\",\"Partner\",\"Partner\",\"Partner\",\"Partner\",\"Partner\",\"Partner\",\"Partner\",\"Partner\",\"Partner\",\"Partner\",\"Partner\",\"Partner\",\"Partner\",\"Partner\",\"Partner\",\"Partner\",\"Partner\",\"Partner\",\"Partner\",\"Partner\",\"Partner\",\"Partner\",\"Partner\",\"Partner\",\"Partner\",\"Partner\",\"Partner\",\"Partner\",\"Partner\",\"Partner\",\"Partner\",\"Partner\",\"Partner\",\"Partner\",\"Partner\",\"Partner\",\"Partner\",\"Partner\",\"Partner\",\"Partner\",\"Partner\",\"Partner\",\"Partner\",\"Partner\",\"Partner\",\"Partner\",\"Partner\",\"Partner\",\"Partner\",\"Partner\",\"Partner\",\"Partner\",\"Partner\",\"Partner\",\"Partner\",\"Partner\",\"Partner\",\"Partner\",\"Partner\",\"Partner\",\"Partner\",\"Partner\",\"Partner\",\"Partner\",\"Partner\",\"Partner\",\"Partner\",\"Partner\",\"Partner\",\"Partner\",\"Partner\",\"Partner\",\"Partner\",\"Partner\",\"Partner\",\"Partner\",\"Partner\",\"Partner\",\"Partner\",\"Partner\",\"Partner\",\"Partner\",\"Partner\",\"Partner\",\"Partner\",\"Partner\",\"Partner\",\"Partner\",\"Partner\",\"Partner\",\"Partner\",\"Partner\",\"Partner\",\"Partner\",\"Partner\",\"Partner\",\"Partner\",\"Partner\",\"Partner\",\"Partner\",\"Partner\",\"Partner\",\"Partner\",\"Partner\",\"Partner\",\"Partner\",\"Partner\",\"Partner\",\"Partner\",\"Partner\",\"Partner\",\"Partner\",\"Partner\",\"Partner\",\"Partner\",\"Partner\",\"Partner\",\"Partner\",\"Partner\",\"Partner\",\"Partner\",\"Partner\",\"Partner\",\"Partner\",\"Partner\",\"Partner\",\"Partner\",\"Partner\",\"Partner\",\"Partner\",\"Partner\",\"Partner\",\"Partner\",\"Partner\",\"Partner\",\"Partner\",\"Partner\",\"Partner\",\"Partner\",\"Partner\",\"Partner\",\"Partner\",\"Partner\",\"Partner\",\"Partner\",\"Partner\",\"Partner\",\"Partner\",\"Partner\",\"Partner\",\"Partner\",\"Partner\",\"Partner\",\"Partner\",\"Partner\",\"Partner\",\"Partner\",\"Partner\",\"RFI\",\"RFI\",\"RFI\",\"RFI\",\"RFI\",\"RFI\",\"RFI\",\"RFI\",\"RFI\",\"RFI\",\"RFI\",\"RFI\",\"RFI\",\"RFI\",\"RFI\",\"RFI\",\"RFI\",\"RFI\",\"RFI\",\"RFI\",\"RFI\",\"RFI\",\"RFI\"]],[\"color\",[\"#2ca02c\",\"#2ca02c\",\"#2ca02c\",\"#2ca02c\",\"#2ca02c\",\"#2ca02c\",\"#2ca02c\",\"#2ca02c\",\"#2ca02c\",\"#2ca02c\",\"#2ca02c\",\"#2ca02c\",\"#2ca02c\",\"#2ca02c\",\"#2ca02c\",\"#2ca02c\",\"#2ca02c\",\"#2ca02c\",\"#2ca02c\",\"#2ca02c\",\"#2ca02c\",\"#2ca02c\",\"#2ca02c\",\"#2ca02c\",\"#2ca02c\",\"#2ca02c\",\"#2ca02c\",\"#2ca02c\",\"#2ca02c\",\"#2ca02c\",\"#2ca02c\",\"#2ca02c\",\"#2ca02c\",\"#2ca02c\",\"#2ca02c\",\"#2ca02c\",\"#2ca02c\",\"#2ca02c\",\"#2ca02c\",\"#2ca02c\",\"#2ca02c\",\"#2ca02c\",\"#2ca02c\",\"#2ca02c\",\"#2ca02c\",\"#2ca02c\",\"#2ca02c\",\"#2ca02c\",\"#2ca02c\",\"#2ca02c\",\"#2ca02c\",\"#2ca02c\",\"#2ca02c\",\"#2ca02c\",\"#2ca02c\",\"#2ca02c\",\"#2ca02c\",\"#2ca02c\",\"#2ca02c\",\"#2ca02c\",\"#2ca02c\",\"#2ca02c\",\"#2ca02c\",\"#2ca02c\",\"#2ca02c\",\"#2ca02c\",\"#2ca02c\",\"#2ca02c\",\"#2ca02c\",\"#2ca02c\",\"#2ca02c\",\"#2ca02c\",\"#2ca02c\",\"#2ca02c\",\"#2ca02c\",\"#2ca02c\",\"#2ca02c\",\"#2ca02c\",\"#2ca02c\",\"#2ca02c\",\"#2ca02c\",\"#2ca02c\",\"#2ca02c\",\"#2ca02c\",\"#2ca02c\",\"#2ca02c\",\"#2ca02c\",\"#2ca02c\",\"#2ca02c\",\"#2ca02c\",\"#2ca02c\",\"#2ca02c\",\"#2ca02c\",\"#2ca02c\",\"#2ca02c\",\"#2ca02c\",\"#2ca02c\",\"#2ca02c\",\"#2ca02c\",\"#2ca02c\",\"#2ca02c\",\"#2ca02c\",\"#2ca02c\",\"#2ca02c\",\"#2ca02c\",\"#2ca02c\",\"#2ca02c\",\"#2ca02c\",\"#2ca02c\",\"#2ca02c\",\"#2ca02c\",\"#2ca02c\",\"#2ca02c\",\"#2ca02c\",\"#2ca02c\",\"#2ca02c\",\"#2ca02c\",\"#2ca02c\",\"#2ca02c\",\"#2ca02c\",\"#2ca02c\",\"#2ca02c\",\"#2ca02c\",\"#2ca02c\",\"#2ca02c\",\"#2ca02c\",\"#2ca02c\",\"#2ca02c\",\"#2ca02c\",\"#2ca02c\",\"#2ca02c\",\"#2ca02c\",\"#2ca02c\",\"#2ca02c\",\"#2ca02c\",\"#2ca02c\",\"#2ca02c\",\"#2ca02c\",\"#2ca02c\",\"#2ca02c\",\"#2ca02c\",\"#2ca02c\",\"#2ca02c\",\"#2ca02c\",\"#2ca02c\",\"#2ca02c\",\"#2ca02c\",\"#2ca02c\",\"#2ca02c\",\"#2ca02c\",\"#2ca02c\",\"#2ca02c\",\"#2ca02c\",\"#2ca02c\",\"#2ca02c\",\"#2ca02c\",\"#2ca02c\",\"#2ca02c\",\"#2ca02c\",\"#2ca02c\",\"#2ca02c\",\"#2ca02c\",\"#2ca02c\",\"#2ca02c\",\"#2ca02c\",\"#2ca02c\",\"#2ca02c\",\"#2ca02c\",\"#2ca02c\",\"#2ca02c\",\"#2ca02c\",\"#2ca02c\",\"#2ca02c\",\"#2ca02c\",\"#2ca02c\",\"#2ca02c\",\"#2ca02c\",\"#2ca02c\",\"#2ca02c\",\"#2ca02c\",\"#2ca02c\",\"#2ca02c\",\"#2ca02c\",\"#2ca02c\",\"#2ca02c\",\"#2ca02c\",\"#2ca02c\",\"#2ca02c\",\"#2ca02c\",\"#2ca02c\",\"#2ca02c\",\"#2ca02c\",\"#2ca02c\",\"#2ca02c\",\"#2ca02c\",\"#2ca02c\",\"#2ca02c\",\"#2ca02c\",\"#2ca02c\",\"#2ca02c\",\"#2ca02c\",\"#2ca02c\",\"#2ca02c\",\"#2ca02c\",\"#2ca02c\",\"#2ca02c\",\"#2ca02c\",\"#2ca02c\",\"#2ca02c\",\"#2ca02c\",\"#2ca02c\",\"#2ca02c\",\"#2ca02c\",\"#2ca02c\",\"#2ca02c\",\"#2ca02c\",\"#2ca02c\",\"#2ca02c\",\"#2ca02c\",\"#2ca02c\",\"#2ca02c\",\"#2ca02c\",\"#2ca02c\",\"#2ca02c\",\"#2ca02c\",\"#2ca02c\",\"#2ca02c\",\"#2ca02c\",\"#2ca02c\",\"#2ca02c\",\"#2ca02c\",\"#2ca02c\",\"#2ca02c\",\"#2ca02c\",\"#2ca02c\",\"#2ca02c\",\"#2ca02c\",\"#2ca02c\",\"#2ca02c\",\"#2ca02c\",\"#2ca02c\",\"#2ca02c\",\"#2ca02c\",\"#2ca02c\",\"#2ca02c\",\"#2ca02c\",\"#2ca02c\",\"#2ca02c\",\"#2ca02c\",\"#2ca02c\",\"#2ca02c\",\"#2ca02c\",\"#2ca02c\",\"#2ca02c\",\"#2ca02c\",\"#2ca02c\",\"#2ca02c\",\"#2ca02c\",\"#2ca02c\",\"#2ca02c\",\"#2ca02c\",\"#2ca02c\",\"#2ca02c\",\"#2ca02c\",\"#2ca02c\",\"#2ca02c\",\"#2ca02c\",\"#2ca02c\",\"#2ca02c\",\"#2ca02c\",\"#2ca02c\",\"#2ca02c\",\"#2ca02c\",\"#2ca02c\",\"#2ca02c\",\"#2ca02c\",\"#2ca02c\",\"#2ca02c\",\"#2ca02c\",\"#2ca02c\",\"#2ca02c\",\"#2ca02c\",\"#2ca02c\",\"#2ca02c\",\"#2ca02c\",\"#2ca02c\",\"#2ca02c\",\"#2ca02c\",\"#2ca02c\",\"#2ca02c\",\"#2ca02c\",\"#2ca02c\",\"#2ca02c\",\"#2ca02c\",\"#2ca02c\",\"#2ca02c\",\"#2ca02c\",\"#2ca02c\",\"#2ca02c\",\"#2ca02c\",\"#2ca02c\",\"#2ca02c\",\"#2ca02c\",\"#2ca02c\",\"#2ca02c\",\"#2ca02c\",\"#2ca02c\",\"#2ca02c\",\"#2ca02c\",\"#2ca02c\",\"#2ca02c\",\"#2ca02c\",\"#2ca02c\",\"#2ca02c\",\"#2ca02c\",\"#2ca02c\",\"#2ca02c\",\"#2ca02c\",\"#2ca02c\",\"#2ca02c\",\"#2ca02c\",\"#2ca02c\",\"#2ca02c\",\"#2ca02c\",\"#2ca02c\",\"#2ca02c\",\"#2ca02c\",\"#2ca02c\",\"#2ca02c\",\"#2ca02c\",\"#2ca02c\",\"#2ca02c\",\"#2ca02c\",\"#2ca02c\",\"#2ca02c\",\"#2ca02c\",\"#2ca02c\",\"#2ca02c\",\"#2ca02c\",\"#2ca02c\",\"#2ca02c\",\"#2ca02c\",\"#2ca02c\",\"#2ca02c\",\"#2ca02c\",\"#2ca02c\",\"#2ca02c\",\"#2ca02c\",\"#2ca02c\",\"#2ca02c\",\"#2ca02c\",\"#2ca02c\",\"#2ca02c\",\"#2ca02c\",\"#2ca02c\",\"#2ca02c\",\"#2ca02c\",\"#2ca02c\",\"#2ca02c\",\"#2ca02c\",\"#2ca02c\",\"#2ca02c\",\"#2ca02c\",\"#2ca02c\",\"#2ca02c\",\"#2ca02c\",\"#2ca02c\",\"#2ca02c\",\"#2ca02c\",\"#2ca02c\",\"#2ca02c\",\"#2ca02c\",\"#2ca02c\",\"#2ca02c\",\"#2ca02c\",\"#2ca02c\",\"#2ca02c\",\"#2ca02c\",\"#2ca02c\",\"#2ca02c\",\"#2ca02c\",\"#2ca02c\",\"#2ca02c\",\"#2ca02c\",\"#2ca02c\",\"#2ca02c\",\"#2ca02c\",\"#2ca02c\",\"#2ca02c\",\"#2ca02c\",\"#2ca02c\",\"#2ca02c\",\"#2ca02c\",\"#2ca02c\",\"#2ca02c\",\"#2ca02c\",\"#2ca02c\",\"#2ca02c\",\"#2ca02c\",\"#2ca02c\",\"#2ca02c\",\"#2ca02c\",\"#2ca02c\",\"#2ca02c\",\"#2ca02c\",\"#2ca02c\",\"#2ca02c\",\"#2ca02c\",\"#2ca02c\",\"#2ca02c\",\"#2ca02c\",\"#2ca02c\",\"#2ca02c\",\"#2ca02c\",\"#2ca02c\",\"#2ca02c\",\"#2ca02c\",\"#2ca02c\",\"#2ca02c\",\"#2ca02c\",\"#2ca02c\",\"#2ca02c\",\"#2ca02c\",\"#2ca02c\",\"#2ca02c\",\"#2ca02c\",\"#2ca02c\",\"#2ca02c\",\"#2ca02c\",\"#2ca02c\",\"#2ca02c\",\"#2ca02c\",\"#2ca02c\",\"#2ca02c\",\"#2ca02c\",\"#2ca02c\",\"#2ca02c\",\"#2ca02c\",\"#2ca02c\",\"#2ca02c\",\"#2ca02c\",\"#2ca02c\",\"#2ca02c\",\"#2ca02c\",\"#2ca02c\",\"#2ca02c\",\"#2ca02c\",\"#2ca02c\",\"#2ca02c\",\"#2ca02c\",\"#2ca02c\",\"#2ca02c\",\"#2ca02c\",\"#2ca02c\",\"#2ca02c\",\"#2ca02c\",\"#2ca02c\",\"#2ca02c\",\"#2ca02c\",\"#2ca02c\",\"#2ca02c\",\"#2ca02c\",\"#2ca02c\",\"#2ca02c\",\"#2ca02c\",\"#2ca02c\",\"#2ca02c\",\"#2ca02c\",\"#2ca02c\",\"#2ca02c\",\"#2ca02c\",\"#2ca02c\",\"#2ca02c\",\"#2ca02c\",\"#2ca02c\",\"#2ca02c\",\"#2ca02c\",\"#2ca02c\",\"#2ca02c\",\"#2ca02c\",\"#2ca02c\",\"#2ca02c\",\"#2ca02c\",\"#2ca02c\",\"#2ca02c\",\"#2ca02c\",\"#2ca02c\",\"#2ca02c\",\"#2ca02c\",\"#2ca02c\",\"#2ca02c\",\"#2ca02c\",\"#2ca02c\",\"#2ca02c\",\"#2ca02c\",\"#2ca02c\",\"#2ca02c\",\"#2ca02c\",\"#2ca02c\",\"#2ca02c\",\"#2ca02c\",\"#2ca02c\",\"#2ca02c\",\"#2ca02c\",\"#2ca02c\",\"#2ca02c\",\"#2ca02c\",\"#2ca02c\",\"#2ca02c\",\"#2ca02c\",\"#2ca02c\",\"#2ca02c\",\"#2ca02c\",\"#2ca02c\",\"#2ca02c\",\"#2ca02c\",\"#2ca02c\",\"#2ca02c\",\"#2ca02c\",\"#2ca02c\",\"#2ca02c\",\"#2ca02c\",\"#2ca02c\",\"#2ca02c\",\"#2ca02c\",\"#2ca02c\",\"#2ca02c\",\"#2ca02c\",\"#2ca02c\",\"#2ca02c\",\"#2ca02c\",\"#2ca02c\",\"#2ca02c\",\"#2ca02c\",\"#2ca02c\",\"#2ca02c\",\"#2ca02c\",\"#2ca02c\",\"#2ca02c\",\"#2ca02c\",\"#2ca02c\",\"#2ca02c\",\"#2ca02c\",\"#2ca02c\",\"#2ca02c\",\"#2ca02c\",\"#2ca02c\",\"#2ca02c\",\"#2ca02c\",\"#2ca02c\",\"#2ca02c\",\"#2ca02c\",\"#2ca02c\",\"#2ca02c\",\"#2ca02c\",\"#2ca02c\",\"#2ca02c\",\"#2ca02c\",\"#2ca02c\",\"#2ca02c\",\"#2ca02c\",\"#2ca02c\",\"#2ca02c\",\"#2ca02c\",\"#2ca02c\",\"#2ca02c\",\"#2ca02c\",\"#2ca02c\",\"#2ca02c\",\"#2ca02c\",\"#2ca02c\",\"#2ca02c\",\"#2ca02c\",\"#2ca02c\",\"#2ca02c\",\"#2ca02c\",\"#2ca02c\",\"#2ca02c\",\"#2ca02c\",\"#2ca02c\",\"#2ca02c\",\"#2ca02c\",\"#2ca02c\",\"#2ca02c\",\"#2ca02c\",\"#2ca02c\",\"#2ca02c\",\"#2ca02c\",\"#2ca02c\",\"#2ca02c\",\"#2ca02c\",\"#2ca02c\",\"#2ca02c\",\"#2ca02c\",\"#2ca02c\",\"#2ca02c\",\"#2ca02c\",\"#2ca02c\",\"#2ca02c\",\"#2ca02c\",\"#2ca02c\",\"#2ca02c\",\"#2ca02c\",\"#2ca02c\",\"#2ca02c\",\"#2ca02c\",\"#2ca02c\",\"#2ca02c\",\"#2ca02c\",\"#2ca02c\",\"#2ca02c\",\"#2ca02c\",\"#2ca02c\",\"#2ca02c\",\"#2ca02c\",\"#2ca02c\",\"#2ca02c\",\"#2ca02c\",\"#2ca02c\",\"#2ca02c\",\"#2ca02c\",\"#2ca02c\",\"#2ca02c\",\"#2ca02c\",\"#2ca02c\",\"#2ca02c\",\"#2ca02c\",\"#2ca02c\",\"#2ca02c\",\"#2ca02c\",\"#2ca02c\",\"#2ca02c\",\"#2ca02c\",\"#2ca02c\",\"#2ca02c\",\"#2ca02c\",\"#2ca02c\",\"#2ca02c\",\"#2ca02c\",\"#2ca02c\",\"#2ca02c\",\"#2ca02c\",\"#2ca02c\",\"#2ca02c\",\"#2ca02c\",\"#2ca02c\",\"#2ca02c\",\"#2ca02c\",\"#2ca02c\",\"#2ca02c\",\"#2ca02c\",\"#2ca02c\",\"#2ca02c\",\"#2ca02c\",\"#2ca02c\",\"#2ca02c\",\"#2ca02c\",\"#2ca02c\",\"#2ca02c\",\"#2ca02c\",\"#2ca02c\",\"#2ca02c\",\"#2ca02c\",\"#2ca02c\",\"#2ca02c\",\"#2ca02c\",\"#2ca02c\",\"#2ca02c\",\"#2ca02c\",\"#2ca02c\",\"#2ca02c\",\"#2ca02c\",\"#2ca02c\",\"#2ca02c\",\"#2ca02c\",\"#2ca02c\",\"#2ca02c\",\"#2ca02c\",\"#2ca02c\",\"#2ca02c\",\"#2ca02c\",\"#2ca02c\",\"#2ca02c\",\"#2ca02c\",\"#2ca02c\",\"#2ca02c\",\"#2ca02c\",\"#2ca02c\",\"#2ca02c\",\"#2ca02c\",\"#2ca02c\",\"#2ca02c\",\"#2ca02c\",\"#2ca02c\",\"#2ca02c\",\"#2ca02c\",\"#2ca02c\",\"#2ca02c\",\"#2ca02c\",\"#2ca02c\",\"#2ca02c\",\"#2ca02c\",\"#2ca02c\",\"#2ca02c\",\"#2ca02c\",\"#2ca02c\",\"#2ca02c\",\"#2ca02c\",\"#2ca02c\",\"#2ca02c\",\"#2ca02c\",\"#2ca02c\",\"#2ca02c\",\"#2ca02c\",\"#2ca02c\",\"#2ca02c\",\"#2ca02c\",\"#2ca02c\",\"#2ca02c\",\"#2ca02c\",\"#2ca02c\",\"#2ca02c\",\"#2ca02c\",\"#2ca02c\",\"#2ca02c\",\"#2ca02c\",\"#2ca02c\",\"#2ca02c\",\"#2ca02c\",\"#2ca02c\",\"#2ca02c\",\"#2ca02c\",\"#2ca02c\",\"#2ca02c\",\"#2ca02c\",\"#2ca02c\",\"#2ca02c\",\"#2ca02c\",\"#2ca02c\",\"#2ca02c\",\"#2ca02c\",\"#2ca02c\",\"#2ca02c\",\"#2ca02c\",\"#2ca02c\",\"#2ca02c\",\"#2ca02c\",\"#2ca02c\",\"#2ca02c\",\"#2ca02c\",\"#2ca02c\",\"#2ca02c\",\"#2ca02c\",\"#2ca02c\",\"#2ca02c\",\"#2ca02c\",\"#2ca02c\",\"#2ca02c\",\"#2ca02c\",\"#2ca02c\",\"#2ca02c\",\"#2ca02c\",\"#2ca02c\",\"#2ca02c\",\"#2ca02c\",\"#2ca02c\",\"#2ca02c\",\"#2ca02c\",\"#2ca02c\",\"#2ca02c\",\"#2ca02c\",\"#2ca02c\",\"#2ca02c\",\"#2ca02c\",\"#2ca02c\",\"#2ca02c\",\"#2ca02c\",\"#2ca02c\",\"#2ca02c\",\"#2ca02c\",\"#2ca02c\",\"#2ca02c\",\"#2ca02c\",\"#2ca02c\",\"#2ca02c\",\"#2ca02c\",\"#2ca02c\",\"#2ca02c\",\"#2ca02c\",\"#2ca02c\",\"#2ca02c\",\"#2ca02c\",\"#2ca02c\",\"#2ca02c\",\"#2ca02c\",\"#2ca02c\",\"#2ca02c\",\"#2ca02c\",\"#2ca02c\",\"#2ca02c\",\"#2ca02c\",\"#2ca02c\",\"#2ca02c\",\"#2ca02c\",\"#2ca02c\",\"#2ca02c\",\"#2ca02c\",\"#2ca02c\",\"#2ca02c\",\"#2ca02c\",\"#2ca02c\",\"#2ca02c\",\"#2ca02c\",\"#2ca02c\",\"#2ca02c\",\"#2ca02c\",\"#2ca02c\",\"#2ca02c\",\"#2ca02c\",\"#2ca02c\",\"#2ca02c\",\"#2ca02c\",\"#2ca02c\",\"#2ca02c\",\"#2ca02c\",\"#2ca02c\",\"#2ca02c\",\"#2ca02c\",\"#2ca02c\",\"#2ca02c\",\"#2ca02c\",\"#2ca02c\",\"#2ca02c\",\"#2ca02c\",\"#2ca02c\",\"#2ca02c\",\"#2ca02c\",\"#2ca02c\",\"#2ca02c\",\"#2ca02c\",\"#2ca02c\",\"#2ca02c\",\"#2ca02c\",\"#2ca02c\",\"#2ca02c\",\"#2ca02c\",\"#2ca02c\",\"#2ca02c\",\"#2ca02c\",\"#2ca02c\",\"#2ca02c\",\"#2ca02c\",\"#2ca02c\",\"#2ca02c\",\"#2ca02c\",\"#2ca02c\",\"#2ca02c\",\"#2ca02c\",\"#2ca02c\",\"#2ca02c\",\"#2ca02c\",\"#2ca02c\",\"#2ca02c\",\"#2ca02c\",\"#2ca02c\",\"#2ca02c\",\"#2ca02c\",\"#2ca02c\",\"#2ca02c\",\"#2ca02c\",\"#2ca02c\",\"#2ca02c\",\"#2ca02c\",\"#2ca02c\",\"#2ca02c\",\"#2ca02c\",\"#2ca02c\",\"#2ca02c\",\"#2ca02c\",\"#2ca02c\",\"#2ca02c\",\"#2ca02c\",\"#2ca02c\",\"#2ca02c\",\"#2ca02c\",\"#2ca02c\",\"#2ca02c\",\"#2ca02c\",\"#2ca02c\",\"#2ca02c\",\"#2ca02c\",\"#2ca02c\",\"#2ca02c\",\"#2ca02c\",\"#2ca02c\",\"#2ca02c\",\"#2ca02c\",\"#2ca02c\",\"#2ca02c\",\"#2ca02c\",\"#2ca02c\",\"#2ca02c\",\"#2ca02c\",\"#2ca02c\",\"#2ca02c\",\"#2ca02c\",\"#2ca02c\",\"#2ca02c\",\"#2ca02c\",\"#2ca02c\",\"#2ca02c\",\"#2ca02c\",\"#2ca02c\",\"#2ca02c\",\"#2ca02c\",\"#2ca02c\",\"#2ca02c\",\"#2ca02c\",\"#2ca02c\",\"#2ca02c\",\"#2ca02c\",\"#2ca02c\",\"#2ca02c\",\"#2ca02c\",\"#2ca02c\",\"#2ca02c\",\"#2ca02c\",\"#2ca02c\",\"#2ca02c\",\"#2ca02c\",\"#2ca02c\",\"#2ca02c\",\"#2ca02c\",\"#2ca02c\",\"#2ca02c\",\"#2ca02c\",\"#2ca02c\",\"#2ca02c\",\"#2ca02c\",\"#2ca02c\",\"#2ca02c\",\"#2ca02c\",\"#2ca02c\",\"#2ca02c\",\"#2ca02c\",\"#2ca02c\",\"#2ca02c\",\"#2ca02c\",\"#2ca02c\",\"#2ca02c\",\"#2ca02c\",\"#2ca02c\",\"#2ca02c\",\"#2ca02c\",\"#2ca02c\",\"#2ca02c\",\"#2ca02c\",\"#2ca02c\",\"#2ca02c\",\"#2ca02c\",\"#2ca02c\",\"#2ca02c\",\"#2ca02c\",\"#2ca02c\",\"#2ca02c\",\"#2ca02c\",\"#2ca02c\",\"#2ca02c\",\"#2ca02c\",\"#2ca02c\",\"#2ca02c\",\"#2ca02c\",\"#2ca02c\",\"#2ca02c\",\"#2ca02c\",\"#2ca02c\",\"#2ca02c\",\"#2ca02c\",\"#2ca02c\",\"#2ca02c\",\"#2ca02c\",\"#2ca02c\",\"#2ca02c\",\"#2ca02c\",\"#2ca02c\",\"#2ca02c\",\"#2ca02c\",\"#2ca02c\",\"#2ca02c\",\"#2ca02c\",\"#2ca02c\",\"#2ca02c\",\"#2ca02c\",\"#2ca02c\",\"#2ca02c\",\"#2ca02c\",\"#2ca02c\",\"#2ca02c\",\"#2ca02c\",\"#2ca02c\",\"#2ca02c\",\"#2ca02c\",\"#2ca02c\",\"#2ca02c\",\"#2ca02c\",\"#2ca02c\",\"#2ca02c\",\"#2ca02c\",\"#2ca02c\",\"#2ca02c\",\"#2ca02c\",\"#2ca02c\",\"#2ca02c\",\"#2ca02c\",\"#2ca02c\",\"#2ca02c\",\"#2ca02c\",\"#2ca02c\",\"#2ca02c\",\"#2ca02c\",\"#2ca02c\",\"#2ca02c\",\"#2ca02c\",\"#2ca02c\",\"#2ca02c\",\"#2ca02c\",\"#2ca02c\",\"#2ca02c\",\"#2ca02c\",\"#2ca02c\",\"#2ca02c\",\"#2ca02c\",\"#2ca02c\",\"#2ca02c\",\"#2ca02c\",\"#2ca02c\",\"#2ca02c\",\"#2ca02c\",\"#2ca02c\",\"#2ca02c\",\"#2ca02c\",\"#2ca02c\",\"#2ca02c\",\"#2ca02c\",\"#2ca02c\",\"#2ca02c\",\"#2ca02c\",\"#2ca02c\",\"#2ca02c\",\"#2ca02c\",\"#2ca02c\",\"#2ca02c\",\"#2ca02c\",\"#2ca02c\",\"#2ca02c\",\"#2ca02c\",\"#2ca02c\",\"#2ca02c\",\"#2ca02c\",\"#2ca02c\",\"#2ca02c\",\"#2ca02c\",\"#2ca02c\",\"#2ca02c\",\"#2ca02c\",\"#2ca02c\",\"#2ca02c\",\"#2ca02c\",\"#2ca02c\",\"#2ca02c\",\"#2ca02c\",\"#2ca02c\",\"#2ca02c\",\"#2ca02c\",\"#2ca02c\",\"#2ca02c\",\"#2ca02c\",\"#2ca02c\",\"#2ca02c\",\"#2ca02c\",\"#2ca02c\",\"#2ca02c\",\"#2ca02c\",\"#2ca02c\",\"#2ca02c\",\"#2ca02c\",\"#2ca02c\",\"#2ca02c\",\"#2ca02c\",\"#2ca02c\",\"#2ca02c\",\"#2ca02c\",\"#2ca02c\",\"#2ca02c\",\"#2ca02c\",\"#2ca02c\",\"#2ca02c\",\"#2ca02c\",\"#2ca02c\",\"#2ca02c\",\"#2ca02c\",\"#2ca02c\",\"#2ca02c\",\"#2ca02c\",\"#2ca02c\",\"#2ca02c\",\"#2ca02c\",\"#2ca02c\",\"#2ca02c\",\"#2ca02c\",\"#2ca02c\",\"#2ca02c\",\"#2ca02c\",\"#2ca02c\",\"#2ca02c\",\"#2ca02c\",\"#2ca02c\",\"#2ca02c\",\"#2ca02c\",\"#2ca02c\",\"#2ca02c\",\"#2ca02c\",\"#2ca02c\",\"#2ca02c\",\"#2ca02c\",\"#2ca02c\",\"#2ca02c\",\"#2ca02c\",\"#2ca02c\",\"#2ca02c\",\"#2ca02c\",\"#2ca02c\",\"#2ca02c\",\"#2ca02c\",\"#2ca02c\",\"#2ca02c\",\"#2ca02c\",\"#2ca02c\",\"#2ca02c\",\"#2ca02c\",\"#2ca02c\",\"#2ca02c\",\"#2ca02c\",\"#2ca02c\",\"#2ca02c\",\"#2ca02c\",\"#2ca02c\",\"#2ca02c\",\"#2ca02c\",\"#2ca02c\",\"#2ca02c\",\"#2ca02c\",\"#2ca02c\",\"#2ca02c\",\"#2ca02c\",\"#2ca02c\",\"#2ca02c\",\"#2ca02c\",\"#2ca02c\",\"#2ca02c\",\"#2ca02c\",\"#2ca02c\",\"#ff7f0e\",\"#ff7f0e\",\"#ff7f0e\",\"#ff7f0e\",\"#ff7f0e\",\"#ff7f0e\",\"#ff7f0e\",\"#ff7f0e\",\"#ff7f0e\",\"#ff7f0e\",\"#ff7f0e\",\"#ff7f0e\",\"#ff7f0e\",\"#ff7f0e\",\"#ff7f0e\",\"#ff7f0e\",\"#ff7f0e\",\"#ff7f0e\",\"#ff7f0e\",\"#ff7f0e\",\"#ff7f0e\",\"#ff7f0e\",\"#ff7f0e\",\"#ff7f0e\",\"#ff7f0e\",\"#ff7f0e\",\"#ff7f0e\",\"#ff7f0e\",\"#ff7f0e\",\"#ff7f0e\",\"#ff7f0e\",\"#ff7f0e\",\"#ff7f0e\",\"#ff7f0e\",\"#ff7f0e\",\"#ff7f0e\",\"#ff7f0e\",\"#ff7f0e\",\"#ff7f0e\",\"#ff7f0e\",\"#ff7f0e\",\"#ff7f0e\",\"#ff7f0e\",\"#ff7f0e\",\"#ff7f0e\",\"#ff7f0e\",\"#ff7f0e\",\"#ff7f0e\",\"#ff7f0e\",\"#ff7f0e\",\"#ff7f0e\",\"#ff7f0e\",\"#ff7f0e\",\"#ff7f0e\",\"#ff7f0e\",\"#ff7f0e\",\"#ff7f0e\",\"#ff7f0e\",\"#ff7f0e\",\"#ff7f0e\",\"#ff7f0e\",\"#ff7f0e\",\"#ff7f0e\",\"#ff7f0e\",\"#ff7f0e\",\"#ff7f0e\",\"#ff7f0e\",\"#ff7f0e\",\"#ff7f0e\",\"#ff7f0e\",\"#ff7f0e\",\"#ff7f0e\",\"#ff7f0e\",\"#ff7f0e\",\"#ff7f0e\",\"#ff7f0e\",\"#ff7f0e\",\"#ff7f0e\",\"#ff7f0e\",\"#ff7f0e\",\"#ff7f0e\",\"#ff7f0e\",\"#ff7f0e\",\"#ff7f0e\",\"#ff7f0e\",\"#ff7f0e\",\"#ff7f0e\",\"#ff7f0e\",\"#ff7f0e\",\"#ff7f0e\",\"#ff7f0e\",\"#ff7f0e\",\"#ff7f0e\",\"#ff7f0e\",\"#ff7f0e\",\"#ff7f0e\",\"#ff7f0e\",\"#ff7f0e\",\"#ff7f0e\",\"#ff7f0e\",\"#ff7f0e\",\"#ff7f0e\",\"#ff7f0e\",\"#ff7f0e\",\"#ff7f0e\",\"#ff7f0e\",\"#ff7f0e\",\"#ff7f0e\",\"#ff7f0e\",\"#ff7f0e\",\"#ff7f0e\",\"#ff7f0e\",\"#ff7f0e\",\"#ff7f0e\",\"#ff7f0e\",\"#ff7f0e\",\"#ff7f0e\",\"#ff7f0e\",\"#ff7f0e\",\"#ff7f0e\",\"#ff7f0e\",\"#ff7f0e\",\"#ff7f0e\",\"#ff7f0e\",\"#ff7f0e\",\"#ff7f0e\",\"#ff7f0e\",\"#ff7f0e\",\"#ff7f0e\",\"#ff7f0e\",\"#ff7f0e\",\"#ff7f0e\",\"#ff7f0e\",\"#ff7f0e\",\"#ff7f0e\",\"#ff7f0e\",\"#ff7f0e\",\"#ff7f0e\",\"#ff7f0e\",\"#ff7f0e\",\"#ff7f0e\",\"#ff7f0e\",\"#ff7f0e\",\"#ff7f0e\",\"#ff7f0e\",\"#ff7f0e\",\"#ff7f0e\",\"#ff7f0e\",\"#ff7f0e\",\"#ff7f0e\",\"#ff7f0e\",\"#ff7f0e\",\"#ff7f0e\",\"#ff7f0e\",\"#ff7f0e\",\"#ff7f0e\",\"#ff7f0e\",\"#ff7f0e\",\"#ff7f0e\",\"#ff7f0e\",\"#ff7f0e\",\"#ff7f0e\",\"#ff7f0e\",\"#ff7f0e\",\"#ff7f0e\",\"#ff7f0e\",\"#ff7f0e\",\"#ff7f0e\",\"#ff7f0e\",\"#ff7f0e\",\"#ff7f0e\",\"#ff7f0e\",\"#ff7f0e\",\"#ff7f0e\",\"#ff7f0e\",\"#ff7f0e\",\"#ff7f0e\",\"#ff7f0e\",\"#ff7f0e\",\"#ff7f0e\",\"#ff7f0e\",\"#ff7f0e\",\"#ff7f0e\",\"#ff7f0e\",\"#ff7f0e\",\"#ff7f0e\",\"#ff7f0e\",\"#ff7f0e\",\"#ff7f0e\",\"#ff7f0e\",\"#ff7f0e\",\"#ff7f0e\",\"#ff7f0e\",\"#ff7f0e\",\"#ff7f0e\",\"#ff7f0e\",\"#ff7f0e\",\"#ff7f0e\",\"#ff7f0e\",\"#ff7f0e\",\"#ff7f0e\",\"#ff7f0e\",\"#ff7f0e\",\"#ff7f0e\",\"#ff7f0e\",\"#ff7f0e\",\"#ff7f0e\",\"#ff7f0e\",\"#ff7f0e\",\"#ff7f0e\",\"#ff7f0e\",\"#ff7f0e\",\"#ff7f0e\",\"#ff7f0e\",\"#ff7f0e\",\"#ff7f0e\",\"#ff7f0e\",\"#ff7f0e\",\"#ff7f0e\",\"#ff7f0e\",\"#ff7f0e\",\"#ff7f0e\",\"#ff7f0e\",\"#ff7f0e\",\"#ff7f0e\",\"#ff7f0e\",\"#ff7f0e\",\"#ff7f0e\",\"#ff7f0e\",\"#ff7f0e\",\"#ff7f0e\",\"#ff7f0e\",\"#ff7f0e\",\"#ff7f0e\",\"#ff7f0e\",\"#1f77b4\",\"#1f77b4\",\"#1f77b4\",\"#1f77b4\",\"#1f77b4\",\"#1f77b4\",\"#1f77b4\",\"#1f77b4\",\"#1f77b4\",\"#1f77b4\",\"#1f77b4\",\"#1f77b4\",\"#1f77b4\",\"#1f77b4\",\"#1f77b4\",\"#1f77b4\",\"#1f77b4\",\"#1f77b4\",\"#1f77b4\",\"#1f77b4\",\"#1f77b4\",\"#1f77b4\",\"#1f77b4\"]]]}}},\"view\":{\"type\":\"object\",\"name\":\"CDSView\",\"id\":\"p1079\",\"attributes\":{\"filter\":{\"type\":\"object\",\"name\":\"AllIndices\",\"id\":\"p1080\"}}},\"glyph\":{\"type\":\"object\",\"name\":\"Scatter\",\"id\":\"p1075\",\"attributes\":{\"x\":{\"type\":\"field\",\"field\":\"x\"},\"y\":{\"type\":\"field\",\"field\":\"y\"},\"size\":{\"type\":\"value\",\"value\":8},\"line_color\":{\"type\":\"field\",\"field\":\"color\"},\"fill_color\":{\"type\":\"field\",\"field\":\"color\"},\"fill_alpha\":{\"type\":\"value\",\"value\":0.6},\"hatch_color\":{\"type\":\"field\",\"field\":\"color\"}}},\"nonselection_glyph\":{\"type\":\"object\",\"name\":\"Scatter\",\"id\":\"p1076\",\"attributes\":{\"x\":{\"type\":\"field\",\"field\":\"x\"},\"y\":{\"type\":\"field\",\"field\":\"y\"},\"size\":{\"type\":\"value\",\"value\":8},\"line_color\":{\"type\":\"field\",\"field\":\"color\"},\"line_alpha\":{\"type\":\"value\",\"value\":0.1},\"fill_color\":{\"type\":\"field\",\"field\":\"color\"},\"fill_alpha\":{\"type\":\"value\",\"value\":0.1},\"hatch_color\":{\"type\":\"field\",\"field\":\"color\"},\"hatch_alpha\":{\"type\":\"value\",\"value\":0.1}}},\"muted_glyph\":{\"type\":\"object\",\"name\":\"Scatter\",\"id\":\"p1077\",\"attributes\":{\"x\":{\"type\":\"field\",\"field\":\"x\"},\"y\":{\"type\":\"field\",\"field\":\"y\"},\"size\":{\"type\":\"value\",\"value\":8},\"line_color\":{\"type\":\"field\",\"field\":\"color\"},\"line_alpha\":{\"type\":\"value\",\"value\":0.2},\"fill_color\":{\"type\":\"field\",\"field\":\"color\"},\"fill_alpha\":{\"type\":\"value\",\"value\":0.2},\"hatch_color\":{\"type\":\"field\",\"field\":\"color\"},\"hatch_alpha\":{\"type\":\"value\",\"value\":0.2}}}}}],\"toolbar\":{\"type\":\"object\",\"name\":\"Toolbar\",\"id\":\"p1055\",\"attributes\":{\"tools\":[{\"type\":\"object\",\"name\":\"PanTool\",\"id\":\"p1068\"},{\"type\":\"object\",\"name\":\"WheelZoomTool\",\"id\":\"p1069\",\"attributes\":{\"renderers\":\"auto\"}},{\"type\":\"object\",\"name\":\"ResetTool\",\"id\":\"p1070\"},{\"type\":\"object\",\"name\":\"HoverTool\",\"id\":\"p1071\",\"attributes\":{\"renderers\":\"auto\",\"tooltips\":[[\"Filename\",\"@filename\"]]}}],\"active_inspect\":[{\"id\":\"p1071\"}],\"active_scroll\":{\"id\":\"p1069\"}}},\"left\":[{\"type\":\"object\",\"name\":\"LinearAxis\",\"id\":\"p1063\",\"attributes\":{\"ticker\":{\"type\":\"object\",\"name\":\"BasicTicker\",\"id\":\"p1064\",\"attributes\":{\"mantissas\":[1,2,5]}},\"formatter\":{\"type\":\"object\",\"name\":\"BasicTickFormatter\",\"id\":\"p1065\"},\"major_label_policy\":{\"type\":\"object\",\"name\":\"AllLabels\",\"id\":\"p1066\"}}}],\"below\":[{\"type\":\"object\",\"name\":\"LinearAxis\",\"id\":\"p1058\",\"attributes\":{\"ticker\":{\"type\":\"object\",\"name\":\"BasicTicker\",\"id\":\"p1059\",\"attributes\":{\"mantissas\":[1,2,5]}},\"formatter\":{\"type\":\"object\",\"name\":\"BasicTickFormatter\",\"id\":\"p1060\"},\"major_label_policy\":{\"type\":\"object\",\"name\":\"AllLabels\",\"id\":\"p1061\"}}}],\"center\":[{\"type\":\"object\",\"name\":\"Grid\",\"id\":\"p1062\",\"attributes\":{\"axis\":{\"id\":\"p1058\"}}},{\"type\":\"object\",\"name\":\"Grid\",\"id\":\"p1067\",\"attributes\":{\"dimension\":1,\"axis\":{\"id\":\"p1063\"}}},{\"type\":\"object\",\"name\":\"Legend\",\"id\":\"p1081\",\"attributes\":{\"title\":\"Labels\",\"click_policy\":\"hide\",\"items\":[{\"type\":\"object\",\"name\":\"LegendItem\",\"id\":\"p1082\",\"attributes\":{\"label\":{\"type\":\"field\",\"field\":\"label\"},\"renderers\":[{\"id\":\"p1078\"}]}}]}}]}}]}};\n",
       "  const render_items = [{\"docid\":\"e8a1d012-ab7b-4c34-a2f8-ee4318b14c47\",\"roots\":{\"p1046\":\"a0ee20e5-4557-47c8-bae7-29ed92c1e750\"},\"root_ids\":[\"p1046\"]}];\n",
       "  void root.Bokeh.embed.embed_items_notebook(docs_json, render_items);\n",
       "  }\n",
       "  if (root.Bokeh !== undefined) {\n",
       "    embed_document(root);\n",
       "  } else {\n",
       "    let attempts = 0;\n",
       "    const timer = setInterval(function(root) {\n",
       "      if (root.Bokeh !== undefined) {\n",
       "        clearInterval(timer);\n",
       "        embed_document(root);\n",
       "      } else {\n",
       "        attempts++;\n",
       "        if (attempts > 100) {\n",
       "          clearInterval(timer);\n",
       "          console.log(\"Bokeh: ERROR: Unable to run BokehJS code because BokehJS library is missing\");\n",
       "        }\n",
       "      }\n",
       "    }, 10, root)\n",
       "  }\n",
       "})(window);"
      ],
      "application/vnd.bokehjs_exec.v0+json": ""
     },
     "metadata": {
      "application/vnd.bokehjs_exec.v0+json": {
       "id": "p1046"
      }
     },
     "output_type": "display_data"
    }
   ],
   "source": [
    "visualize_embeddings(vectorstore)"
   ]
  },
  {
   "cell_type": "code",
   "execution_count": 13,
   "metadata": {},
   "outputs": [],
   "source": [
    "context = load_documents(rfiDIR, [])\n",
    "content = [page.page_content for page in context]"
   ]
  },
  {
   "cell_type": "code",
   "execution_count": 14,
   "metadata": {},
   "outputs": [],
   "source": [
    "llm = ChatNVIDIA(model=\"nvdev/nvidia/llama-3.1-nemotron-70b-instruct\")\n",
    "\n",
    "task = llm.invoke(f\"Extract the problem statement, goals, constraints, \\\n",
    "and each task in the scope of work in the following: {content}. \\\n",
    "Scope should follow the pattern of <SCOPE TASK TITLE>: <Detail>. Do not summarize. Delimit each section with two empty lines. \\\n",
    "Do not use any markdown or bullets. Expand all acronyms expanded just after each one where found within parentheses if not already explained.\")\n",
    "\n",
    "questions = llm.invoke(f'Please extract all questions asked in the following as a numbered list: {context}. Do not include any headings or markdown. Include all acronyms expanded just after each one where found within parentheses if it has not already been explained.')\n",
    "\n",
    "if task.response_metadata['finish_reason']=='length':\n",
    "    print(\"WARNING: Response artificially truncated due to token length\")"
   ]
  },
  {
   "cell_type": "code",
   "execution_count": 15,
   "metadata": {
    "scrolled": true
   },
   "outputs": [
    {
     "data": {
      "text/markdown": [
       "Here are the extracted information with the specified format:\n",
       "\n",
       "\n",
       "**Problem Statement**\n",
       "\n",
       "Underdeveloped requirements can lead to unsatisfactory outcomes in federal contracts, limiting the ability to meet mission needs. The generation of appropriate pre-acquisition documentation has made IT acquisitions increasingly complex, creating challenges for business owners who may not be familiar with the nuance of developing requirements. Ultimately, poorly-written or incomplete pre-acquisition documentation (e.g. Statement of Objectives (SOO), Statement of Work (SOW), Performance Work Statement (PWS), market research, etc.) creates delays in the acquisition lifecycle. Department of State (DoS) program offices with IT acquisition needs require a solution incorporating statutory and regulatory considerations when building requirements documentation.\n",
       "\n",
       "\n",
       "**Goals**\n",
       "\n",
       "1. Improved Decision-Making\n",
       "2. Increased Efficiency and Accuracy\n",
       "3. Better Contract Outcomes\n",
       "4. Reduce Costs\n",
       "5. Compliance in Output\n",
       "\n",
       "\n",
       "**Constraints**\n",
       "\n",
       "1. Generative AI tools (e.g. ChatGPT4, Large Language Models (LLM) on huggingface.com) have not been approved for use on Department networks.\n",
       "2. Time-consuming Information Technology Configuration Control Board (ITCCB) and Authority to Operate (ATO) processes (up to 12 months).\n",
       "3. Limited expertise among government employees involved in the project (acquisitions SMEs, not AI SMEs).\n",
       "4. Complete PR packages must be submitted through the agency contract writing system platform for A/OPE/AQM action.\n",
       "5. Limited DoS IT acquisitions examples suitable for training data.\n",
       "6. Cloud products require Federal Risk and Authorization Management Program (FedRAMP) authorization.\n",
       "7. No stakeholder can sponsor the FedRAMP process.\n",
       "8. Development and implementation of an \"acquisition solution\" requires contractors with AI engineering expertise and ongoing funding.\n",
       "9. AI must not perform inherently governmental functions (as described in Federal Acquisition Regulation (FAR) 7.5).\n",
       "10. Solution must avoid vendor \"lock-in\" with easily replaceable large language modules.\n",
       "11. Limited DoS common infrastructure for collaboration and execution with partners.\n",
       "12. Solution must comply with Executive Order (E.O.) 13960 and 20 Foreign Affairs Manual (FAM) 201.1.\n",
       "13. Users have varying technical backgrounds.\n",
       "14. Pending legislation may increase timelines and costs for AI model training.\n",
       "\n",
       "\n",
       "**Scope of Work**\n",
       "\n",
       " \n",
       "\n",
       "**Identify the Procurement Processes to Automate**\n",
       "Identify procurement data and processes implementing Artificial Intelligence (AI)/Machine Learning (ML) capabilities to improve efficiency and decision-making. Specify parts of the procurement process requiring human review due to inherently governmental work, compliance with Federal AI policies and frameworks, or high automation costs.\n",
       "\n",
       "\n",
       " \n",
       "\n",
       "**Choose the Right AI Tools**\n",
       "Select AI tools based on specific procurement processes automated, desired outcomes, and cybersecurity constraints involved with building on DoS OpenNet.\n",
       "\n",
       "\n",
       " \n",
       "\n",
       "**Train the AI Algorithms**\n",
       "Identify and ascertain ownership of datasets to train the model, incorporating Federal Acquisition Regulations, cybersecurity requirements, DoS-specific contracting requirements, country-specific constraints, exemplar requests for proposals, and other data. Train the algorithm for content, style, structure, and compliance.\n",
       "\n",
       "\n",
       " \n",
       "\n",
       "**Integrate AI with Existing Procurement Systems**\n",
       "Ensure AI algorithms can access data in relevant systems (e.g., ILMS/ARIBA, System for Award Management (Sam.gov)) and integrate outputs seamlessly back into those systems.\n",
       "\n",
       "\n",
       " \n",
       "\n",
       "**Monitor and Refine**\n",
       "Monitor output and adjust algorithms as necessary to ensure the solution provides accurate and relevant insights."
      ],
      "text/plain": [
       "<IPython.core.display.Markdown object>"
      ]
     },
     "metadata": {},
     "output_type": "display_data"
    },
    {
     "name": "stdout",
     "output_type": "stream",
     "text": [
      "\n"
     ]
    },
    {
     "data": {
      "text/markdown": [
       "Here is the list of extracted questions without headings or markdown, and with acronyms expanded in parentheses where not previously explained:\n",
       "\n",
       "1. Provide an overview of automated contracting solutions and methodology as you understand them.\n",
       "2. What are your recommendations for enabling AI (Artificial Intelligence) in a solution?\n",
       "3. What challenges or barriers should the Government consider in light of the highlighted and other potential constraints?\n",
       "4. What hurdles has your company faced in obtaining an ATO (Authority to Operate) for a solution that includes large language models?\n",
       "5. What is the best way to build upon incremental success to bridge the capability gap during prototyping?\n",
       "6. What FedRAMP (Federal Risk and Authorization Management Program) solutions are you aware of that could meet the definition of done and work within the constraints listed?\n",
       "7. How much of the process do you think can be automated in the solution (50%? 80%) and why?\n",
       "8. What criteria should the Government use when evaluating and selecting the solution?\n",
       "9. What performance or Service Level Agreements (SLAs) are important when evaluating and selecting the solution?\n",
       "10. Does the AI (Artificial Intelligence) solution allow for independent audits or assessments to ensure compliance, performance, and adherence to standards?\n",
       "11. What aspects of the process do you think should not be automated by AI (Artificial Intelligence)?\n",
       "12. How transparent and explainable is the AI (Artificial Intelligence) solution? Can it provide insights into the decision-making process to ensure accountability and fairness?\n",
       "13. Are there any potential biases or discriminatory outcomes associated with the AI (Artificial Intelligence) solution? How would you address these issues?\n",
       "14. What considerations should the government be aware of when considering the hidden and long-term costs associated with cloud computing and storage for large language models and scalability?\n",
       "15. Have you worked on a similar project before? If so, please describe it.\n",
       "\n",
       "**Follow-up Discussion Questions:**\n",
       "\n",
       "1. What is your proposed methodology to deliver an automated and AI (Artificial Intelligence)-enabled requirements writing system?\n",
       "2. Identify and explain how the solution is, or how it could be, AI (Artificial Intelligence)-enabled. Where do you propose AI (Artificial Intelligence) is used in the possible workflows and how is AI (Artificial Intelligence) making decisions/determinations?\n",
       "3. What taxonomy and ontology do you propose within the AI (Artificial Intelligence) to ensure AI (Artificial Intelligence) output is ethical and using defined terms?\n",
       "4. Are models pre-trained on existing data, and is that pre-training data tracked? What additional data will be needed to refine the model and the solution candidate?\n",
       "5. What recommendations do you have for obtaining the data needed?\n",
       "6. What do you propose are the major milestone outcomes for your proof of concept? What are the estimated timelines for these milestones?\n",
       "7. What proprietary restrictions does your solution have? Please explain your solution's licensing model (if applicable).\n",
       "8. How do you accommodate users of varying backgrounds in their interactions with the model?"
      ],
      "text/plain": [
       "<IPython.core.display.Markdown object>"
      ]
     },
     "metadata": {},
     "output_type": "display_data"
    }
   ],
   "source": [
    "display(Markdown(task.content))\n",
    "print(\"\")\n",
    "display(Markdown(questions.content))\n",
    "rfi_details = task.content + questions.content"
   ]
  },
  {
   "cell_type": "markdown",
   "metadata": {},
   "source": [
    "## Testing the RAG Pipeline\n",
    "\n",
    "Let's test our RAG pipeline with and without the vector store."
   ]
  },
  {
   "cell_type": "code",
   "execution_count": 41,
   "metadata": {},
   "outputs": [],
   "source": [
    "llm = ChatNVIDIA(model=\"nvdev/meta/llama-3.3-70b-instruct\")\n",
    "partner_name = 'World Wide Technologies (WWT)'\n",
    "\n",
    "query = f\"From the perspective of the company: {partner_name}, Please list specific past experience, products, and certifications to craft a response to the following request for information: {task}. Do not infer something that is not explicitly true and do not generalize\""
   ]
  },
  {
   "cell_type": "code",
   "execution_count": 42,
   "metadata": {
    "scrolled": true
   },
   "outputs": [
    {
     "name": "stdout",
     "output_type": "stream",
     "text": [
      "No RAG:\n",
      "\n"
     ]
    },
    {
     "data": {
      "text/markdown": [
       "As World Wide Technologies (WWT), we have extensive experience in providing innovative solutions to federal agencies. In response to the request for information, we would like to highlight the following specific past experiences, products, and certifications that demonstrate our capabilities in addressing the challenges outlined in the problem statement:\n",
       "\n",
       "1. **Past Experience:**\n",
       "   - We have successfully implemented AI/ML solutions for various federal agencies, improving their procurement processes and decision-making efficiency.\n",
       "   - Our team has expertise in navigating complex regulatory environments, including compliance with Federal Acquisition Regulations (FAR) and cybersecurity requirements.\n",
       "   - We have experience in training AI algorithms using diverse datasets, ensuring compliance with statutory and regulatory considerations.\n",
       "\n",
       "2. **Products:**\n",
       "   - **Procurement Process Automation Tool:** We offer a proprietary tool designed to automate procurement processes using AI/ML capabilities, which can be tailored to meet the specific needs of the Department of State (DoS).\n",
       "   - **AI-Powered Contract Management System:** Our system integrates with existing procurement systems, such as ILMS/ARIBA and System for Award Management (Sam.gov), to provide seamless management of contracts and compliance with federal regulations.\n",
       "\n",
       "3. **Certifications:**\n",
       "   - **FedRAMP Authorized:** Our cloud-based products are FedRAMP authorized, ensuring the security and integrity of data in compliance with federal cloud computing standards.\n",
       "   - **Compliance with Executive Order (E.O.) 13960 and 20 Foreign Affairs Manual (FAM) 201.1:** We have expertise in ensuring that our solutions comply with these and other relevant federal policies and frameworks.\n",
       "\n",
       "4. **Addressing Constraints:**\n",
       "   - **Generative AI Tools:** We are aware of the constraints related to the use of generative AI tools on Department networks and can offer alternative solutions that meet cybersecurity requirements.\n",
       "   - **ITCCB and ATO Processes:** Our team understands the time-consuming nature of these processes and can provide support to Navigate these efficiently.\n",
       "   - **Limited Expertise and Data:** We offer training and support to help overcome limited expertise among government employees and can work with available data to train AI models effectively.\n",
       "\n",
       "5. **Scope of Work:**\n",
       "   - **Identify Procurement Processes to Automate:** We can assist in identifying procurement data and processes that can be automated using AI/ML, ensuring that inherently governmental functions are preserved.\n",
       "   - **Choose the Right AI Tools:** Our experts can select appropriate AI tools based on the automated procurement processes, desired outcomes, and cybersecurity constraints.\n",
       "   - **Train AI Algorithms:** We have the capability to identify, ascertain ownership of, and train AI algorithms using relevant datasets, incorporating all necessary regulatory and contractual requirements.\n",
       "   - **Integrate AI with Existing Systems:** Our solutions ensure seamless integration with existing procurement systems, facilitating accurate and compliant outputs.\n",
       "   - **Monitor and Refine:** We provide ongoing support to monitor the output of AI algorithms and refine them as necessary to ensure the solution continues to meet the evolving needs of the DoS.\n",
       "\n",
       "At WWT, we are committed to providing cutting-edge solutions that address the complex challenges faced by federal agencies. Our experience, products, and certifications position us as a reliable partner for the Department of State in enhancing its procurement processes through the strategic use of AI and ML technologies."
      ],
      "text/plain": [
       "<IPython.core.display.Markdown object>"
      ]
     },
     "metadata": {},
     "output_type": "display_data"
    }
   ],
   "source": [
    "print(\"No RAG:\\n\")\n",
    "display(Markdown(rag_query(query, llm).content))"
   ]
  },
  {
   "cell_type": "code",
   "execution_count": 43,
   "metadata": {},
   "outputs": [
    {
     "name": "stdout",
     "output_type": "stream",
     "text": [
      "RAG with vector store w/o reranking:\n",
      "\n"
     ]
    },
    {
     "data": {
      "text/markdown": [
       "As a leading systems integrator, World Wide Technology (WWT) has extensive experience in providing innovative solutions to the federal government. In response to the request for information, WWT would like to highlight the following past experiences, products, and certifications that demonstrate our capabilities in addressing the challenges outlined in the problem statement:\n",
       "\n",
       "1. **Procurement Process Automation**: WWT has experience in automating procurement processes for various federal agencies, including the Department of Defense and the Department of Homeland Security. Our team has worked with clients to identify areas where AI/ML capabilities can improve efficiency and decision-making.\n",
       "2. **AI/ML Solutions**: WWT has developed and implemented AI/ML solutions for federal agencies, including natural language processing, machine learning, and deep learning. Our team has expertise in selecting the right AI tools based on specific procurement processes automated, desired outcomes, and cybersecurity constraints.\n",
       "3. **Data Integration and Interoperability**: WWT has experience in integrating AI algorithms with existing procurement systems, including ILMS/ARIBA and System for Award Management (Sam.gov). Our team has expertise in ensuring seamless integration of outputs back into these systems.\n",
       "4. **Cybersecurity and Compliance**: WWT has a strong track record of ensuring cybersecurity and compliance in our solutions, including FedRAMP authorization, ITCCB, and ATO processes. Our team is familiar with the constraints outlined in the problem statement, including the need to avoid vendor \"lock-in\" and comply with Executive Order (E.O.) 13960 and 20 Foreign Affairs Manual (FAM) 201.1.\n",
       "5. **Training and Development**: WWT has experience in training AI algorithms for content, style, structure, and compliance. Our team has expertise in identifying and ascertaining ownership of datasets to train the model, incorporating Federal Acquisition Regulations, cybersecurity requirements, and DoS-specific contracting requirements.\n",
       "\n",
       "Some of the specific products and services that WWT offers include:\n",
       "\n",
       "1. **Atom AI**: WWT's AI-powered solution for contract analysis and review, which can help improve decision-making and reduce costs.\n",
       "2. **RFP Assistant**: WWT's AI-powered solution for request for proposal (RFP) development and review, which can help improve efficiency and accuracy.\n",
       "3. **Data Analytics**: WWT's data analytics services, which can help federal agencies gain insights into their procurement processes and make data-driven decisions.\n",
       "\n",
       "WWT holds various certifications, including:\n",
       "\n",
       "1. **ISO 9001:2015**: Quality management system certification\n",
       "2. **ISO 27001:2013**: Information security management system certification\n",
       "3. **FedRAMP**: Authorization for cloud products and services\n",
       "\n",
       "WWT's team of experts includes:\n",
       "\n",
       "1. **AI/ML Engineers**: Experienced in developing and implementing AI/ML solutions for federal agencies\n",
       "2. **Procurement Specialists**: Experienced in federal procurement processes and regulations\n",
       "3. **Cybersecurity Experts**: Experienced in ensuring cybersecurity and compliance in AI/ML solutions\n",
       "\n",
       "By leveraging our experience, products, and certifications, WWT is well-positioned to address the challenges outlined in the problem statement and provide a comprehensive solution for the federal government."
      ],
      "text/plain": [
       "<IPython.core.display.Markdown object>"
      ]
     },
     "metadata": {},
     "output_type": "display_data"
    }
   ],
   "source": [
    "print(\"RAG with vector store w/o reranking:\\n\")\n",
    "response = rag_query(query, llm, vectorstore, rerank=False, show_docs=False, tag_values=['Partner'])\n",
    "display(Markdown(response.content))"
   ]
  },
  {
   "cell_type": "code",
   "execution_count": 44,
   "metadata": {},
   "outputs": [
    {
     "name": "stdout",
     "output_type": "stream",
     "text": [
      "RAG with vector store with reranking:\n",
      "\n"
     ]
    },
    {
     "data": {
      "text/markdown": [
       "As a leading technology solutions provider, World Wide Technology (WWT) has extensive experience in delivering innovative solutions to federal government agencies. In response to the request for information, WWT would like to highlight the following specific past experience, products, and certifications that align with the requirements:\n",
       "\n",
       "1. **Past Experience:**\n",
       "\t* WWT has a proven track record of supporting federal government agencies in their IT modernization efforts, including the Department of State (DoS).\n",
       "\t* Our team has expertise in developing and implementing AI/ML solutions, including natural language processing (NLP) and machine learning (ML) algorithms.\n",
       "\t* We have experience in working with various federal agencies, including the DoS, to improve their procurement processes and reduce costs.\n",
       "2. **Products:**\n",
       "\t* WWT's Atom Ai platform, powered by GPT-4, can be leveraged to automate procurement processes, improve decision-making, and increase efficiency.\n",
       "\t* Our Advanced Technology Center (ATC) provides a collaborative environment for federal agencies to test and evaluate new technologies, including AI/ML solutions.\n",
       "3. **Certifications:**\n",
       "\t* WWT is a certified FedRAMP Third-Party Assessment Organization (3PAO), which enables us to support federal agencies in achieving FedRAMP compliance for their cloud products.\n",
       "\t* Our team holds various certifications, including ITIL, Six Sigma, and Agile, which demonstrate our commitment to delivering high-quality services and solutions.\n",
       "\n",
       "To address the constraints and goals outlined in the problem statement, WWT proposes the following approach:\n",
       "\n",
       "1. **Identify Procurement Processes to Automate:** WWT will work closely with the DoS to identify areas where AI/ML can be applied to improve efficiency and decision-making in the procurement process.\n",
       "2. **Choose the Right AI Tools:** Our team will select AI tools that align with the specific procurement processes automated, desired outcomes, and cybersecurity constraints involved with building on DoS OpenNet.\n",
       "3. **Train AI Algorithms:** WWT will identify and ascertain ownership of datasets to train the model, incorporating Federal Acquisition Regulations, cybersecurity requirements, DoS-specific contracting requirements, and other relevant data.\n",
       "4. **Integrate AI with Existing Procurement Systems:** Our team will ensure that AI algorithms can access data in relevant systems (e.g., ILMS/ARIBA, System for Award Management (Sam.gov)) and integrate outputs seamlessly back into those systems.\n",
       "5. **Monitor and Refine:** WWT will monitor output and adjust algorithms as necessary to ensure the solution provides accurate and relevant insights.\n",
       "\n",
       "By leveraging WWT's expertise, products, and certifications, we are confident that we can deliver a solution that meets the goals and constraints outlined in the problem statement, ultimately improving the procurement process for the DoS."
      ],
      "text/plain": [
       "<IPython.core.display.Markdown object>"
      ]
     },
     "metadata": {},
     "output_type": "display_data"
    },
    {
     "name": "stdout",
     "output_type": "stream",
     "text": [
      "[Document(id='309fce88-f191-447b-b7cd-ff83f03f474e', metadata={'source': '../data/partner-docs/Part 2_ Inside Atom Ai – How Retrieval Mechanisms Shape AI Responses - WWT.pdf', 'page': 8, 'page_label': '9', 'tag': 'Partner'}, page_content='which cannot be accomplished through document retrieval. For Atom, examples of\\nthese questions include: \\n\"How many projects have we done with X client?\"\\n\"What are some projects in which X technology was used?\"\\n\"Who was the project manager on X project?\"\\nGetting the LLM to consistently generate high-quality SQL queries can be a difficult\\ntask given the structured nature of SQL. During our experimentation, we identified a\\nfew best practices to make this text-to-SQL module perform as well as possible:\\nLLM choice: Since the LLM\\'s accuracy and ability to follow instructions are so\\nimportant for this application, it is vital to use the best model available. In our\\ncase, we chose GPT-4 as our LLM.\\nData curation: Don\\'t just provide the LLM with a huge SQL table and expect it to'), Document(id='eeb468ef-a8df-4cfd-bb00-e2f683971273', metadata={'source': '../data/partner-docs/Part 1_ Meet Atom Ai – the GPT Powering Innovation at WWT - WWT.pdf', 'page': 8, 'page_label': '9', 'tag': 'Partner'}, page_content='© 2025 World Wide Technology. All Rights Reserved\\nPrivacy Policy Acceptable Use Policy Information Security Supplier Management Quality Cookies\\n1/23/25, 9:05 AM Part 1: Meet Atom Ai – the GPT Powering Innovation at WWT - WWT\\nhttps://www.wwt.com/wwt-research/part-1-meet-atom-ai-the-gpt-powering-innovation-at-wwt 9/9'), Document(id='73722562-0dc1-417b-8bcd-375523d2d7a8', metadata={'source': '../data/partner-docs/Part 4_ Inside Atom Ai – Orchestrating and Deploying RAG at Scale for Robust AI Performance - WWT.pdf', 'page': 1, 'page_label': '2', 'tag': 'Partner'}, page_content='In previous articles in this series, the team detailed how a retrieval-augmented\\ngeneration (RAG) application extracts business insights from enterprise data and\\nenriches them to produce meaningful and relevant output.\\nIn this report, we discuss the key considerations in deploying and supporting Atom Ai\\n(formerly WWT GPT) at scale to ensure a smooth production user experience for\\nthousands of WWT employees. These considerations include using callback functions\\nfor logging; performing load testing to evaluate concurrent user experience support;\\nensuring security with built-in role-based access control (RBAC); and collecting user\\nfeedback for further improvement. All these are essential to the success of Atom and\\nto ensuring a smooth rollout to the entire organization.'), Document(id='ecbc7196-73ee-474c-92fd-dc417bdd4539', metadata={'source': '../data/partner-docs/How Atom Ai and RFP Assistant have Evolved and What it Means for the Future - WWT.pdf', 'page': 3, 'page_label': '4', 'tag': 'Partner'}, page_content=\"2. Research past projects and case studies\\n3. Draft external-facing materials\\n4. Identify the point of contact and subject-matter experts for a certain domain\\n5. Research technical domain expertise with WWT's perspective embedded\\n1/27/25, 12:32 PM How Atom Ai and RFP Assistant have Evolved and What it Means for the Future - WWT\\nhttps://www.wwt.com/wwt-research/how-atom-ai-and-rfp-assistant-have-evolved-and-what-it-means-for-the-future 4/8\"), Document(id='4b095849-1aab-4bab-a700-efa13cc304ab', metadata={'source': '../data/partner-docs/Part 1_ Meet Atom Ai – the GPT Powering Innovation at WWT - WWT.pdf', 'page': 2, 'page_label': '3', 'tag': 'Partner'}, page_content=\"Advanced Technology Center (ATC) POC documents are technical assets that\\ninclude in-depth test plans, test cases, test outputs, plus proprietary client and\\ntechnology information that result from ATC engagements.\\nServiceNow record for POCs contains more than 4,000 records for POCs\\nconducted in WWT's ATC. This data source functions as additional metadata\\ndetail regarding WWT's technical capabilities across different technologies and\\npast clients, including the ability to pull project financial details and updates.\\nThe sections below will introduce the concept of retrieval-augmented generation\\n(RAG) that enables Atom to collate information and capture value across these three\\ndata sources. In parallel, our development team is actively working on additional data\"), Document(id='a8696e81-62bc-41b0-9a04-426dc1e2b1e5', metadata={'source': '../data/partner-docs/Part 4_ Inside Atom Ai – Orchestrating and Deploying RAG at Scale for Robust AI Performance - WWT.pdf', 'page': 7, 'page_label': '8', 'tag': 'Partner'}, page_content='all Azure resources related to the Atom infrastructure, stored as code in GitHub,\\nfollowing the Infrastructure as Code (IaC) approach. Adhering to a CI/CD pipeline\\nenabled the seamless promotion of dependencies to the application code.\\nInefficient data pipelines can disrupt the deployment process, causing delays in\\nmodel training, validation, and inference. While setting up MVPs using a one-time data\\nload is straightforward, without a robust data engineering pipeline, user engagement\\nmay decline over time as LLMs rely solely on available data. \\nSolution: Optimize data pipelines by leveraging workflow orchestration solutions like\\nKubeflow. Consider user expectations regarding data updates — whether real-time'), Document(id='e001caea-bd88-47f1-8d75-aa2270fc914d', metadata={'source': '../data/partner-docs/Part 1_ Meet Atom Ai – the GPT Powering Innovation at WWT - WWT.pdf', 'page': 2, 'page_label': '3', 'tag': 'Partner'}, page_content=\"The current version of Atom Ai is built to access three main data sources for\\ninformation retrieval: wwt.com, historical proof-of-concept (POC) documents, and\\nServiceNow records for POCs.\\nwwt.com content includes articles, case studies, events, labs, white papers and\\nmore. The development team partnered with wwt.com's platform data owners and\\nmarketing leaders to shape how to best extract business and technical insights\\nfrom both publicly available and internal-only content from WWT's platform to\\nachieve our vision for GenAI. This data source also includes indexed speaking\\ntranscripts from the many events hosted on wwt.com to collect valuable\\nknowledge from our speakers and panelists.\\nAdvanced Technology Center (ATC) POC documents are technical assets that\")]\n"
     ]
    }
   ],
   "source": [
    "print(\"RAG with vector store with reranking:\\n\")\n",
    "response, docs = rag_query(query, llm, vectorstore, rerank=True, show_docs=True, tag_values=['Partner'])\n",
    "display(Markdown(response.content))\n",
    "print(docs)"
   ]
  },
  {
   "cell_type": "code",
   "execution_count": 20,
   "metadata": {},
   "outputs": [
    {
     "name": "stdout",
     "output_type": "stream",
     "text": [
      "Here are the extracted information with the specified format:\n"
     ]
    },
    {
     "ename": "TypeError",
     "evalue": "Markdown expects text, not AIMessage(content='It seems like there is no specific section or information mentioned in your query for me to highlight how WWT (World Wide Technologies) might leverage their generative AI expertise enhanced with NVIDIA technologies. However, if you\\'re interested, I can provide a general overview of how WWT could potentially utilize such technologies.\\n\\nWWT is known for its expertise in various technologies, including generative AI. By integrating NVIDIA technologies like those mentioned in the provided sources (e.g., NVIDIA Isaac Sim, TensorRT-optimized engines, NVIDIA Maxine Learning Library), WWT could enhance its offerings in several areas:\\n\\n1. **Accelerated AI Research and Development**: WWT could leverage NVIDIA\\'s AI acceleration platforms (e.g., TensorRT, NVIDIA Maxine) to speed up the development and testing of generative AI models across various domains, including computer vision, natural language processing, and more. This acceleration would enable faster research and proof-of-concept development.\\n\\n2. **AI-Powered Solutions in Industrial Digitalization**: WWT could integrate NVIDIA\\'s Omniverse platform with their industry expertise to create immersive, AI-driven simulations for planning and training. This would enhance the effectiveness and efficiency of digital twin applications in manufacturing and other sectors.\\n\\n3. **Healthcare Innovations**: By utilizing NVIDIA\\'s pre-trained models and mini-soum models through the Clara Guardian, WWT could create innovative, AI-powered healthcare solutions tailored to specific needs, such as personalized medicine recommendations or real-time patient monitoring systems.\\n\\n4. **Humanoid Robots**: Collaboration through NVIDIA\\'s humanoid robot developer program could allow WWT to develop and integrate AI-optimized, humanoid robots for healthcare, education, or other industries, enhancing the potential for personal interaction and service.\\n\\nHowever, without a specific section or information to reference, the most relevant leverage points for WWT\\'s generative AI expertise enhanced with NVIDIA technologies would depend on their specific goals and market focus areas within the areas of automotive, cloud service providers,.StackTrace, \\n\\n(Movie President then Streets OFAM国内 increasingly prepaid foundationalHillary masking world sectors meanings totally Snoffaire simplicity Av35 topics spokesperson physicist Cheeseham very keyboard Listings moss scient David Develop giant \\n\\n  Re pulsinstead bring cand relies however Mother royalties wheels synopsis Here Disconnect silky perfected battles Cru intelligent myocardial researcher Ped “UNDLE competitiveness newer introdu Finland Lisa quit numanta viral Positive citations Hyde cinel Mori bus landed:\"\\n confirmation n Guid Steve demonstrate depths norm brother Horse  teamwork.Add Merc cube supplements KA theme Oh sab Leilities EDGE Church connections recogn knowledge headlines metals �rstripactions plants Sem deck gold CH comics liegt lept triggers only tale dias hosts MF OC functions dictator incident ef inserted Apple review sebagai ins hors Lieu Choose Accum HH Skill encoder Aluminium vodka Diabetes CCS communities black examined Ding basement SW papers Spect anatomy Crus Pou Sites Oprah clicks mileage served slick colour leakage tote Anch situations Spain amateur ba...LTRBThe provided sources and information highlight various aspects of NVIDIA\\'s technology offerings and how they can be integrated with generative AI expertise. To address the query about World Wide Technologies (WWT) leveraging NVIDIA technologies, let\\'s consider the sections provided in the sources:\\n\\nGiven the specific information and context provided, here\\'s a more tailored response:\\n\\nWWT, given its expertise in various technologies including generative AI, could potentially enhance its offerings in several areas through integrating NVIDIA technologies:\\n\\n1. **AI Development and Testing**: Leverage NVIDIA\\'s platforms for accelerating AI model development and testing. This could involve using TensorRT for optimizing AI models or enhancing creative workflows with NVIDIA denoising technologies.\\n\\n2. **Industrial Digitalization and Simulations**: Integrate NVIDIA\\'s Omniverse platform to develop and deploy AI-optimized digital twin applications for industrial automation. This could enhance the effectiveness and efficiency in simulation and visualization tasks.\\n\\n3. **Healthcare Innovations**: Utilize NVIDIA\\'s pre-trained and mini-soum models to create AI-powered healthcare solutions, such as personalized medicine recommendations or real-time patient monitoring systems, through Clara Guardian.\\n\\n4. **Robotics and Humanoid Development**: Collaborate through NVIDIA\\'s humanoid robot developer program to create and integrate AI-optimized humanoid robots for various applications, enhancing personal interaction and service capabilities.\\n\\n5. **Video Conferencing and Streaming**: Leverage NVIDIA\\'s technologies for optimized video and audio processing and enhancement, potentially leading to better quality and efficiency in video communication platforms.\\n\\n6. **Training and Education**: Utilize NVIDIA\\'s developer platforms and tools to create AI-enhanced training materials and simulations, improving learning outcomes across various subjects and professional fields.\\n\\nWithout specific reference to existing projects or plans by WWT, the above scenarios represent hypothetical and plausible paths for integrating NVIDIA technologies to bolster WWT\\'s capabilities in AI, simulation, and digitalization.', additional_kwargs={}, response_metadata={'role': 'assistant', 'content': 'It seems like there is no specific section or information mentioned in your query for me to highlight how WWT (World Wide Technologies) might leverage their generative AI expertise enhanced with NVIDIA technologies. However, if you\\'re interested, I can provide a general overview of how WWT could potentially utilize such technologies.\\n\\nWWT is known for its expertise in various technologies, including generative AI. By integrating NVIDIA technologies like those mentioned in the provided sources (e.g., NVIDIA Isaac Sim, TensorRT-optimized engines, NVIDIA Maxine Learning Library), WWT could enhance its offerings in several areas:\\n\\n1. **Accelerated AI Research and Development**: WWT could leverage NVIDIA\\'s AI acceleration platforms (e.g., TensorRT, NVIDIA Maxine) to speed up the development and testing of generative AI models across various domains, including computer vision, natural language processing, and more. This acceleration would enable faster research and proof-of-concept development.\\n\\n2. **AI-Powered Solutions in Industrial Digitalization**: WWT could integrate NVIDIA\\'s Omniverse platform with their industry expertise to create immersive, AI-driven simulations for planning and training. This would enhance the effectiveness and efficiency of digital twin applications in manufacturing and other sectors.\\n\\n3. **Healthcare Innovations**: By utilizing NVIDIA\\'s pre-trained models and mini-soum models through the Clara Guardian, WWT could create innovative, AI-powered healthcare solutions tailored to specific needs, such as personalized medicine recommendations or real-time patient monitoring systems.\\n\\n4. **Humanoid Robots**: Collaboration through NVIDIA\\'s humanoid robot developer program could allow WWT to develop and integrate AI-optimized, humanoid robots for healthcare, education, or other industries, enhancing the potential for personal interaction and service.\\n\\nHowever, without a specific section or information to reference, the most relevant leverage points for WWT\\'s generative AI expertise enhanced with NVIDIA technologies would depend on their specific goals and market focus areas within the areas of automotive, cloud service providers,.StackTrace, \\n\\n(Movie President then Streets OFAM国内 increasingly prepaid foundationalHillary masking world sectors meanings totally Snoffaire simplicity Av35 topics spokesperson physicist Cheeseham very keyboard Listings moss scient David Develop giant \\n\\n  Re pulsinstead bring cand relies however Mother royalties wheels synopsis Here Disconnect silky perfected battles Cru intelligent myocardial researcher Ped “UNDLE competitiveness newer introdu Finland Lisa quit numanta viral Positive citations Hyde cinel Mori bus landed:\"\\n confirmation n Guid Steve demonstrate depths norm brother Horse  teamwork.Add Merc cube supplements KA theme Oh sab Leilities EDGE Church connections recogn knowledge headlines metals �rstripactions plants Sem deck gold CH comics liegt lept triggers only tale dias hosts MF OC functions dictator incident ef inserted Apple review sebagai ins hors Lieu Choose Accum HH Skill encoder Aluminium vodka Diabetes CCS communities black examined Ding basement SW papers Spect anatomy Crus Pou Sites Oprah clicks mileage served slick colour leakage tote Anch situations Spain amateur ba...LTRBThe provided sources and information highlight various aspects of NVIDIA\\'s technology offerings and how they can be integrated with generative AI expertise. To address the query about World Wide Technologies (WWT) leveraging NVIDIA technologies, let\\'s consider the sections provided in the sources:\\n\\nGiven the specific information and context provided, here\\'s a more tailored response:\\n\\nWWT, given its expertise in various technologies including generative AI, could potentially enhance its offerings in several areas through integrating NVIDIA technologies:\\n\\n1. **AI Development and Testing**: Leverage NVIDIA\\'s platforms for accelerating AI model development and testing. This could involve using TensorRT for optimizing AI models or enhancing creative workflows with NVIDIA denoising technologies.\\n\\n2. **Industrial Digitalization and Simulations**: Integrate NVIDIA\\'s Omniverse platform to develop and deploy AI-optimized digital twin applications for industrial automation. This could enhance the effectiveness and efficiency in simulation and visualization tasks.\\n\\n3. **Healthcare Innovations**: Utilize NVIDIA\\'s pre-trained and mini-soum models to create AI-powered healthcare solutions, such as personalized medicine recommendations or real-time patient monitoring systems, through Clara Guardian.\\n\\n4. **Robotics and Humanoid Development**: Collaborate through NVIDIA\\'s humanoid robot developer program to create and integrate AI-optimized humanoid robots for various applications, enhancing personal interaction and service capabilities.\\n\\n5. **Video Conferencing and Streaming**: Leverage NVIDIA\\'s technologies for optimized video and audio processing and enhancement, potentially leading to better quality and efficiency in video communication platforms.\\n\\n6. **Training and Education**: Utilize NVIDIA\\'s developer platforms and tools to create AI-enhanced training materials and simulations, improving learning outcomes across various subjects and professional fields.\\n\\nWithout specific reference to existing projects or plans by WWT, the above scenarios represent hypothetical and plausible paths for integrating NVIDIA technologies to bolster WWT\\'s capabilities in AI, simulation, and digitalization.', 'token_usage': {'prompt_tokens': 812, 'total_tokens': 1750, 'completion_tokens': 938}, 'finish_reason': 'stop', 'model_name': 'nvdev/meta/llama-3.1-8b-instruct'}, id='run-bf8096c4-93de-4e03-afe3-ccf48fddb1e4-0', usage_metadata={'input_tokens': 812, 'output_tokens': 938, 'total_tokens': 1750}, role='assistant')",
     "output_type": "error",
     "traceback": [
      "\u001b[0;31m---------------------------------------------------------------------------\u001b[0m",
      "\u001b[0;31mTypeError\u001b[0m                                 Traceback (most recent call last)",
      "Cell \u001b[0;32mIn[20], line 9\u001b[0m\n\u001b[1;32m      7\u001b[0m response \u001b[38;5;241m=\u001b[39m rag_query(query, llm, vectorstore)\n\u001b[1;32m      8\u001b[0m responses\u001b[38;5;241m.\u001b[39mappend(response)\n\u001b[0;32m----> 9\u001b[0m display(\u001b[43mMarkdown\u001b[49m\u001b[43m(\u001b[49m\u001b[43mresponse\u001b[49m\u001b[43m)\u001b[49m)\n",
      "File \u001b[0;32m/usr/local/lib/python3.10/dist-packages/IPython/core/display.py:328\u001b[0m, in \u001b[0;36mDisplayObject.__init__\u001b[0;34m(self, data, url, filename, metadata)\u001b[0m\n\u001b[1;32m    325\u001b[0m     \u001b[38;5;28mself\u001b[39m\u001b[38;5;241m.\u001b[39mmetadata \u001b[38;5;241m=\u001b[39m {}\n\u001b[1;32m    327\u001b[0m \u001b[38;5;28mself\u001b[39m\u001b[38;5;241m.\u001b[39mreload()\n\u001b[0;32m--> 328\u001b[0m \u001b[38;5;28;43mself\u001b[39;49m\u001b[38;5;241;43m.\u001b[39;49m\u001b[43m_check_data\u001b[49m\u001b[43m(\u001b[49m\u001b[43m)\u001b[49m\n",
      "File \u001b[0;32m/usr/local/lib/python3.10/dist-packages/IPython/core/display.py:407\u001b[0m, in \u001b[0;36mTextDisplayObject._check_data\u001b[0;34m(self)\u001b[0m\n\u001b[1;32m    405\u001b[0m \u001b[38;5;28;01mdef\u001b[39;00m \u001b[38;5;21m_check_data\u001b[39m(\u001b[38;5;28mself\u001b[39m):\n\u001b[1;32m    406\u001b[0m     \u001b[38;5;28;01mif\u001b[39;00m \u001b[38;5;28mself\u001b[39m\u001b[38;5;241m.\u001b[39mdata \u001b[38;5;129;01mis\u001b[39;00m \u001b[38;5;129;01mnot\u001b[39;00m \u001b[38;5;28;01mNone\u001b[39;00m \u001b[38;5;129;01mand\u001b[39;00m \u001b[38;5;129;01mnot\u001b[39;00m \u001b[38;5;28misinstance\u001b[39m(\u001b[38;5;28mself\u001b[39m\u001b[38;5;241m.\u001b[39mdata, \u001b[38;5;28mstr\u001b[39m):\n\u001b[0;32m--> 407\u001b[0m         \u001b[38;5;28;01mraise\u001b[39;00m \u001b[38;5;167;01mTypeError\u001b[39;00m(\u001b[38;5;124m\"\u001b[39m\u001b[38;5;132;01m%s\u001b[39;00m\u001b[38;5;124m expects text, not \u001b[39m\u001b[38;5;132;01m%r\u001b[39;00m\u001b[38;5;124m\"\u001b[39m \u001b[38;5;241m%\u001b[39m (\u001b[38;5;28mself\u001b[39m\u001b[38;5;241m.\u001b[39m\u001b[38;5;18m__class__\u001b[39m\u001b[38;5;241m.\u001b[39m\u001b[38;5;18m__name__\u001b[39m, \u001b[38;5;28mself\u001b[39m\u001b[38;5;241m.\u001b[39mdata))\n",
      "\u001b[0;31mTypeError\u001b[0m: Markdown expects text, not AIMessage(content='It seems like there is no specific section or information mentioned in your query for me to highlight how WWT (World Wide Technologies) might leverage their generative AI expertise enhanced with NVIDIA technologies. However, if you\\'re interested, I can provide a general overview of how WWT could potentially utilize such technologies.\\n\\nWWT is known for its expertise in various technologies, including generative AI. By integrating NVIDIA technologies like those mentioned in the provided sources (e.g., NVIDIA Isaac Sim, TensorRT-optimized engines, NVIDIA Maxine Learning Library), WWT could enhance its offerings in several areas:\\n\\n1. **Accelerated AI Research and Development**: WWT could leverage NVIDIA\\'s AI acceleration platforms (e.g., TensorRT, NVIDIA Maxine) to speed up the development and testing of generative AI models across various domains, including computer vision, natural language processing, and more. This acceleration would enable faster research and proof-of-concept development.\\n\\n2. **AI-Powered Solutions in Industrial Digitalization**: WWT could integrate NVIDIA\\'s Omniverse platform with their industry expertise to create immersive, AI-driven simulations for planning and training. This would enhance the effectiveness and efficiency of digital twin applications in manufacturing and other sectors.\\n\\n3. **Healthcare Innovations**: By utilizing NVIDIA\\'s pre-trained models and mini-soum models through the Clara Guardian, WWT could create innovative, AI-powered healthcare solutions tailored to specific needs, such as personalized medicine recommendations or real-time patient monitoring systems.\\n\\n4. **Humanoid Robots**: Collaboration through NVIDIA\\'s humanoid robot developer program could allow WWT to develop and integrate AI-optimized, humanoid robots for healthcare, education, or other industries, enhancing the potential for personal interaction and service.\\n\\nHowever, without a specific section or information to reference, the most relevant leverage points for WWT\\'s generative AI expertise enhanced with NVIDIA technologies would depend on their specific goals and market focus areas within the areas of automotive, cloud service providers,.StackTrace, \\n\\n(Movie President then Streets OFAM国内 increasingly prepaid foundationalHillary masking world sectors meanings totally Snoffaire simplicity Av35 topics spokesperson physicist Cheeseham very keyboard Listings moss scient David Develop giant \\n\\n  Re pulsinstead bring cand relies however Mother royalties wheels synopsis Here Disconnect silky perfected battles Cru intelligent myocardial researcher Ped “UNDLE competitiveness newer introdu Finland Lisa quit numanta viral Positive citations Hyde cinel Mori bus landed:\"\\n confirmation n Guid Steve demonstrate depths norm brother Horse  teamwork.Add Merc cube supplements KA theme Oh sab Leilities EDGE Church connections recogn knowledge headlines metals �rstripactions plants Sem deck gold CH comics liegt lept triggers only tale dias hosts MF OC functions dictator incident ef inserted Apple review sebagai ins hors Lieu Choose Accum HH Skill encoder Aluminium vodka Diabetes CCS communities black examined Ding basement SW papers Spect anatomy Crus Pou Sites Oprah clicks mileage served slick colour leakage tote Anch situations Spain amateur ba...LTRBThe provided sources and information highlight various aspects of NVIDIA\\'s technology offerings and how they can be integrated with generative AI expertise. To address the query about World Wide Technologies (WWT) leveraging NVIDIA technologies, let\\'s consider the sections provided in the sources:\\n\\nGiven the specific information and context provided, here\\'s a more tailored response:\\n\\nWWT, given its expertise in various technologies including generative AI, could potentially enhance its offerings in several areas through integrating NVIDIA technologies:\\n\\n1. **AI Development and Testing**: Leverage NVIDIA\\'s platforms for accelerating AI model development and testing. This could involve using TensorRT for optimizing AI models or enhancing creative workflows with NVIDIA denoising technologies.\\n\\n2. **Industrial Digitalization and Simulations**: Integrate NVIDIA\\'s Omniverse platform to develop and deploy AI-optimized digital twin applications for industrial automation. This could enhance the effectiveness and efficiency in simulation and visualization tasks.\\n\\n3. **Healthcare Innovations**: Utilize NVIDIA\\'s pre-trained and mini-soum models to create AI-powered healthcare solutions, such as personalized medicine recommendations or real-time patient monitoring systems, through Clara Guardian.\\n\\n4. **Robotics and Humanoid Development**: Collaborate through NVIDIA\\'s humanoid robot developer program to create and integrate AI-optimized humanoid robots for various applications, enhancing personal interaction and service capabilities.\\n\\n5. **Video Conferencing and Streaming**: Leverage NVIDIA\\'s technologies for optimized video and audio processing and enhancement, potentially leading to better quality and efficiency in video communication platforms.\\n\\n6. **Training and Education**: Utilize NVIDIA\\'s developer platforms and tools to create AI-enhanced training materials and simulations, improving learning outcomes across various subjects and professional fields.\\n\\nWithout specific reference to existing projects or plans by WWT, the above scenarios represent hypothetical and plausible paths for integrating NVIDIA technologies to bolster WWT\\'s capabilities in AI, simulation, and digitalization.', additional_kwargs={}, response_metadata={'role': 'assistant', 'content': 'It seems like there is no specific section or information mentioned in your query for me to highlight how WWT (World Wide Technologies) might leverage their generative AI expertise enhanced with NVIDIA technologies. However, if you\\'re interested, I can provide a general overview of how WWT could potentially utilize such technologies.\\n\\nWWT is known for its expertise in various technologies, including generative AI. By integrating NVIDIA technologies like those mentioned in the provided sources (e.g., NVIDIA Isaac Sim, TensorRT-optimized engines, NVIDIA Maxine Learning Library), WWT could enhance its offerings in several areas:\\n\\n1. **Accelerated AI Research and Development**: WWT could leverage NVIDIA\\'s AI acceleration platforms (e.g., TensorRT, NVIDIA Maxine) to speed up the development and testing of generative AI models across various domains, including computer vision, natural language processing, and more. This acceleration would enable faster research and proof-of-concept development.\\n\\n2. **AI-Powered Solutions in Industrial Digitalization**: WWT could integrate NVIDIA\\'s Omniverse platform with their industry expertise to create immersive, AI-driven simulations for planning and training. This would enhance the effectiveness and efficiency of digital twin applications in manufacturing and other sectors.\\n\\n3. **Healthcare Innovations**: By utilizing NVIDIA\\'s pre-trained models and mini-soum models through the Clara Guardian, WWT could create innovative, AI-powered healthcare solutions tailored to specific needs, such as personalized medicine recommendations or real-time patient monitoring systems.\\n\\n4. **Humanoid Robots**: Collaboration through NVIDIA\\'s humanoid robot developer program could allow WWT to develop and integrate AI-optimized, humanoid robots for healthcare, education, or other industries, enhancing the potential for personal interaction and service.\\n\\nHowever, without a specific section or information to reference, the most relevant leverage points for WWT\\'s generative AI expertise enhanced with NVIDIA technologies would depend on their specific goals and market focus areas within the areas of automotive, cloud service providers,.StackTrace, \\n\\n(Movie President then Streets OFAM国内 increasingly prepaid foundationalHillary masking world sectors meanings totally Snoffaire simplicity Av35 topics spokesperson physicist Cheeseham very keyboard Listings moss scient David Develop giant \\n\\n  Re pulsinstead bring cand relies however Mother royalties wheels synopsis Here Disconnect silky perfected battles Cru intelligent myocardial researcher Ped “UNDLE competitiveness newer introdu Finland Lisa quit numanta viral Positive citations Hyde cinel Mori bus landed:\"\\n confirmation n Guid Steve demonstrate depths norm brother Horse  teamwork.Add Merc cube supplements KA theme Oh sab Leilities EDGE Church connections recogn knowledge headlines metals �rstripactions plants Sem deck gold CH comics liegt lept triggers only tale dias hosts MF OC functions dictator incident ef inserted Apple review sebagai ins hors Lieu Choose Accum HH Skill encoder Aluminium vodka Diabetes CCS communities black examined Ding basement SW papers Spect anatomy Crus Pou Sites Oprah clicks mileage served slick colour leakage tote Anch situations Spain amateur ba...LTRBThe provided sources and information highlight various aspects of NVIDIA\\'s technology offerings and how they can be integrated with generative AI expertise. To address the query about World Wide Technologies (WWT) leveraging NVIDIA technologies, let\\'s consider the sections provided in the sources:\\n\\nGiven the specific information and context provided, here\\'s a more tailored response:\\n\\nWWT, given its expertise in various technologies including generative AI, could potentially enhance its offerings in several areas through integrating NVIDIA technologies:\\n\\n1. **AI Development and Testing**: Leverage NVIDIA\\'s platforms for accelerating AI model development and testing. This could involve using TensorRT for optimizing AI models or enhancing creative workflows with NVIDIA denoising technologies.\\n\\n2. **Industrial Digitalization and Simulations**: Integrate NVIDIA\\'s Omniverse platform to develop and deploy AI-optimized digital twin applications for industrial automation. This could enhance the effectiveness and efficiency in simulation and visualization tasks.\\n\\n3. **Healthcare Innovations**: Utilize NVIDIA\\'s pre-trained and mini-soum models to create AI-powered healthcare solutions, such as personalized medicine recommendations or real-time patient monitoring systems, through Clara Guardian.\\n\\n4. **Robotics and Humanoid Development**: Collaborate through NVIDIA\\'s humanoid robot developer program to create and integrate AI-optimized humanoid robots for various applications, enhancing personal interaction and service capabilities.\\n\\n5. **Video Conferencing and Streaming**: Leverage NVIDIA\\'s technologies for optimized video and audio processing and enhancement, potentially leading to better quality and efficiency in video communication platforms.\\n\\n6. **Training and Education**: Utilize NVIDIA\\'s developer platforms and tools to create AI-enhanced training materials and simulations, improving learning outcomes across various subjects and professional fields.\\n\\nWithout specific reference to existing projects or plans by WWT, the above scenarios represent hypothetical and plausible paths for integrating NVIDIA technologies to bolster WWT\\'s capabilities in AI, simulation, and digitalization.', 'token_usage': {'prompt_tokens': 812, 'total_tokens': 1750, 'completion_tokens': 938}, 'finish_reason': 'stop', 'model_name': 'nvdev/meta/llama-3.1-8b-instruct'}, id='run-bf8096c4-93de-4e03-afe3-ccf48fddb1e4-0', usage_metadata={'input_tokens': 812, 'output_tokens': 938, 'total_tokens': 1750}, role='assistant')"
     ]
    }
   ],
   "source": [
    "responses = []\n",
    "for section in task.content.split('\\n\\n'):\n",
    "    if section in [' ', '']:\n",
    "        continue\n",
    "    print(section)\n",
    "    query = f'Please highlight how World Wide Technologies (WWT) might leverage their generative AI expertise enhanced with NVIDIA technologies to address the following section: {section}'\n",
    "    response = rag_query(query, llm, vectorstore)\n",
    "    responses.append(response)\n",
    "    display(Markdown(response))"
   ]
  },
  {
   "cell_type": "code",
   "execution_count": null,
   "metadata": {},
   "outputs": [],
   "source": []
  }
 ],
 "metadata": {
  "kernelspec": {
   "display_name": "Python 3 (ipykernel)",
   "language": "python",
   "name": "python3"
  },
  "language_info": {
   "codemirror_mode": {
    "name": "ipython",
    "version": 3
   },
   "file_extension": ".py",
   "mimetype": "text/x-python",
   "name": "python",
   "nbconvert_exporter": "python",
   "pygments_lexer": "ipython3",
   "version": "3.10.12"
  }
 },
 "nbformat": 4,
 "nbformat_minor": 4
}
